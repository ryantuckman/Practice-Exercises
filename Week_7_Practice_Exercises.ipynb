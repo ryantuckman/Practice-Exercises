{
  "nbformat": 4,
  "nbformat_minor": 0,
  "metadata": {
    "colab": {
      "provenance": []
    },
    "kernelspec": {
      "name": "python3",
      "display_name": "Python 3"
    },
    "language_info": {
      "name": "python"
    }
  },
  "cells": [
    {
      "cell_type": "markdown",
      "source": [
        "The following questions were created to supplement the required course material and should be completed using only the statements and other features we have learned so far. Try them first before looking at the solution. Do not hesitate to ask question during office hours or in our Q&A discussion platform if you need additional help."
      ],
      "metadata": {
        "id": "mX6yoGbQHUox"
      }
    },
    {
      "cell_type": "markdown",
      "source": [
        "**NOTE**: These practice exercises use the ***temp_co2data.txt***. This will need to be downloaded from Canvas.\n",
        "\n",
        "\n",
        "**YOU MUST UPLOAD THIS FILE TO YOUR DRIVE AND MAKE SURE TO NOT CHANGE THE NAME FOR COLAB TO READ THIS FILE!**\n",
        "\n",
        "\n",
        "You can use the following directory:\n",
        "```\n",
        "'/content/drive/MyDrive/temp_co2data.txt'\n",
        "```"
      ],
      "metadata": {
        "id": "rGV-aEZdHWn9"
      }
    },
    {
      "cell_type": "markdown",
      "source": [
        "To read files on google drive, you must first mount your drive by running the following cell:"
      ],
      "metadata": {
        "id": "AnGiU_n1LDW5"
      }
    },
    {
      "cell_type": "code",
      "source": [
        "from google.colab import drive\n",
        "drive.mount('/content/drive') "
      ],
      "metadata": {
        "id": "EKxHrB_8axit"
      },
      "execution_count": null,
      "outputs": []
    },
    {
      "cell_type": "markdown",
      "source": [
        "**Question 1**: Write a program that reads the `temp_co2data.txt` file and determines the year with the highest global emissions of CO2."
      ],
      "metadata": {
        "id": "dmXzprEHHWwU"
      }
    },
    {
      "cell_type": "code",
      "source": [
        "### START CODE ### (approx. 11 lines)\n",
        "\n",
        "### END CODE ###"
      ],
      "metadata": {
        "id": "wNZuacqAaz4b"
      },
      "execution_count": null,
      "outputs": []
    },
    {
      "cell_type": "markdown",
      "source": [
        "**Question 2**: Write a function `data_by_year` that reads the `temp_co2data.txt` file and takes a year as an input to return the global average temperature and CO2 emissions for that year. If the year is not in the data, the program should return some kind of error message."
      ],
      "metadata": {
        "id": "LNb8sygQH3m3"
      }
    },
    {
      "cell_type": "code",
      "execution_count": 3,
      "metadata": {
        "id": "wbvadPuGHKXX"
      },
      "outputs": [],
      "source": [
        "def data_by_year(year):\n",
        "    ### START CODE ### (approx. 8 lines)\n",
        "\n",
        "    ### END CODE ###"
      ]
    },
    {
      "cell_type": "code",
      "source": [
        "data_by_year(1890)"
      ],
      "metadata": {
        "id": "HD0bJyrMa6wM"
      },
      "execution_count": null,
      "outputs": []
    },
    {
      "cell_type": "markdown",
      "source": [
        "**Question 3**: Write a program that reads the `temp_co2data.txt` file and writes into a new, empty file `temp_co2data_fahrenheit.txt` that will contain the same data, but with the temperature values converted from Celsius to Fahrenheit. The new file should have the same format as the original file. \n",
        "\n",
        "The formula for Fahrenheit to Celsius is as follows:\n",
        "```\n",
        "F = C * 9/5 + 32\n",
        "```"
      ],
      "metadata": {
        "id": "lO6OzoisICq_"
      }
    },
    {
      "cell_type": "code",
      "source": [
        "### START CODE ### (approx. 7 lines)\n",
        "\n",
        "### END CODE ###"
      ],
      "metadata": {
        "id": "_oGIE5BSH11H"
      },
      "execution_count": 5,
      "outputs": []
    },
    {
      "cell_type": "markdown",
      "source": [
        "**Question 4**: Write a program that reads the file `temp_co2data.txt` and calculates the percentage change in CO2 emissions from one decade to the next for each decade."
      ],
      "metadata": {
        "id": "dW-7OsiuIPcM"
      }
    },
    {
      "cell_type": "code",
      "source": [
        "### START CODE ### (approx. 7 lines)\n",
        "\n",
        "### END CODE ###"
      ],
      "metadata": {
        "id": "0r_-X3IfbAH3"
      },
      "execution_count": null,
      "outputs": []
    },
    {
      "cell_type": "markdown",
      "source": [
        "**Question 5**: Create an empty CSV file. Write a function `dict_to_csv` that takes a dictionary and writes each key-value pair to a new row in a CSV file."
      ],
      "metadata": {
        "id": "nWnp6a9uIaiz"
      }
    },
    {
      "cell_type": "code",
      "source": [
        "# NOTE: replace filename with the name of your CSV file\n",
        "\n",
        "def dict_to_csv(dict_data, filename):\n",
        "    ### START CODE ### (approx. 3 lines)\n",
        "\n",
        "    ### END CODE ###"
      ],
      "metadata": {
        "id": "R02NxXpiH2aL"
      },
      "execution_count": 7,
      "outputs": []
    },
    {
      "cell_type": "markdown",
      "source": [
        "**Question 6**: Write a program that reads the `temp_co2data.txt` file and calculates the number of decades in which the temperature and CO2 levels have both increased or both decreased and prints the results to the console."
      ],
      "metadata": {
        "id": "nLkI3tQSIo9D"
      }
    },
    {
      "cell_type": "code",
      "source": [
        "### START CODE ### (approx. 16 lines)\n",
        "\n",
        "### END CODE ###"
      ],
      "metadata": {
        "id": "zxoM-0-KbEiX"
      },
      "execution_count": null,
      "outputs": []
    },
    {
      "cell_type": "markdown",
      "source": [
        "**Question 7**: Finish the following implementation for a program which reads the `temp_co2data.txt` file and creates a scatter plot showing the relationship between global average temperature and global emissions of CO2. The x-axis of the plot shows the temperatures, and the y-axis shows the CO2 emissions. Each data point on the plot corresponds to a year in the data.\n",
        "\n",
        "Do note that the starter file includes an `import` for `matplotlib`. If you do not have this library installed, you can install it using the line below to run your program.\n",
        "```\n",
        "pip install matplotlib\n",
        "```"
      ],
      "metadata": {
        "id": "--2xa3jlIxem"
      }
    },
    {
      "cell_type": "code",
      "source": [
        "import matplotlib.pyplot as plt\n",
        "\n",
        "### CODE STARTS HERE ###\n",
        "# read data from file\n",
        "### CODE ENDS HERE ###\n",
        "\n",
        "years = []\n",
        "temperatures = []\n",
        "co2_emissions = []\n",
        "\n",
        "### CODE STARTS HERE ### (approx. 5 lines of code)\n",
        "# extract year, temperature, and co2 emissions data\n",
        "### CODE ENDS HERE ###\n",
        "\n",
        "plt.scatter(temperatures, co2_emissions)\n",
        "plt.xlabel(\"Global Average Temperature (°C)\")\n",
        "plt.ylabel(\"CO2 Emissions (GtCO2)\")\n",
        "plt.title(Relationship between Global Temperature and CO2 Emissions\")\n",
        "plt.show()"
      ],
      "metadata": {
        "id": "SMvEcnuzbOCK"
      },
      "execution_count": null,
      "outputs": []
    },
    {
      "cell_type": "markdown",
      "source": [
        "**Question 8**: **CHALLENGE**: Linear regression is a useful statistical method used to find the relationship between a dependent variable and one or more independent variables. Linear regression models the relationship between the independent and dependent variables as a straight line, which is defined by an equation in form `y = mx + b`. The goal of linear regression is to find the best-fit line that minimizes the sum of squared differences between the predicted and actual values of the dependent variable.\n",
        "\n",
        "Write a program that predicts the global temperature for the next 10 decades using linear regression based on the data in the `temp_co2data.txt` file. \n",
        "\n",
        "Below, are equations to calculate `m` and `b`, where sigma represents the sum of all \n",
        "`xy's`, \n",
        "`x's`, \n",
        "`y's`, \n",
        "`x^2's`, or \n",
        "`y^2's`. Feel free to use the built-in `sum()` function. \n",
        "\n",
        "![best_fit_slope.png](data:image/png;base64,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)\n",
        "\n",
        "![best_fit_y-int.png](data:image/png;base64,iVBORw0KGgoAAAANSUhEUgAAAOUAAAA8BAMAAABr1mDCAAAAMFBMVEX///8AAAAAAAAAAAAAAAAAAAAAAAAAAAAAAAAAAAAAAAAAAAAAAAAAAAAAAAAAAAAv3aB7AAAAD3RSTlMAEDJEic2r72Z2mVQi3btWMYeLAAADyklEQVRYCe1YO28TQRAe++yLnQexaKiiWECJ5LRUyT9wKOhA544CoUQ0CIRki4oCyREljSNRUJqSgsiW6KBIkJBASCjuKJBwwCRHEsIwu7d3t3u3Pl+s8xUoU3hnZ+abuZ3dWe8uQCTNo0+9SMuQcmyoiU8vEl169czCPyG3kYLxodZD4ThT/RUZIqwcG3rhxHWW+ehyMduxoVnsuSEWllwuXjs+tOml1ODRrRWK2PqhC7u897b+CWa+7r90tEFok62IvjtZOg9CNo3Cg+i3ewAZbIie0lQ/0yJ/ZCH+dMRB6NxfANPuKhh9py88CG1zHeDcvtbUwufv6nj/SutIqANQA8vQvquFBoQLdkmWVCitHX3Z4A2A6lEJ8jQeTgEo9Hs5uyx0kc0srsr6+QFk6huyxOWz2KWYOwB5d5wBKFQGLTVpLjTUdlwXXDN3CNP61BZsMlirAUwduj5UKE0mZTcW5ZQVYx5ARf+xJkvpLqVg0dOrUFp7nmZU5LV1yaJ4ArsrTt/8ImiT9ykD5LUMsLzn6OlXgUIRKfPxqLkk2RlIUR0yHgsq8z4bnoHEVlcdPf0qUGiil3XPQs8Yx7I8g52B3Pf5Dg0vx6aabxtcrkILeFWtAR8b5CobiqSOm0rf67Dh5dmuhUuuTIU2B1BfcVWR7ewDVd0f9q1seFRJkMWSQKjQAu1o+k1TDUC9hZoqqiqplnRsk2Q7hjffAWjzN5XRgQQYzl73VA3O9WueQGH48Fo7tDN69axAZ3ADoBCrQM+9dz3nVhhX8DLnyoe2Qahk6JewJPTYF+7kQKfLhIuUoZgUhEowqYQlqWCL3nZedHa8fi9spJeEoJKZVMKSVLBeUV+u8wEWsBs20kuCUNnKL2FZ6vCG/Z3TzToiLUlKbdydBEJQ2btfwrLU4fP3fNoMq6MkUdAsnr+134hCJ68r2m1Er6SS96/zaOLR6634K0Pn4tSyqYMSbZG0bxGJO0b8Ejx1NAewzSqQ7UtEacVkh0dQjh88/ER/2jWA2SH1IsZNR+UEaY9OTQ12pChpxzWhmBm2ZE1nL01rPg12Kt0W/8MpraEcO5VaPfpJj/L2k8zWiX46J/UVPJ3XJuVd77dyfMf+pledSc8ycJaB/yED7DXqQ8oD4a9RvXSDWnj7jcXP3OnFZa9Ry7HfRBL5Lv4aVfFuU4n4HOWEv0axJ4wUib9GRV7vkv8Y9holvdAkH0Djkd/UhxxXNeaJiNhU+i80ibgc6YRNpf9CM9I8EQN2UzdTvk6yW93UsKeqREYVcsKnkl/vQiqt4B8hEipmo6Q3IAAAAABJRU5ErkJggg==)"
      ],
      "metadata": {
        "id": "scbNNL76JGnx"
      }
    },
    {
      "cell_type": "code",
      "source": [
        "import matplotlib.pyplot as plt\n",
        "\n",
        "### CODE STARTS HERE ### (approx. 2 lines)\n",
        "# read data from file\n",
        "### CODE ENDS HERE ###\n",
        "\n",
        "years = []\n",
        "temperatures = []\n",
        "co2_levels = []\n",
        "### CODE STARTS HERE ### (approx. 5 lines)\n",
        "# parse data and store in seperate lists, same as in Q6 solution\n",
        "### CODE ENDS HERE ###\n",
        "\n",
        "### CODE STARTS HERE ### (approx. 7 lines)\n",
        "n = # number of data points (years and temperatures)\n",
        "x_sum = # sum of years\n",
        "ysum = # sum of temperatures\n",
        "xy_sum = # sum of products of each year and corresponding temperature\n",
        "x_squared_sum = # sum of squares of the years\n",
        "m = # slope of regression line\n",
        "b = # intercept of regression line\n",
        "### CODE ENDS HERE ###\n",
        "\n",
        "predited_temps = []\n",
        "### START CODE HERE ### (approx. 3 lines)\n",
        "# predict the next 10 decades of temperatures\n",
        "### END CODE HERE ###\n",
        "\n",
        "years_to_plot = list(range(2020, 2120, 10))\n",
        "plt.plot(years_to_plot, predicted_temperatures, label='Predicted Temperatures') \n",
        "plt.scatter(years, temperatures, s=10, label='Actual Data')\n",
        "plt.xlabel('Year') \n",
        "plt.ylabel('Global Temperature (°C)') \n",
        "plt.title('Global Temperature Over Time') \n",
        "plt.legend() \n",
        "plt.show()"
      ],
      "metadata": {
        "id": "qeWeIHPcbRU2"
      },
      "execution_count": null,
      "outputs": []
    }
  ]
}