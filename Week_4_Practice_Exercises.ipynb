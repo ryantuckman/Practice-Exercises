{
  "nbformat": 4,
  "nbformat_minor": 0,
  "metadata": {
    "colab": {
      "provenance": []
    },
    "kernelspec": {
      "name": "python3",
      "display_name": "Python 3"
    },
    "language_info": {
      "name": "python"
    }
  },
  "cells": [
    {
      "cell_type": "markdown",
      "source": [
        "The following questions were created to supplement the required course material and should be completed using only the statements and other features we have learned so far. Try them first before looking at the solution. Do not hesitate to ask question during office hours or in our Q&A discussion platform if you need additional help."
      ],
      "metadata": {
        "id": "WchwuL-sAT2i"
      }
    },
    {
      "cell_type": "markdown",
      "source": [
        "**Question 1**: Take the following string and print identical string but without punctuation:\n",
        "\n",
        "\n",
        "```\n",
        "str = \"Lorem ipsum dolor sit amet, consectetur adipiscing elit. Etiam massa dui, consequat a posuere ac, semper convallis sem! Mauris vitae sapien at ligula-aliquet tempus. Vestibulum vitae turpis scelerisque, rutrum eros sed, vehicula libero. Suspendisse metus ante, semper in venenatis eu, rhoncus vel lectus? Vestibulum vestibulum vestibulum orci quis vestibulu; Aenean euismod, neque nec aliquam ornare, augue risus sagittis augue, eget volutpat quam felis vitae ipsum: donec nec dapibus lectus, et mollis odio.\"\n",
        "```\n",
        "\n"
      ],
      "metadata": {
        "id": "zOQzyxg_AcT8"
      }
    },
    {
      "cell_type": "code",
      "source": [
        "### START CODE ### (approx. 6 lines)\n",
        "\n",
        "### END CODE ###"
      ],
      "metadata": {
        "id": "jO2LedX2A3z6"
      },
      "execution_count": null,
      "outputs": []
    },
    {
      "cell_type": "markdown",
      "source": [
        "**Question 2**: Below is a text file represented as a string. On the left side of \"=\" is fruit. On the right side is their color. Print a list of fruits and a list of colors based on the text file. The list should NOT have duplicates entries.\n",
        "\n",
        "```\n",
        "txt = \"strawberry=red, apple=red, apple=green, blueberry=blue, pineapple=yellow, banana=yellow, orange=orange.\"\n",
        "```\n",
        "\n"
      ],
      "metadata": {
        "id": "aUZmgqLhAuD3"
      }
    },
    {
      "cell_type": "code",
      "source": [
        "### START CODE ### (approx. 12 lines)\n",
        "\n",
        "### END CODE ###"
      ],
      "metadata": {
        "id": "LoundYdTAtdl"
      },
      "execution_count": null,
      "outputs": []
    },
    {
      "cell_type": "markdown",
      "source": [
        "**Question 3**: Below is a shopping list of fruits. Print a new list with one rule: **no pomegranates**. Mutate the given list and return it excluding any element that contains pomegranates.\n",
        "\n",
        "```\n",
        "shopping_lst = [\"3 apples\", \"4 lemons\", \"orange\", \"pomegranate\",  \"bunch of grapes\", \"2 limes\", \"6 pomegranates\", \"2 grapefruit\"]\n",
        "```\n",
        "\n"
      ],
      "metadata": {
        "id": "NJFCordwA5hN"
      }
    },
    {
      "cell_type": "code",
      "source": [
        "### START CODE ### (approx. 4 lines)\n",
        "\n",
        "### END CODE ###"
      ],
      "metadata": {
        "id": "qfsRlpKSBBw1"
      },
      "execution_count": null,
      "outputs": []
    },
    {
      "cell_type": "markdown",
      "source": [
        "**`Question 4`**: Given the below list of tuples containing two integers each, print a list of tuples containing the quotient and remainder when the left number is divided by the right number.\n",
        "\n",
        "```\n",
        "num_list = [(7, 3), (8, 5), (8, 2), (223, 9)]\n",
        "```\n",
        "\n"
      ],
      "metadata": {
        "id": "_Y3DfXdABE4_"
      }
    },
    {
      "cell_type": "code",
      "source": [
        "### START CODE ### (approx. 6 lines)\n",
        "\n",
        "### END CODE ###"
      ],
      "metadata": {
        "id": "bEuurxPmBKd-"
      },
      "execution_count": null,
      "outputs": []
    },
    {
      "cell_type": "markdown",
      "source": [
        "**Question 5**: Below is a list of numbers represented as strings. Print a list where each string is converted to an integer representing the length of the string and also print the longest string.\n",
        "\n",
        "```\n",
        "num_list = [\"one\", \"three\", \"nine\", \"thirtytwo\", \"seven\", \"nineteen\", \"six\"]\n",
        "```\n",
        "\n"
      ],
      "metadata": {
        "id": "WMW8UTtQBOBa"
      }
    },
    {
      "cell_type": "code",
      "source": [
        "### START CODE ### (approx. 10 lines)\n",
        "\n",
        "### END CODE ###"
      ],
      "metadata": {
        "id": "MIDTvdS3Bbpo"
      },
      "execution_count": null,
      "outputs": []
    },
    {
      "cell_type": "markdown",
      "source": [
        "**Question 6**: Find the number of occurrences of the substring `\"bob\"` in the string `\"danbobobjackkurtbob\"`. Your program should print `3` because of the following occurrences:\n",
        "\n",
        "```\n",
        "dan(bob)objackkurtbob\n",
        "danbo(bob)jackkurtbob\n",
        "danbobobjackkurt(bob)\n",
        "```\n",
        "\n"
      ],
      "metadata": {
        "id": "xb-S3coJBfux"
      }
    },
    {
      "cell_type": "code",
      "source": [
        "### START CODE ### (approx. 6 lines)\n",
        "\n",
        "### END CODE ###"
      ],
      "metadata": {
        "id": "68sOyV-mBdyw"
      },
      "execution_count": null,
      "outputs": []
    },
    {
      "cell_type": "markdown",
      "source": [
        "**Question 7**: In last week's practice exercises, we determined if a given string is a palindrome. As a reminder, a string is a palindrome if it reads the same forward and backward. This time, write a function `is_palindrome` that determines if a given string is a palindrome or not. Check to see if the character at the first index of the string is equal to the character at the last index of the string and move inwards until the middle of the string has been reached. Hint: use `len()` to determine what the last index of the string is.\n",
        "\n",
        "Examples of palindromes: tacocat, racecar, madam, dad, level, 101, g2g"
      ],
      "metadata": {
        "id": "-tc9L6haBgbS"
      }
    },
    {
      "cell_type": "code",
      "source": [
        "def is_palindrome(str):\n",
        "  ### START CODE ### (approx. 5 lines)\n",
        "\n",
        "  ### END CODE ###"
      ],
      "metadata": {
        "id": "GmcPQCblBeRU"
      },
      "execution_count": null,
      "outputs": []
    },
    {
      "cell_type": "markdown",
      "source": [
        "**Question 8**: CHALLENGE: Another use of substrings is finding the longest palindromic substring given a string. Write a function `longest_palindrome` that returns the longest palindrome contained in a given string `s`. \n",
        "\n",
        "**Test Cases**:\n",
        "\n",
        "```\n",
        "Input: s = \"babad\" \n",
        "Output: \"bab\" \n",
        "Explanation: \"aba\" is also a valid answer.\n",
        "\n",
        "Input: s = \"cbbd\" \n",
        "Output: \"bb\"\n",
        "```\n",
        "**Constraints**:\n",
        "\n",
        "\n",
        "```\n",
        "1 <= len(s) <= 1000\n",
        "```\n",
        "```\n",
        "s consist of only digits and English letters.\n",
        "```\n",
        "\n",
        "\n"
      ],
      "metadata": {
        "id": "NaP1rwcDBg7P"
      }
    },
    {
      "cell_type": "code",
      "source": [
        "def longest_palindrome(s):\n",
        "  ### START CODE ### (approx. 18 lines)\n",
        "\n",
        "  ### END CODE ###"
      ],
      "metadata": {
        "id": "ei5E1qrHBcw9"
      },
      "execution_count": null,
      "outputs": []
    }
  ]
}