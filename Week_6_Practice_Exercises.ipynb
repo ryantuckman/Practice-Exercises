{
  "nbformat": 4,
  "nbformat_minor": 0,
  "metadata": {
    "colab": {
      "provenance": []
    },
    "kernelspec": {
      "name": "python3",
      "display_name": "Python 3"
    },
    "language_info": {
      "name": "python"
    }
  },
  "cells": [
    {
      "cell_type": "markdown",
      "source": [
        "The following questions were created to supplement the required course material and should be completed using only the statements and other features we have learned so far. Try them first before looking at the solution. Do not hesitate to ask question during office hours or in our Q&A discussion platform if you need additional help."
      ],
      "metadata": {
        "id": "R5tem-VA2tJJ"
      }
    },
    {
      "cell_type": "markdown",
      "source": [
        "**Question 1**: Identify the purpose of blanks `(1)`, `(2)`, `(3)`, `(4)`, and `(5)`. Determine how many parameters the following recursive function has based on the following recursive step present in the function:\n",
        "return __`(1)`__ + function(__`(2)`__[__`(3)`__], __`(4)`__[__`(5)`__])"
      ],
      "metadata": {
        "id": "3xskGQi62xzi"
      }
    },
    {
      "cell_type": "markdown",
      "source": [
        "**Question 2**: Write a recursive function that calculates the sum of the first `n` natural numbers."
      ],
      "metadata": {
        "id": "o9Sf5V8m3aXk"
      }
    },
    {
      "cell_type": "code",
      "execution_count": null,
      "metadata": {
        "id": "iPE-5eHK2nBS"
      },
      "outputs": [],
      "source": [
        "def sum_num(n):\n",
        "  ### START CODE ### (approx. 4 lines)\n",
        "\n",
        "  ### END CODE ###"
      ]
    },
    {
      "cell_type": "markdown",
      "source": [
        "**Question 3**: Given an integer `n`, create a recursive function that returns `True` if it is a power of two. Otherwise, return `False`. An integer `n` is a power of two if there exists an `x` such that `n == 2**x`."
      ],
      "metadata": {
        "id": "BSkMxLCO3sSm"
      }
    },
    {
      "cell_type": "code",
      "source": [
        "def isPowerOfTwo(n):\n",
        "  ### START CODE ### (approx. 5 lines)\n",
        "\n",
        "  ### END CODE ###"
      ],
      "metadata": {
        "id": "Rik46oRg317x"
      },
      "execution_count": null,
      "outputs": []
    },
    {
      "cell_type": "markdown",
      "source": [
        "**Question 4**: Count the number of digits in a given number using recursion."
      ],
      "metadata": {
        "id": "LO1duvwa370G"
      }
    },
    {
      "cell_type": "code",
      "source": [
        "def count_digits(n):\n",
        "  ### START CODE ### (approx. 4 lines)\n",
        "\n",
        "  ### END CODE ###"
      ],
      "metadata": {
        "id": "qqi3iDtq37Jb"
      },
      "execution_count": null,
      "outputs": []
    },
    {
      "cell_type": "markdown",
      "source": [
        "**Question 5**: Write a recursive function that takes a non-negative integer as input and returns the integer with its digits reversed. The function should use integer division and modulo operators to extract the rightmost digit of the integer, and then remove that digit using integer division. For example, given the input integer `1234`, the function should return the integer `4321`."
      ],
      "metadata": {
        "id": "e54xDZNQ4CPm"
      }
    },
    {
      "cell_type": "code",
      "source": [
        "def reverse_digits(n):  \n",
        "  ### START CODE ### (approx. 7 lines)\n",
        "\n",
        "  ### END CODE ###"
      ],
      "metadata": {
        "id": "oQn33r7q4KVL"
      },
      "execution_count": null,
      "outputs": []
    },
    {
      "cell_type": "markdown",
      "source": [
        "**Question 6**: Write a function that takes a string as input and returns a list of all possible permutations of that string. A permutation is defined as any rearrangement of the characters in the string. For example, given the input string `\"abc\"`, the function should return a list containing the strings `\"abc\"`, `\"acb\"`, `\"bac\"`, `\"bca\"`, `\"cab\"`, and `\"cba\"`. The function should use recursion to solve the problem, breaking it down into subproblems of finding permutations of substrings of the input string. The function should handle strings of any length and should not produce any duplicates in the output list."
      ],
      "metadata": {
        "id": "NLNyZ7qO4NCR"
      }
    },
    {
      "cell_type": "code",
      "source": [
        "def permutations(s): \n",
        "  ### START CODE ### (approx. 7 lines)\n",
        "\n",
        "  ### END CODE ###"
      ],
      "metadata": {
        "id": "7S_lMqzF4XFT"
      },
      "execution_count": null,
      "outputs": []
    },
    {
      "cell_type": "markdown",
      "source": [
        "**Question 7**: The Fibonacci Numbers, commonly denoted as `F(N)` form a sequence called the **Fibonacci Sequence**, such that each number is the sum of the preceding ones, starting from `1` and `0`. That is,\n",
        "```\n",
        "F(0) = 0, F(1) = 1\n",
        "F(n) = F(n - 1) + F(n - 2), for n > 1\n",
        "```\n",
        "Given `n`, calculate `F(n)` recursively. "
      ],
      "metadata": {
        "id": "jDsv9A-V4f_d"
      }
    },
    {
      "cell_type": "code",
      "source": [
        "def fibonacci(n):\n",
        "  ### START CODE ### (approx. 5 lines)\n",
        "\n",
        "  ### END CODE ###"
      ],
      "metadata": {
        "id": "SsYPxB154p2w"
      },
      "execution_count": null,
      "outputs": []
    },
    {
      "cell_type": "markdown",
      "source": [
        "**Question 8**: Implement a recursive function to calculate the nth number in the **Fibonacci sequence**. The function will use **memoization** as a performance optimizing strategy. This is when the function will store the results of expensive function calls and returns the cached result when the same inputs occur again. In this case, the `memo` dictionary is used to store the previously computed values of the Fibonacci sequence, so that the function can avoid re-computing values that have already been computed.\n",
        "\n",
        "When the function is called with an argument `n`, it first checks if the result for that value of `n` is already in the `memo` dictionary. If it is, the function simply returns that result. If it is not, the function proceeds to compute the nth number in the Fibonacci sequence using recursion and stores the result in the memo dictionary for future use."
      ],
      "metadata": {
        "id": "X9yCU9pc4vmv"
      }
    },
    {
      "cell_type": "code",
      "source": [
        "def nthFibonacci(n, memo={}):\n",
        "  ### START CODE HERE ###\n",
        "  if\n",
        "    return\n",
        "  if\n",
        "    return\n",
        "  else:\n",
        "\n",
        "  return   \n",
        "  ### END CODE HERE ###"
      ],
      "metadata": {
        "id": "o_-oqJhP4__W"
      },
      "execution_count": null,
      "outputs": []
    }
  ]
}