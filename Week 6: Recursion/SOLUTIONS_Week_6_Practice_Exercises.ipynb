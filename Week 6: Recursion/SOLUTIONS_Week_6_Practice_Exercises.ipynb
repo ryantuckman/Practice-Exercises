{
  "nbformat": 4,
  "nbformat_minor": 0,
  "metadata": {
    "colab": {
      "provenance": []
    },
    "kernelspec": {
      "name": "python3",
      "display_name": "Python 3"
    },
    "language_info": {
      "name": "python"
    }
  },
  "cells": [
    {
      "cell_type": "markdown",
      "source": [
        "The following questions were created to supplement the required course material and should be completed using only the statements and other features we have learned so far. Try them first before looking at the solution. Do not hesitate to ask question during office hours or in our Q&A discussion platform if you need additional help."
      ],
      "metadata": {
        "id": "R5tem-VA2tJJ"
      }
    },
    {
      "cell_type": "markdown",
      "source": [
        "**Question 1**: Identify the purpose of blanks `(1)`, `(2)`, `(3)`, `(4)`, and `(5)`. Determine how many parameters the following recursive function has based on the following recursive step present in the function:\n",
        "return __`(1)`__ + function(__`(2)`__[__`(3)`__], __`(4)`__[__`(5)`__])"
      ],
      "metadata": {
        "id": "3xskGQi62xzi"
      }
    },
    {
      "cell_type": "markdown",
      "source": [
        "\n",
        "\n",
        "```\n",
        "Based on the following recursive step, the function has two parameters. \n",
        "(1) - used to count a total that will compute the result which will be returned and passed to a higher frame in the stack until the original function call is satisfied\n",
        "(2) - a parameter of \"function\"\n",
        "(3) - an index of parameter (2)\n",
        "(4) - a parameter of \"function\"\n",
        "(5) - an index of a parameter\n",
        "```\n",
        "\n"
      ],
      "metadata": {
        "id": "2W-bm8-M5Q5W"
      }
    },
    {
      "cell_type": "markdown",
      "source": [
        "**Question 2**: Write a recursive function that calculates the sum of the first `n` natural numbers."
      ],
      "metadata": {
        "id": "o9Sf5V8m3aXk"
      }
    },
    {
      "cell_type": "code",
      "execution_count": 1,
      "metadata": {
        "id": "iPE-5eHK2nBS"
      },
      "outputs": [],
      "source": [
        "def sum_num(n):\n",
        "  ### START CODE ### (approx. 4 lines)\n",
        "  if n == 1:\n",
        "    return 1\n",
        "  else:\n",
        "    return n + sum_num(n-1)\n",
        "  ### END CODE ###"
      ]
    },
    {
      "cell_type": "code",
      "source": [
        "sum_num(10)"
      ],
      "metadata": {
        "colab": {
          "base_uri": "https://localhost:8080/"
        },
        "id": "InTXoMsj5Z3h",
        "outputId": "ca772644-7dfe-4e76-b713-b1a9eae9f6a1"
      },
      "execution_count": 2,
      "outputs": [
        {
          "output_type": "execute_result",
          "data": {
            "text/plain": [
              "55"
            ]
          },
          "metadata": {},
          "execution_count": 2
        }
      ]
    },
    {
      "cell_type": "markdown",
      "source": [
        "**Question 3**: Given an integer `n`, create a recursive function that returns `True` if it is a power of two. Otherwise, return `False`. An integer `n` is a power of two if there exists an `x` such that `n == 2**x`."
      ],
      "metadata": {
        "id": "BSkMxLCO3sSm"
      }
    },
    {
      "cell_type": "code",
      "source": [
        "def isPowerOfTwo(n):\n",
        "  ### START CODE ### (approx. 5 lines)\n",
        "  if n <= 0: # if num is less than or equals zero that means it's a negative hence not a power of 2\n",
        "    return False\n",
        "  while n % 2 == 0:\n",
        "    n = n/2 #divide by two\n",
        "  return n == 1 # if n == 1 then num is a power of 2 hence return true, otherwise false\n",
        "  ### END CODE ###"
      ],
      "metadata": {
        "id": "Rik46oRg317x"
      },
      "execution_count": 3,
      "outputs": []
    },
    {
      "cell_type": "code",
      "source": [
        "isPowerOfTwo(1024)"
      ],
      "metadata": {
        "colab": {
          "base_uri": "https://localhost:8080/"
        },
        "id": "iMXw7Uun5nyo",
        "outputId": "464ced16-0224-4922-a8a7-e7b09b39bbcf"
      },
      "execution_count": 4,
      "outputs": [
        {
          "output_type": "execute_result",
          "data": {
            "text/plain": [
              "True"
            ]
          },
          "metadata": {},
          "execution_count": 4
        }
      ]
    },
    {
      "cell_type": "code",
      "source": [
        "isPowerOfTwo(1026)"
      ],
      "metadata": {
        "colab": {
          "base_uri": "https://localhost:8080/"
        },
        "id": "GgxwtCcV5rEx",
        "outputId": "f757596b-e1ff-4cc7-964a-21d2dad2a091"
      },
      "execution_count": 6,
      "outputs": [
        {
          "output_type": "execute_result",
          "data": {
            "text/plain": [
              "False"
            ]
          },
          "metadata": {},
          "execution_count": 6
        }
      ]
    },
    {
      "cell_type": "markdown",
      "source": [
        "**Question 4**: Count the number of digits in a given number using recursion."
      ],
      "metadata": {
        "id": "LO1duvwa370G"
      }
    },
    {
      "cell_type": "code",
      "source": [
        "def count_digits(n):\n",
        "  ### START CODE ### (approx. 4 lines)\n",
        "  if n == 0:\n",
        "    return 0\n",
        "  else:\n",
        "    return 1 + count_digits(n//10)\n",
        "  ### END CODE ###"
      ],
      "metadata": {
        "id": "qqi3iDtq37Jb"
      },
      "execution_count": 7,
      "outputs": []
    },
    {
      "cell_type": "code",
      "source": [
        "count_digits(1058296048)"
      ],
      "metadata": {
        "colab": {
          "base_uri": "https://localhost:8080/"
        },
        "id": "qvGSh_jS503t",
        "outputId": "d15e6966-5dce-4854-f09a-5f9fe0a4d60d"
      },
      "execution_count": 8,
      "outputs": [
        {
          "output_type": "execute_result",
          "data": {
            "text/plain": [
              "10"
            ]
          },
          "metadata": {},
          "execution_count": 8
        }
      ]
    },
    {
      "cell_type": "markdown",
      "source": [
        "**Question 5**: Write a recursive function that takes a non-negative integer as input and returns the integer with its digits reversed. The function should use integer division and modulo operators to extract the rightmost digit of the integer, and then remove that digit using integer division. For example, given the input integer `1234`, the function should return the integer `4321`."
      ],
      "metadata": {
        "id": "e54xDZNQ4CPm"
      }
    },
    {
      "cell_type": "code",
      "source": [
        "def reverse_digits(n):  \n",
        "  ### START CODE ### (approx. 7 lines)\n",
        "  if n < 10:\n",
        "    return n\n",
        "  else:\n",
        "    last_digit = n % 10\n",
        "    remaining_digits = n // 10\n",
        "    reversed_remaining_digits = reverse_digits(remaining_digits)\n",
        "    return int(str(last_digit) + str(reversed_remaining_digits))\n",
        "  ### END CODE ###"
      ],
      "metadata": {
        "id": "oQn33r7q4KVL"
      },
      "execution_count": 9,
      "outputs": []
    },
    {
      "cell_type": "code",
      "source": [
        "reverse_digits(1234)"
      ],
      "metadata": {
        "colab": {
          "base_uri": "https://localhost:8080/"
        },
        "id": "IIP6E_tp594A",
        "outputId": "cdd4e4d1-4aeb-4abf-db23-5dded2aff0da"
      },
      "execution_count": 10,
      "outputs": [
        {
          "output_type": "execute_result",
          "data": {
            "text/plain": [
              "4321"
            ]
          },
          "metadata": {},
          "execution_count": 10
        }
      ]
    },
    {
      "cell_type": "markdown",
      "source": [
        "**Question 6**: Write a function that takes a string as input and returns a list of all possible permutations of that string. A permutation is defined as any rearrangement of the characters in the string. For example, given the input string `\"abc\"`, the function should return a list containing the strings `\"abc\"`, `\"acb\"`, `\"bac\"`, `\"bca\"`, `\"cab\"`, and `\"cba\"`. The function should use recursion to solve the problem, breaking it down into subproblems of finding permutations of substrings of the input string. The function should handle strings of any length and should not produce any duplicates in the output list."
      ],
      "metadata": {
        "id": "NLNyZ7qO4NCR"
      }
    },
    {
      "cell_type": "code",
      "source": [
        "def permutations(s): \n",
        "  ### START CODE ### (approx. 7 lines)\n",
        "  if len(s) == 1:\n",
        "    return [s]\n",
        "  result = []\n",
        "  for i, c in enumerate(s):\n",
        "    for p in permutations(s[:i] + s[i+1:]):\n",
        "      result.append(c + p)\n",
        "  return result\n",
        "  ### END CODE ###"
      ],
      "metadata": {
        "id": "7S_lMqzF4XFT"
      },
      "execution_count": 11,
      "outputs": []
    },
    {
      "cell_type": "code",
      "source": [
        "permutations(\"abc\")"
      ],
      "metadata": {
        "colab": {
          "base_uri": "https://localhost:8080/"
        },
        "id": "BK2D5QhJ6HyY",
        "outputId": "afdde19a-7a95-487e-a37b-2832838c2304"
      },
      "execution_count": 12,
      "outputs": [
        {
          "output_type": "execute_result",
          "data": {
            "text/plain": [
              "['abc', 'acb', 'bac', 'bca', 'cab', 'cba']"
            ]
          },
          "metadata": {},
          "execution_count": 12
        }
      ]
    },
    {
      "cell_type": "markdown",
      "source": [
        "**Question 7**: The Fibonacci Numbers, commonly denoted as `F(N)` form a sequence called the **Fibonacci Sequence**, such that each number is the sum of the preceding ones, starting from `1` and `0`. That is,\n",
        "```\n",
        "F(0) = 0, F(1) = 1\n",
        "F(n) = F(n - 1) + F(n - 2), for n > 1\n",
        "```\n",
        "Given `n`, calculate `F(n)` recursively. "
      ],
      "metadata": {
        "id": "jDsv9A-V4f_d"
      }
    },
    {
      "cell_type": "code",
      "source": [
        "def fibonacci(n):\n",
        "  ### START CODE ### (approx. 5 lines)\n",
        "  if n == 0:\n",
        "    return 0\n",
        "  if n == 1:\n",
        "    return 1\n",
        "  return fibonacci(n - 1) + fibonacci(n - 2)\n",
        "  ### END CODE ###"
      ],
      "metadata": {
        "id": "SsYPxB154p2w"
      },
      "execution_count": 13,
      "outputs": []
    },
    {
      "cell_type": "code",
      "source": [
        "for i in range(0,10):\n",
        "  print(fibonacci(i))"
      ],
      "metadata": {
        "colab": {
          "base_uri": "https://localhost:8080/"
        },
        "id": "N6xZjREy6RYd",
        "outputId": "60fb7811-bac7-496e-9ec0-deb994388dc3"
      },
      "execution_count": 19,
      "outputs": [
        {
          "output_type": "stream",
          "name": "stdout",
          "text": [
            "0\n",
            "1\n",
            "1\n",
            "2\n",
            "3\n",
            "5\n",
            "8\n",
            "13\n",
            "21\n",
            "34\n"
          ]
        }
      ]
    },
    {
      "cell_type": "code",
      "source": [
        "fibonacci(100) # Try running this and think about why it might take a while to form a result"
      ],
      "metadata": {
        "id": "Qi5NxMpE8JlC"
      },
      "execution_count": null,
      "outputs": []
    },
    {
      "cell_type": "markdown",
      "source": [
        "**Question 8**: Implement a recursive function to calculate the nth number in the **Fibonacci sequence**. The function will use **memoization** as a performance optimizing strategy. This is when the function will store the results of expensive function calls and returns the cached result when the same inputs occur again. In this case, the `memo` dictionary is used to store the previously computed values of the Fibonacci sequence, so that the function can avoid re-computing values that have already been computed.\n",
        "\n",
        "When the function is called with an argument `n`, it first checks if the result for that value of `n` is already in the `memo` dictionary. If it is, the function simply returns that result. If it is not, the function proceeds to compute the nth number in the Fibonacci sequence using recursion and stores the result in the memo dictionary for future use."
      ],
      "metadata": {
        "id": "X9yCU9pc4vmv"
      }
    },
    {
      "cell_type": "code",
      "source": [
        "def nthFibonacci(n, memo={}):\n",
        "  ### START CODE HERE ###\n",
        "  if n in memo:\n",
        "    return memo[n]\n",
        "  if n <= 1: \n",
        "    memo[n] = n\n",
        "    return n\n",
        "  else:\n",
        "    memo[n] = nthFibonacci(n-1, memo) + nthFibonacci(n-2, memo)\n",
        "  return memo[n]\n",
        "  ### END CODE HERE ###"
      ],
      "metadata": {
        "id": "o_-oqJhP4__W"
      },
      "execution_count": 22,
      "outputs": []
    },
    {
      "cell_type": "code",
      "source": [
        "nthFibonacci(100)"
      ],
      "metadata": {
        "colab": {
          "base_uri": "https://localhost:8080/"
        },
        "id": "ZJ6jASVB64bv",
        "outputId": "53bc3347-b01e-4506-afec-05bbd2ebb907"
      },
      "execution_count": 26,
      "outputs": [
        {
          "output_type": "execute_result",
          "data": {
            "text/plain": [
              "354224848179261915075"
            ]
          },
          "metadata": {},
          "execution_count": 26
        }
      ]
    },
    {
      "cell_type": "markdown",
      "source": [
        "**NOTICE:** nthFibonacci calculated the 100th number in sequence after 0 seconds but fibonacci struggles to be able to calculate the 100th number"
      ],
      "metadata": {
        "id": "ezqy40jo7iTM"
      }
    }
  ]
}