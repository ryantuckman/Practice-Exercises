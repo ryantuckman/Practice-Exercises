{
  "nbformat": 4,
  "nbformat_minor": 0,
  "metadata": {
    "colab": {
      "provenance": []
    },
    "kernelspec": {
      "name": "python3",
      "display_name": "Python 3"
    },
    "language_info": {
      "name": "python"
    }
  },
  "cells": [
    {
      "cell_type": "markdown",
      "source": [
        "The following questions were created to supplement the required course material and should be completed using only the statements and other features we have learned so far. Try them first before looking at the solution. Do not hesitate to ask question during office hours or in our Q&A discussion platform if you need additional help."
      ],
      "metadata": {
        "id": "hwanc7EwC4Yw"
      }
    },
    {
      "cell_type": "markdown",
      "source": [
        "**Question 1**: While running a program, a `NameError` occurs because a variable was not defined. Based on the following traceback, on what line number and in what function did the error occur?\n",
        "\n",
        "\n",
        "```\n",
        "Traceback: \n",
        "File \"example.py\", line 14, in <module>\n",
        "main() \n",
        "File \"example.py\", line 10, in main \n",
        "function_1() \n",
        "File \"example.py\", line 4, in function_1 \n",
        "function_2() \n",
        "File \"example.py\", line 7, in function_2 \n",
        "function_3() \n",
        "File \"example.py\", line 11, in function_3 \n",
        "print(some_variable) \n",
        "NameError: name 'some_variable' is not defined\n",
        "\n",
        "```\n",
        "\n"
      ],
      "metadata": {
        "id": "8DE_hN-wC76J"
      }
    },
    {
      "cell_type": "markdown",
      "source": [
        "**Question 2**: What will be printed when the following statements are executed?\n",
        "\n",
        "\n",
        "```\n",
        ">>> x = 10\n",
        ">>> x == 10\n",
        ">>> if x < 12:\n",
        "        x > 12\n",
        ">>> if x = 10\n",
        "        x = 10\n",
        "```\n",
        "\n"
      ],
      "metadata": {
        "id": "9tpSZBcuDQqn"
      }
    },
    {
      "cell_type": "code",
      "execution_count": null,
      "metadata": {
        "id": "bLQgOBY3CnvL"
      },
      "outputs": [],
      "source": [
        "x = 10"
      ]
    },
    {
      "cell_type": "code",
      "source": [
        "x == 10"
      ],
      "metadata": {
        "id": "as8jmdH7DkO-"
      },
      "execution_count": null,
      "outputs": []
    },
    {
      "cell_type": "code",
      "source": [
        "if x < 12:\n",
        "  x > 12"
      ],
      "metadata": {
        "id": "SJp7hMFUDm6f"
      },
      "execution_count": null,
      "outputs": []
    },
    {
      "cell_type": "code",
      "source": [
        "if x = 10\n",
        "  x = 10"
      ],
      "metadata": {
        "id": "184s7sxtDqrQ"
      },
      "execution_count": null,
      "outputs": []
    },
    {
      "cell_type": "markdown",
      "source": [
        "**Question 3**: Without using a Python interpreter, predict if the following statements will cause an error:\n",
        "\n",
        "* [1, 2, 3, 5, 6, 8, 10]\n",
        "\n",
        "* (25, 3, 7)\n",
        "\n",
        "* [green, red, blue]\n",
        "\n",
        "* [\"green\", \"4\", \"red\", \"7\"]\n",
        "\n",
        "* [\"green\", 4, \"red\", 7]"
      ],
      "metadata": {
        "id": "1AYmDzvbD1Vd"
      }
    },
    {
      "cell_type": "code",
      "source": [
        "[1, 2, 3, 5, 6, 8, 10]"
      ],
      "metadata": {
        "id": "BYoraKEtD8_Z"
      },
      "execution_count": null,
      "outputs": []
    },
    {
      "cell_type": "code",
      "source": [
        "(25, 3, 7)"
      ],
      "metadata": {
        "id": "xVAUqE06EBa4"
      },
      "execution_count": null,
      "outputs": []
    },
    {
      "cell_type": "code",
      "source": [
        "[green, red, blue]"
      ],
      "metadata": {
        "id": "xCswq6ZUECqj"
      },
      "execution_count": null,
      "outputs": []
    },
    {
      "cell_type": "code",
      "source": [
        "[\"green\", \"4\", \"red\", \"7\"]"
      ],
      "metadata": {
        "id": "68TYpr44EDoX"
      },
      "execution_count": null,
      "outputs": []
    },
    {
      "cell_type": "code",
      "source": [
        "[\"green\", 4, \"red\", 7]"
      ],
      "metadata": {
        "id": "zcn-tFxjEElh"
      },
      "execution_count": null,
      "outputs": []
    },
    {
      "cell_type": "markdown",
      "source": [
        "**Question 4**: Consider the following program:\n",
        "\n",
        "\n",
        "```\n",
        "def add(a, b): \n",
        "   # Returns the addition of a and b\n",
        " return a + b \n",
        "\n",
        "def subtract(a, b): \n",
        "  # Returns the subtraction of a and b\n",
        "   return a - b \n",
        "\n",
        "def multiply(a, b): \n",
        "  # Returns the multiplication of a and b\n",
        "   return a * b \n",
        "\n",
        "def divide(a, b): \n",
        "  # Returns the division of a and b\n",
        "   return a / b\n",
        "```\n",
        "\n",
        "Without using the Python interpreter, draw the stack diagram and determine the value that is printed at the end of the following execution:\n",
        "\n",
        "\n",
        "```\n",
        ">>> x = 7\n",
        ">>> y = 3\n",
        ">>> z = multiply(y, x)\n",
        ">>> z = multiply(x, x)\n",
        ">>> y = 6\n",
        ">>> x = subtract(z, y)\n",
        ">>> print(x)\n",
        "```\n",
        "\n"
      ],
      "metadata": {
        "id": "stfsKcGVEHj5"
      }
    },
    {
      "cell_type": "code",
      "source": [
        "x = 7\n",
        "y = 3\n",
        "z = multiply(y, x)\n",
        "z = multiply(x, x)\n",
        "y = 6\n",
        "x = subtract(z, y)\n",
        "print(x)"
      ],
      "metadata": {
        "id": "D75quGMuEZPE"
      },
      "execution_count": null,
      "outputs": []
    },
    {
      "cell_type": "markdown",
      "source": [
        "**Question 5**: A locked door features a keypad that allows a user to input a password to gain access to a room. The password is `124*`. Write a function `input_password` that takes in an input parameter and will set the locked status to `False` if the input matches the password. The locked status should initially begin as `True`."
      ],
      "metadata": {
        "id": "44kOoxgEEdvF"
      }
    },
    {
      "cell_type": "code",
      "source": [
        "def input_password(input):\n",
        "  ### START CODE ### (approx. 3 lines)\n",
        "\n",
        "  ### END CODE ###"
      ],
      "metadata": {
        "id": "cv8x2WoOEyCW"
      },
      "execution_count": null,
      "outputs": []
    },
    {
      "cell_type": "markdown",
      "source": [
        "**Question 6**: A game changes its difficulty setting based on player performance which is measured in the `score` parameter. Write a function `change_difficulty` that will return \"easy\" if the player scores less than 20, \"medium\" if the player scores greater than or equal to 20 but less than 50, or \"hard\" if the player scores greater than or equal to 50."
      ],
      "metadata": {
        "id": "3F3Z-FBPE922"
      }
    },
    {
      "cell_type": "code",
      "source": [
        "def change_difficulty(score):\n",
        "  ### START CODE ### (approx. 6 lines)\n",
        "\n",
        "  ### END CODE ###"
      ],
      "metadata": {
        "id": "BN_Pxj2CFGJx"
      },
      "execution_count": null,
      "outputs": []
    },
    {
      "cell_type": "markdown",
      "source": [
        "**Question 7**: Write a function `count_down` that uses a `for` loop to print 1 to 10 in reverse order."
      ],
      "metadata": {
        "id": "FLMT8B3OFRWP"
      }
    },
    {
      "cell_type": "code",
      "source": [
        "def count_down():\n",
        "  ### START CODE ### (approx. 4 lines)\n",
        "\n",
        "  ### END CODE ###"
      ],
      "metadata": {
        "id": "zrzj6WjUH5--"
      },
      "execution_count": null,
      "outputs": []
    },
    {
      "cell_type": "markdown",
      "source": [
        "**Question 8**: Write a function `FizzBuzz` that prints integers 1 to 100, but prints \"Fizz\" if the integer is divisible by three, \"Buzz\" if the integer is divisible by 5, and \"FizzBuzz\" if the integer is divisible by both 3 and 5. \n",
        "\n",
        "For example: `1, 2, Fizz, 4, Buzz, Fizz, 7, 8, Fizz, Buzz, 11, Fizz, 13, 14, FizzBuzz, 16, etc. `\n",
        "\n",
        "**CHALLENGE**: Use three or less conditional statements."
      ],
      "metadata": {
        "id": "7rEHZrdvFtOw"
      }
    },
    {
      "cell_type": "code",
      "source": [
        "def FizzBuzz():\n",
        "  ### START CODE ### (approx. 9 lines)\n",
        "\n",
        "  ### END CODE ###"
      ],
      "metadata": {
        "id": "EuDD-uryFa1q"
      },
      "execution_count": null,
      "outputs": []
    }
  ]
}
