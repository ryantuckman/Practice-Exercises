{
  "nbformat": 4,
  "nbformat_minor": 0,
  "metadata": {
    "colab": {
      "provenance": []
    },
    "kernelspec": {
      "name": "python3",
      "display_name": "Python 3"
    },
    "language_info": {
      "name": "python"
    }
  },
  "cells": [
    {
      "cell_type": "markdown",
      "source": [
        "The following questions were created to supplement the required course material and should be completed using only the statements and other features we have learned so far. Try them first before looking at the solution. Do not hesitate to ask question during office hours or in our Q&A discussion platform if you need additional help."
      ],
      "metadata": {
        "id": "CfgLNzZe4m-u"
      }
    },
    {
      "cell_type": "markdown",
      "source": [
        "**Question 1**: Write a function `is_present` that checks to check if a given key is in the following dictionary and returns `True` or `False` accordingly:\n",
        "\n",
        "```\n",
        "d = {1: 10, 2: 20, 3: 30, 4: 40, 5: 50, 6: 60}\n",
        "```\n",
        "\n"
      ],
      "metadata": {
        "id": "g5UzRzOZ4oqo"
      }
    },
    {
      "cell_type": "code",
      "source": [
        "d = {1: 10, 2: 20, 3: 30, 4: 40, 5: 50, 6: 60}\n",
        "def is_key_present(key):\n",
        "  ### START CODE ### (approx. 4 lines)\n",
        "\n",
        "  ### END CODE ###"
      ],
      "metadata": {
        "id": "sdr1y2aA4_qA"
      },
      "execution_count": null,
      "outputs": []
    },
    {
      "cell_type": "markdown",
      "source": [
        "**Question 2**: Consider the following nested list:\n",
        "\n",
        "```\n",
        "L = ['a', 'b', ['cc', 'dd', ['eee', 'fff']], 'g', 'h']\n",
        "```\n",
        "\n",
        "\n",
        "Create print statements to print the following:\n",
        "\n",
        "\n",
        "```\n",
        ">>> ['cc', 'dd', ['eee', 'fff']]\n",
        ">>> ['eee', 'fff']\n",
        ">>> eee\n",
        "```\n",
        "\n"
      ],
      "metadata": {
        "id": "SWtV9qr35BBy"
      }
    },
    {
      "cell_type": "code",
      "source": [
        "L = ['a', 'b', ['cc', 'dd', ['eee', 'fff']], 'g', 'h']\n",
        "### START CODE ### (approx. 3 lines)\n",
        "\n",
        "### END CODE ###"
      ],
      "metadata": {
        "id": "CZjnLrdw44aA"
      },
      "execution_count": null,
      "outputs": []
    },
    {
      "cell_type": "markdown",
      "source": [
        "**Question 3**: Write a program which gets the maximum and minimum values from the following dictionary:\n",
        "\n",
        "\n",
        "\n",
        "```\n",
        "my_dict = {'x': 500, 'y': 5874, 'z': 560}\n",
        "```\n",
        "\n"
      ],
      "metadata": {
        "id": "in2id_9f5Bir"
      }
    },
    {
      "cell_type": "code",
      "source": [
        "my_dict = {'x': 500, 'y': 5874, 'z': 560}\n",
        "### START CODE ### (approx. 9 lines)\n",
        "\n",
        "### END CODE ###"
      ],
      "metadata": {
        "id": "TTOTeAS344x5"
      },
      "execution_count": null,
      "outputs": []
    },
    {
      "cell_type": "markdown",
      "source": [
        "**Question 4**: Convert the following string to a dictionary such that all items on the left side of \"=\" is the key and all items on the right side are values.\n",
        "\n",
        "\n",
        "```\n",
        "str = \"Jan=January, Feb=February, Mar=March\"\n",
        "```\n",
        "\n"
      ],
      "metadata": {
        "id": "0x29J9pt5CKm"
      }
    },
    {
      "cell_type": "code",
      "source": [
        "str = \"Jan=January, Feb=February, Mar=March\"\n",
        "### START CODE ### (approx. 6 lines)\n",
        "\n",
        "### END CODE ###"
      ],
      "metadata": {
        "id": "Za8I6ySC447v"
      },
      "execution_count": null,
      "outputs": []
    },
    {
      "cell_type": "markdown",
      "source": [
        "**Question 5**: Given the following dictionary of students and their grade:\n",
        "\n",
        "\n",
        "\n",
        "```\n",
        "students = { \n",
        "'Ryan': 82, \n",
        "'Harsh': 95,\n",
        "'Philip': 89,\n",
        "'Christopher': 99, \n",
        "'Sara': 36, \n",
        "'Daniel': 94,\n",
        "'Kyle': 90\n",
        "}\n",
        "```\n",
        "\n",
        "\n",
        "\n",
        "Write a program which finds the student with the highest grade and prints that student's name."
      ],
      "metadata": {
        "id": "DQnyUyxz5Cqs"
      }
    },
    {
      "cell_type": "code",
      "source": [
        "students = { 'Ryan': 82, 'Harsh': 95,'Philip': 89,'Christopher': 99, 'Sara': 36, 'Daniel': 94,'Kyle': 90}\n",
        "### START CODE ### (approx. 7 lines)\n",
        "\n",
        "### END CODE ###"
      ],
      "metadata": {
        "id": "PqmGF6Nf45D5"
      },
      "execution_count": null,
      "outputs": []
    },
    {
      "cell_type": "markdown",
      "source": [
        "**Question 6**: In battleship, a player creates a board filled with either a ship or water. A ship is represented by `\"x\"` and water is represented by `\"o\"`. When a player takes a turn, they select a spot on the board to guess where their opponents ship is. Write a function `battleship` that given a 2d array that represents a board, and a 2d array that represents a turn, returns `True` if a player hit a ship and `False` otherwise. The second 2d array will only contain one `\"x\"`.\n",
        "\n",
        "Example:\n",
        "\n",
        "\n",
        "\n",
        "\n",
        "```\n",
        "board = [[\"x\", \"o\", \"o\"], [\"x\", \"x\", \"x\"], [\"o\", \"o\", \"o\"]]\n",
        "turn = [[\"o\", \"o\", \"o\"], [\"o\", \"x\", \"o\"], [\"o\", \"o\", \"o\"]]\n",
        "```\n",
        "\n",
        "\n",
        "\n",
        "```\n",
        ">>> battleship(board, turn)\n",
        "TRUE\n",
        "```\n",
        "\n"
      ],
      "metadata": {
        "id": "AtqWTTvI5DTj"
      }
    },
    {
      "cell_type": "code",
      "source": [
        "def battleship(board, turn):\n",
        "  ### START CODE ### (approx. 5 lines)\n",
        "\n",
        "  ### END CODE ###"
      ],
      "metadata": {
        "id": "0E5PSo2845MC"
      },
      "execution_count": null,
      "outputs": []
    },
    {
      "cell_type": "code",
      "source": [
        "board = [[\"x\", \"o\", \"o\"], [\"x\", \"x\", \"x\"], [\"o\", \"o\", \"o\"]]\n",
        "turn = [[\"o\", \"o\", \"o\"], [\"o\", \"x\", \"o\"], [\"o\", \"o\", \"o\"]]\n",
        "battleship(board, turn)"
      ],
      "metadata": {
        "id": "5_nAuopM8iXE"
      },
      "execution_count": null,
      "outputs": []
    },
    {
      "cell_type": "markdown",
      "source": [
        "**Question 7**: **CHALLENGE**:\n",
        "\n",
        "\n",
        "A **sentence** is a string of single-space separated words where each word consists only of lowercase letters.\n",
        "\n",
        "A word is **uncommon** if it appears exactly once in one of the sentences, and **does not appear** in the other sentence.\n",
        "\n",
        "Given two sentences `s1` and `s2`, write a function `uncommon` that returns a list of ***all the uncommon words***. You may return the answer in **any order**.\n",
        "\n",
        "\n",
        "\n",
        "\n",
        "Examples:\n",
        "\n",
        "\n",
        "```\n",
        "Input: s1 = \"this apple is sweet\", s2 = \"this apple is sour\"\n",
        "Output: [\"sweet\",\"sour\"]\n",
        "```\n",
        "\n",
        "\n",
        "\n",
        "\n",
        "\n",
        "```\n",
        "Input: s1 = \"apple apple\", s2 = \"banana\"\n",
        "Output: [\"banana\"]\n",
        "```\n",
        "\n",
        "\n",
        "\n",
        "\n",
        "\n",
        "\n",
        "\n",
        "Constraints:\n",
        "\n",
        "\n",
        "\n",
        "```\n",
        "1 <= s1.length, s2.length <= 200\n",
        "```\n",
        "```\n",
        "s1 and s2 consist of lowercase English letters and spaces.\n",
        "```\n",
        "```\n",
        "s1 and s2 do not have leading or trailing spaces.\n",
        "```\n",
        "```\n",
        "All the words in s1 and s2 are separated by a single space.\n",
        "```\n",
        "\n",
        "\n",
        "\n",
        "\n"
      ],
      "metadata": {
        "id": "RLfmIBub5Dzr"
      }
    },
    {
      "cell_type": "code",
      "source": [
        "def uncommon(st1, st2):\n",
        "  ### START CODE ### (approx. 12 lines)\n",
        "\n",
        "  ### END CODE ###"
      ],
      "metadata": {
        "id": "eThbvPRw45UP"
      },
      "execution_count": null,
      "outputs": []
    },
    {
      "cell_type": "code",
      "source": [
        "st1 = \"this apple is sweet\", st2 = \"this apple is sour\"\n",
        "uncommon(st1, st2)"
      ],
      "metadata": {
        "id": "5hl4hH1s8tIu"
      },
      "execution_count": null,
      "outputs": []
    },
    {
      "cell_type": "code",
      "source": [
        "st1 = \"apple apple\", st2 = \"banana\"\n",
        "uncommon(st1, st2)"
      ],
      "metadata": {
        "id": "XFfZaaGN8taE"
      },
      "execution_count": null,
      "outputs": []
    },
    {
      "cell_type": "markdown",
      "source": [
        "**Question 8**: **CHALLENGE**: \n",
        "\n",
        "You are given `row x col` grid representing a map where `grid[i][j] = 1` represents land and `grid[i][j] = 0` represents water.\n",
        "\n",
        "Grid cells are connected **horizontally/vertically** (not diagonally). The grid is completely surrounded by water, and there is exactly one island (i.e., one or more connected land cells).\n",
        "\n",
        "The island doesn't have \"lakes\", meaning the water inside isn't connected to the water around the island. One cell is a square with side length 1. The grid is rectangular, width and height don't exceed 100. Write a function `perimeter` that determines the perimeter of the island.\n",
        "\n",
        "Examples:\n",
        "\n",
        "\n",
        "```\n",
        "Input: grid = [[0,1,0,0],[1,1,1,0],[0,1,0,0],[1,1,0,0]]\n",
        "Output: 16\n",
        "```\n",
        "```\n",
        "Input: grid = [[1]]\n",
        "Output: 4\n",
        "```\n",
        "```\n",
        "Input: grid = [[1,0]]\n",
        "Output: 4\n",
        "```\n",
        "\n",
        "\n",
        "\n",
        "Constaints:\n",
        "```\n",
        "row == grid.length\n",
        "```\n",
        "```\n",
        "col == grid[i].length\n",
        "```\n",
        "```\n",
        "1 <= row, col <= 100\n",
        "```\n",
        "```\n",
        "grid[i][j] is 0 or 1.\n",
        "```\n",
        "```\n",
        "There is exactly one island in grid.\n",
        "```\n"
      ],
      "metadata": {
        "id": "2GBc9lAM5EW8"
      }
    },
    {
      "cell_type": "code",
      "source": [
        "def perimeter(grid):\n",
        "  ### START CODE ### (approx. 11 lines)\n",
        "\n",
        "  ### END CODE ###"
      ],
      "metadata": {
        "id": "GdgTmH_S45cP"
      },
      "execution_count": null,
      "outputs": []
    },
    {
      "cell_type": "code",
      "source": [
        "grid = [[0,1,0,0],[1,1,1,0],[0,1,0,0],[1,1,0,0]]\n",
        "perimeter(grid)"
      ],
      "metadata": {
        "id": "2DoAYpEr9Ens"
      },
      "execution_count": null,
      "outputs": []
    },
    {
      "cell_type": "code",
      "source": [
        "grid = [[1]]\n",
        "perimeter(grid)"
      ],
      "metadata": {
        "id": "h8MPsJBQ9Exl"
      },
      "execution_count": null,
      "outputs": []
    },
    {
      "cell_type": "code",
      "source": [
        "grid = [[1,0]]\n",
        "perimeter(grid)"
      ],
      "metadata": {
        "id": "fdbdVI779E6v"
      },
      "execution_count": null,
      "outputs": []
    }
  ]
}