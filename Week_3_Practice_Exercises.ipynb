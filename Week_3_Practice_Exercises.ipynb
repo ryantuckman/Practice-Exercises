{
  "nbformat": 4,
  "nbformat_minor": 0,
  "metadata": {
    "colab": {
      "provenance": []
    },
    "kernelspec": {
      "name": "python3",
      "display_name": "Python 3"
    },
    "language_info": {
      "name": "python"
    }
  },
  "cells": [
    {
      "cell_type": "markdown",
      "source": [
        "The following questions were created to supplement the required course material and should be completed using only the statements and other features we have learned so far. Try them first before looking at the solution. Do not hesitate to ask question during office hours or in our Q&A discussion platform if you need additional help."
      ],
      "metadata": {
        "id": "91DTeCDoLuwD"
      }
    },
    {
      "cell_type": "markdown",
      "source": [
        "**Question 1**: Write a function `divide` that takes a numerator and denominator as input and returns the result of the division but returns \"Cannot divide by zero.\" if there is a 0 in the denominator. What would happen if the program received a 0 in the denominator but did not check? "
      ],
      "metadata": {
        "id": "flPZcae-Lzc3"
      }
    },
    {
      "cell_type": "code",
      "source": [
        "def divide(numerator, denominator):\n",
        "  ### START CODE ### (approx. 3 lines)\n",
        "\n",
        "  ### END CODE ###"
      ],
      "metadata": {
        "id": "1AqRsgcnRflW"
      },
      "execution_count": null,
      "outputs": []
    },
    {
      "cell_type": "markdown",
      "source": [
        "**Question 2**: Write a function `count_vowels` that takes a parameter of a string and returns the number of vowels in that string. You can assume all inputs will be in the lowercase alphabet."
      ],
      "metadata": {
        "id": "k4b3besyMJ5q"
      }
    },
    {
      "cell_type": "code",
      "source": [
        "def count_vowels(string):\n",
        "  ### START CODE ### (approx. 6 lines)\n",
        "\n",
        "  ### END CODE ###"
      ],
      "metadata": {
        "id": "jq8DVCGgMPL5"
      },
      "execution_count": null,
      "outputs": []
    },
    {
      "cell_type": "markdown",
      "source": [
        "**Question 3**: Write a function `square_until_1000` which squares a number until it is greater than 1000 given an initial number."
      ],
      "metadata": {
        "id": "BAGdFfM6MZgz"
      }
    },
    {
      "cell_type": "code",
      "source": [
        "def square_until_1000(n):\n",
        "  ### START CODE ### (approx. 3 lines)\n",
        "\n",
        "  ### END CODE ###"
      ],
      "metadata": {
        "id": "VvPw7blqMfOT"
      },
      "execution_count": null,
      "outputs": []
    },
    {
      "cell_type": "markdown",
      "source": [
        "**Question 4**: Print one character of \"hello\" at a time alternating with a count from 1 to 5."
      ],
      "metadata": {
        "id": "wdQ3WyQDMech"
      }
    },
    {
      "cell_type": "code",
      "source": [
        "### START CODE ### (approx. 6 lines)\n",
        "\n",
        "### END CODE ###"
      ],
      "metadata": {
        "id": "9Xt2Y5aQM0Br"
      },
      "execution_count": null,
      "outputs": []
    },
    {
      "cell_type": "markdown",
      "source": [
        "**Question 5**: Given a list `[1, 2]` and a list `[\"a\", \"b\", \"c\"]`, use nested loops to print the following sequence:\n",
        "\n",
        "Sequence:\n",
        "\n",
        "```\n",
        "1\n",
        "a\n",
        "b\n",
        "2\n",
        "a\n",
        "b\n",
        "3\n",
        "a\n",
        "b\n",
        "```\n",
        "\n"
      ],
      "metadata": {
        "id": "VkRbDXBfM-LN"
      }
    },
    {
      "cell_type": "code",
      "source": [
        "### START CODE ### (approx. 4 lines)\n",
        "\n",
        "### END CODE ###"
      ],
      "metadata": {
        "id": "HAkSdpTXNVd8"
      },
      "execution_count": null,
      "outputs": []
    },
    {
      "cell_type": "markdown",
      "source": [
        "**Question 6**: Another most common use of nested loop is to print various star and number patterns. Use a nested loop to print the following pattern.\n",
        "\n",
        "Pattern:\n",
        "\n",
        "```\n",
        "*\n",
        "* *\n",
        "* * *\n",
        "* * * *\n",
        "* * * * *\n",
        "```\n",
        "\n"
      ],
      "metadata": {
        "id": "R93yvQATOLc9"
      }
    },
    {
      "cell_type": "code",
      "source": [
        "### START CODE ### (approx. 5 lines)\n",
        "\n",
        "### END CODE ###"
      ],
      "metadata": {
        "id": "zke3pPn9PenH"
      },
      "execution_count": null,
      "outputs": []
    },
    {
      "cell_type": "markdown",
      "source": [
        "**Question 7**: Use a single for loop to print the reversed string of the string `\"stressed\"`. Initialize an empty string which you fill with the reversed word. Hint: You can use the `+` operation to add a character to a string and `in` operation to traverse a string. "
      ],
      "metadata": {
        "id": "jf5ghrHmPjeb"
      }
    },
    {
      "cell_type": "code",
      "source": [
        "### START CODE ### (approx. 4 lines)\n",
        "\n",
        "### END CODE ###"
      ],
      "metadata": {
        "id": "td0kykYVQNOn"
      },
      "execution_count": null,
      "outputs": []
    },
    {
      "cell_type": "markdown",
      "source": [
        "**Question 8**: Another use of reversing a string is determining if a given string is a palindrome. Check to see if the string `\"tacocat\"` is a palindrome or not. A palindrome is a word, phrase, number, or other sequence of characters which reads the same forward and backward. Your program will perform the following steps:\n",
        "\n",
        "* Initialize the string `\"tacocat\"`.\n",
        "* Initialize an empty string `\"\"`.\n",
        "* Iterate through each letter in `\"tacocat\"`. For each iteration, add a character from `\"tacocat\"` to the empty string in reverse order.\n",
        "* Check to see if both strings are equal.\n",
        "\n",
        "To test if your code works, you can change the original string to other strings which are not palindromes. \n",
        "\n",
        "Examples of other palindromes: racecar, madam, dad, level, 101, g2g"
      ],
      "metadata": {
        "id": "TYYBnZujQZ8m"
      }
    },
    {
      "cell_type": "code",
      "source": [
        "### START CODE ### (approx. 8 lines)\n",
        "\n",
        "### END CODE ###"
      ],
      "metadata": {
        "id": "x36s0oYzRbO8"
      },
      "execution_count": null,
      "outputs": []
    }
  ]
}