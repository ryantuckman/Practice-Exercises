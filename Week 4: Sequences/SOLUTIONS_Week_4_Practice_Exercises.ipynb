{
  "nbformat": 4,
  "nbformat_minor": 0,
  "metadata": {
    "colab": {
      "provenance": []
    },
    "kernelspec": {
      "name": "python3",
      "display_name": "Python 3"
    },
    "language_info": {
      "name": "python"
    }
  },
  "cells": [
    {
      "cell_type": "markdown",
      "source": [
        "The following questions were created to supplement the required course material and should be completed using only the statements and other features we have learned so far. Try them first before looking at the solution. Do not hesitate to ask question during office hours or in our Q&A discussion platform if you need additional help."
      ],
      "metadata": {
        "id": "WchwuL-sAT2i"
      }
    },
    {
      "cell_type": "markdown",
      "source": [
        "**Question 1**: Take the following string and print identical string but without punctuation:\n",
        "\n",
        "\n",
        "```\n",
        "str = \"Lorem ipsum dolor sit amet, consectetur adipiscing elit. Etiam massa dui, consequat a posuere ac, semper convallis sem! Mauris vitae sapien at ligula-aliquet tempus. Vestibulum vitae turpis scelerisque, rutrum eros sed, vehicula libero. Suspendisse metus ante, semper in venenatis eu, rhoncus vel lectus? Vestibulum vestibulum vestibulum orci quis vestibulu; Aenean euismod, neque nec aliquam ornare, augue risus sagittis augue, eget volutpat quam felis vitae ipsum: donec nec dapibus lectus, et mollis odio.\"\n",
        "```\n",
        "\n"
      ],
      "metadata": {
        "id": "zOQzyxg_AcT8"
      }
    },
    {
      "cell_type": "code",
      "source": [
        "str = \"Lorem ipsum dolor sit amet, consectetur adipiscing elit. Etiam massa dui, consequat a posuere ac, semper convallis sem! Mauris vitae sapien at ligula-aliquet tempus. Vestibulum vitae turpis scelerisque, rutrum eros sed, vehicula libero. Suspendisse metus ante, semper in venenatis eu, rhoncus vel lectus? Vestibulum vestibulum vestibulum orci quis vestibulu; Aenean euismod, neque nec aliquam ornare, augue risus sagittis augue, eget volutpat quam felis vitae ipsum: donec nec dapibus lectus, et mollis odio.\"\n",
        "### START CODE ### (approx. 6 lines)\n",
        "punc = \".,!?;:-\"\n",
        "new_string = \"\"\n",
        "for char in str:\n",
        "    if char not in punc:\n",
        "        new_string += char\n",
        "print(new_string)\n",
        "### END CODE ###"
      ],
      "metadata": {
        "colab": {
          "base_uri": "https://localhost:8080/"
        },
        "id": "jO2LedX2A3z6",
        "outputId": "12ec653f-cb5c-41ea-fe85-18bb351f906c"
      },
      "execution_count": 3,
      "outputs": [
        {
          "output_type": "stream",
          "name": "stdout",
          "text": [
            "Lorem ipsum dolor sit amet consectetur adipiscing elit Etiam massa dui consequat a posuere ac semper convallis sem Mauris vitae sapien at ligulaaliquet tempus Vestibulum vitae turpis scelerisque rutrum eros sed vehicula libero Suspendisse metus ante semper in venenatis eu rhoncus vel lectus Vestibulum vestibulum vestibulum orci quis vestibulu Aenean euismod neque nec aliquam ornare augue risus sagittis augue eget volutpat quam felis vitae ipsum donec nec dapibus lectus et mollis odio\n"
          ]
        }
      ]
    },
    {
      "cell_type": "markdown",
      "source": [
        "**Question 2**: Below is a text file represented as a string. On the left side of \"=\" is fruit. On the right side is their color. Print a list of fruits and a list of colors based on the text file. The list should NOT have duplicates entries.\n",
        "\n",
        "```\n",
        "txt = \"strawberry=red, apple=red, apple=green, blueberry=blue, pineapple=yellow, banana=yellow, orange=orange.\"\n",
        "```\n",
        "\n"
      ],
      "metadata": {
        "id": "aUZmgqLhAuD3"
      }
    },
    {
      "cell_type": "code",
      "source": [
        "txt = \"strawberry=red, apple=red, apple=green, blueberry=blue, pineapple=yellow, banana=yellow, orange=orange.\"\n",
        "### START CODE ### (approx. 12 lines)\n",
        "line = txt.strip('.').split(', ')\n",
        "fruits = []\n",
        "colors = []\n",
        "for word in line:\n",
        "    fruit, color = word.split('=')\n",
        "    if fruit not in fruits:\n",
        "        fruits.append(fruit)\n",
        "    if color not in colors:\n",
        "        colors.append(color)\n",
        "print(fruits)\n",
        "print(colors)\n",
        "### END CODE ###"
      ],
      "metadata": {
        "colab": {
          "base_uri": "https://localhost:8080/"
        },
        "id": "LoundYdTAtdl",
        "outputId": "37e7a2bb-b8e5-4b54-a4f7-0e7675495786"
      },
      "execution_count": 4,
      "outputs": [
        {
          "output_type": "stream",
          "name": "stdout",
          "text": [
            "['strawberry', 'apple', 'blueberry', 'pineapple', 'banana', 'orange']\n",
            "['red', 'green', 'blue', 'yellow', 'orange']\n"
          ]
        }
      ]
    },
    {
      "cell_type": "markdown",
      "source": [
        "**Question 3**: Below is a shopping list of fruits. Print a new list with one rule: **no pomegranates**. Mutate the given list and return it excluding any element that contains pomegranates.\n",
        "\n",
        "```\n",
        "shopping_lst = [\"3 apples\", \"4 lemons\", \"orange\", \"pomegranate\",  \"bunch of grapes\", \"2 limes\", \"6 pomegranates\", \"2 grapefruit\"]\n",
        "```\n",
        "\n"
      ],
      "metadata": {
        "id": "NJFCordwA5hN"
      }
    },
    {
      "cell_type": "code",
      "source": [
        "shopping_lst = [\"3 apples\", \"4 lemons\", \"orange\", \"pomegranate\",  \"bunch of grapes\", \"2 limes\", \"6 pomegranates\", \"2 grapefruit\"]\n",
        "### START CODE ### (approx. 4 lines)\n",
        "for item in shopping_lst:\n",
        "    if \"pomegranate\" in item:\n",
        "        shopping_lst.remove(item)\n",
        "print(shopping_lst)\n",
        "### END CODE ###"
      ],
      "metadata": {
        "colab": {
          "base_uri": "https://localhost:8080/"
        },
        "id": "qfsRlpKSBBw1",
        "outputId": "28155103-316c-460f-c036-dd0d771381e0"
      },
      "execution_count": 5,
      "outputs": [
        {
          "output_type": "stream",
          "name": "stdout",
          "text": [
            "['3 apples', '4 lemons', 'orange', 'bunch of grapes', '2 limes', '2 grapefruit']\n"
          ]
        }
      ]
    },
    {
      "cell_type": "markdown",
      "source": [
        "**`Question 4`**: Given the below list of tuples containing two integers each, print a list of tuples containing the quotient and remainder when the left number is divided by the right number.\n",
        "\n",
        "```\n",
        "num_list = [(7, 3), (8, 5), (8, 2), (223, 9)]\n",
        "```\n",
        "\n"
      ],
      "metadata": {
        "id": "_Y3DfXdABE4_"
      }
    },
    {
      "cell_type": "code",
      "source": [
        "num_list = [(7, 3), (8, 5), (8, 2), (223, 9)]\n",
        "### START CODE ### (approx. 6 lines)\n",
        "result = []\n",
        "for tuple in num_list:\n",
        "    quot, rem = divmod(tuple[0], tuple[1])\n",
        "    result.append((quot, rem))\n",
        "print(result)\n",
        "### END CODE ###"
      ],
      "metadata": {
        "colab": {
          "base_uri": "https://localhost:8080/"
        },
        "id": "bEuurxPmBKd-",
        "outputId": "3db17733-a5ec-4c4e-aef9-94eae990f30f"
      },
      "execution_count": 6,
      "outputs": [
        {
          "output_type": "stream",
          "name": "stdout",
          "text": [
            "[(2, 1), (1, 3), (4, 0), (24, 7)]\n"
          ]
        }
      ]
    },
    {
      "cell_type": "markdown",
      "source": [
        "**Question 5**: Below is a list of numbers represented as strings. Print a list where each string is converted to an integer representing the length of the string and also print the longest string.\n",
        "\n",
        "```\n",
        "num_list = [\"one\", \"three\", \"nine\", \"thirtytwo\", \"seven\", \"nineteen\", \"six\"]\n",
        "```\n",
        "\n"
      ],
      "metadata": {
        "id": "WMW8UTtQBOBa"
      }
    },
    {
      "cell_type": "code",
      "source": [
        "num_list = [\"one\", \"three\", \"nine\", \"thirtytwo\", \"seven\", \"nineteen\", \"six\"]\n",
        "### START CODE ### (approx. 10 lines)\n",
        "lengths = []\n",
        "for num in num_list:\n",
        "    lengths.append(len(num))\n",
        "print(lengths)\n",
        "\n",
        "# to return longest_string you can also use max()\n",
        "longest_string = \"\"\n",
        "for num in num_list:\n",
        "    if len(num) > len(longest_string):\n",
        "        longest_string = num\n",
        "print(longest_string)\n",
        "### END CODE ###"
      ],
      "metadata": {
        "colab": {
          "base_uri": "https://localhost:8080/"
        },
        "id": "MIDTvdS3Bbpo",
        "outputId": "0f30d927-2f54-4481-df18-cf22913940d1"
      },
      "execution_count": 7,
      "outputs": [
        {
          "output_type": "stream",
          "name": "stdout",
          "text": [
            "[3, 5, 4, 9, 5, 8, 3]\n",
            "thirtytwo\n"
          ]
        }
      ]
    },
    {
      "cell_type": "markdown",
      "source": [
        "**Question 6**: Find the number of occurrences of the substring `\"bob\"` in the string `\"danbobobjackkurtbob\"`. Your program should print `3` because of the following occurrences:\n",
        "\n",
        "```\n",
        "dan(bob)objackkurtbob\n",
        "danbo(bob)jackkurtbob\n",
        "danbobobjackkurt(bob)\n",
        "```\n",
        "\n"
      ],
      "metadata": {
        "id": "xb-S3coJBfux"
      }
    },
    {
      "cell_type": "code",
      "source": [
        "### START CODE ### (approx. 6 lines)\n",
        "string1 = \"danbobobjackkurtbob\"\n",
        "substring2 = \"bob\"\n",
        "count = 0\n",
        "\n",
        "for char in range(len(string1)):\n",
        "   # generally we want to write code that can be reused such that if we changed \"bob\" to \"jack\" it would still work\n",
        "   if string1[char:char+len(substring2)] == substring2:\n",
        "     count += 1\n",
        "print(count)\n",
        "### END CODE ###"
      ],
      "metadata": {
        "colab": {
          "base_uri": "https://localhost:8080/"
        },
        "id": "68sOyV-mBdyw",
        "outputId": "71d41d86-d101-4570-e476-720884ef27b8"
      },
      "execution_count": 10,
      "outputs": [
        {
          "output_type": "stream",
          "name": "stdout",
          "text": [
            "3\n"
          ]
        }
      ]
    },
    {
      "cell_type": "markdown",
      "source": [
        "**Question 7**: In last week's practice exercises, we determined if a given string is a palindrome. As a reminder, a string is a palindrome if it reads the same forward and backward. This time, write a function `is_palindrome` that determines if a given string is a palindrome or not. Check to see if the character at the first index of the string is equal to the character at the last index of the string and move inwards until the middle of the string has been reached. Hint: use `len()` to determine what the last index of the string is.\n",
        "\n",
        "Examples of palindromes: tacocat, racecar, madam, dad, level, 101, g2g"
      ],
      "metadata": {
        "id": "-tc9L6haBgbS"
      }
    },
    {
      "cell_type": "code",
      "source": [
        "def is_palindrome(str):\n",
        "  ### START CODE ### (approx. 5 lines)\n",
        "  # here, we only need to traverse half of the string to check each character of the string\n",
        "  for char in range(0, int(len(str)/2)):\n",
        "    # here, we can find the character at index char and index char from the end\n",
        "    if str[char] != str[len(str)-char-1]:\n",
        "      return False\n",
        "    return True\n",
        "  ### END CODE ###"
      ],
      "metadata": {
        "id": "GmcPQCblBeRU"
      },
      "execution_count": 12,
      "outputs": []
    },
    {
      "cell_type": "code",
      "source": [
        "is_palindrome(\"tacocat\")"
      ],
      "metadata": {
        "colab": {
          "base_uri": "https://localhost:8080/"
        },
        "id": "N6Rsc-5gEjRq",
        "outputId": "19a9877a-7028-4d21-f296-7350ea99ab42"
      },
      "execution_count": 13,
      "outputs": [
        {
          "output_type": "execute_result",
          "data": {
            "text/plain": [
              "True"
            ]
          },
          "metadata": {},
          "execution_count": 13
        }
      ]
    },
    {
      "cell_type": "code",
      "source": [
        "is_palindrome(\"palindrome\")"
      ],
      "metadata": {
        "colab": {
          "base_uri": "https://localhost:8080/"
        },
        "id": "eJTSWT08EmpZ",
        "outputId": "9afcc8eb-4673-4542-802e-c801333f10d3"
      },
      "execution_count": 15,
      "outputs": [
        {
          "output_type": "execute_result",
          "data": {
            "text/plain": [
              "False"
            ]
          },
          "metadata": {},
          "execution_count": 15
        }
      ]
    },
    {
      "cell_type": "markdown",
      "source": [
        "**Question 8**: CHALLENGE: Another use of substrings is finding the longest palindromic substring given a string. Write a function `longest_palindrome` that returns the longest palindrome contained in a given string `s`. \n",
        "\n",
        "**Test Cases**:\n",
        "\n",
        "```\n",
        "Input: s = \"babad\" \n",
        "Output: \"bab\" \n",
        "Explanation: \"aba\" is also a valid answer.\n",
        "\n",
        "Input: s = \"cbbd\" \n",
        "Output: \"bb\"\n",
        "```\n",
        "**Constraints**:\n",
        "\n",
        "\n",
        "```\n",
        "1 <= len(s) <= 1000\n",
        "```\n",
        "```\n",
        "s consist of only digits and English letters.\n",
        "```\n",
        "\n",
        "\n"
      ],
      "metadata": {
        "id": "NaP1rwcDBg7P"
      }
    },
    {
      "cell_type": "code",
      "source": [
        "def longest_palindrome(s):\n",
        "  ### START CODE ### (approx. 18 lines)\n",
        "  '''\n",
        "  BIG IDEAS: \n",
        "  Use two \"pointers\" and deal with even and odd cases separately\n",
        "  1. Iterate over a for loop\n",
        "  2. Start from \"center\"\n",
        "  3. Iterate through a while loop\n",
        "  4. Check if the length of the substring is > 1\n",
        "  '''\n",
        "  # If length is 0 or 1, we can simply return our string\n",
        "  if len(s) <= 1:\n",
        "    return s\n",
        "\n",
        "  longest_substring = []\n",
        "\n",
        "  for index in range(len(s)): # iterate for each character in string\n",
        "\n",
        "    # ODD LENGTH\n",
        "    left = right = index # creation of two \"pointers\" at \"center\"\n",
        "\n",
        "    # while left and right pointers in range of string and characters are same\n",
        "    while left >= 0 and right < len(s) and s[left] == s[right]:\n",
        "\n",
        "      # if current substring > longest saved substring, save current as longest\n",
        "      if right - left + 1 > len(longest_substring):\n",
        "        longest_substring = s[left:right + 1]\n",
        "\n",
        "      # move pointers outward\n",
        "      left -= 1\n",
        "      right += 1\n",
        "\n",
        "    # EVEN LENGTH\n",
        "    # pointers do not start on the same character\n",
        "    left = index - 1\n",
        "    right = index\n",
        "\n",
        "    # while left and right pointers in range of string and characters are same\n",
        "    while left >= 0 and right < len(s) and s[left] == s[right]:\n",
        "\n",
        "      # if current substring > longest saved substring, save current as longest\n",
        "      if right - left + 1 > len(longest_substring):\n",
        "        longest_substring = s[left:right + 1]\n",
        "\n",
        "        # move pointers outward\n",
        "        left -= 1\n",
        "        right += 1\n",
        "\n",
        "  return longest_substring\n",
        "  ### END CODE ###"
      ],
      "metadata": {
        "id": "ei5E1qrHBcw9"
      },
      "execution_count": 18,
      "outputs": []
    },
    {
      "cell_type": "code",
      "source": [
        "longest_palindrome(\"babad\")"
      ],
      "metadata": {
        "colab": {
          "base_uri": "https://localhost:8080/",
          "height": 35
        },
        "id": "97JR5byVGOak",
        "outputId": "b6fdd4e8-0be1-4566-bc70-6e36a9407cc5"
      },
      "execution_count": 19,
      "outputs": [
        {
          "output_type": "execute_result",
          "data": {
            "text/plain": [
              "'bab'"
            ],
            "application/vnd.google.colaboratory.intrinsic+json": {
              "type": "string"
            }
          },
          "metadata": {},
          "execution_count": 19
        }
      ]
    },
    {
      "cell_type": "code",
      "source": [
        "longest_palindrome(\"cbbd\")"
      ],
      "metadata": {
        "colab": {
          "base_uri": "https://localhost:8080/",
          "height": 35
        },
        "id": "4gJRMbayGhzA",
        "outputId": "09c77223-7a20-448a-f0c6-5cb5b1ff780b"
      },
      "execution_count": 20,
      "outputs": [
        {
          "output_type": "execute_result",
          "data": {
            "text/plain": [
              "'bb'"
            ],
            "application/vnd.google.colaboratory.intrinsic+json": {
              "type": "string"
            }
          },
          "metadata": {},
          "execution_count": 20
        }
      ]
    }
  ]
}