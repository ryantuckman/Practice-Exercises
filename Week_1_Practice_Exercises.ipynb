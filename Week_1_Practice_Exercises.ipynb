{
  "nbformat": 4,
  "nbformat_minor": 0,
  "metadata": {
    "colab": {
      "provenance": []
    },
    "kernelspec": {
      "name": "python3",
      "display_name": "Python 3"
    },
    "language_info": {
      "name": "python"
    }
  },
  "cells": [
    {
      "cell_type": "markdown",
      "source": [
        "The following questions were created to supplement the required course material and should be completed using only the statements and other features we have learned so far. Try them first before looking at the solution. Do not hesitate to ask question during office hours or in our Q&A discussion platform if you need additional help."
      ],
      "metadata": {
        "id": "wH3RC6Suerio"
      }
    },
    {
      "cell_type": "markdown",
      "source": [
        "**Question 1**: Without using the Python interpreter, evaluate the following expressions, then verify your answers using the interpreter as a calculator.\n",
        "\n",
        "* 4 * 5\n",
        "* 3 + (4 * 5)\n",
        "* 3 + 4 * 5\n",
        "* 7 // 3\n",
        "* 20 % 5\n"
      ],
      "metadata": {
        "id": "In3PVk3-exwp"
      }
    },
    {
      "cell_type": "code",
      "source": [
        "4 * 5"
      ],
      "metadata": {
        "id": "uRBlvhU8gBQo"
      },
      "execution_count": null,
      "outputs": []
    },
    {
      "cell_type": "code",
      "source": [
        "3 + (4 * 5)"
      ],
      "metadata": {
        "id": "m-uqVA3ngDVM"
      },
      "execution_count": null,
      "outputs": []
    },
    {
      "cell_type": "code",
      "source": [
        "3 + 4 * 5"
      ],
      "metadata": {
        "id": "cbSyx-KHgF87"
      },
      "execution_count": null,
      "outputs": []
    },
    {
      "cell_type": "code",
      "source": [
        "7 // 3"
      ],
      "metadata": {
        "id": "bvHSh2RDgHFS"
      },
      "execution_count": null,
      "outputs": []
    },
    {
      "cell_type": "code",
      "source": [
        "20 % 5"
      ],
      "metadata": {
        "id": "1zykt8ZpgIJs"
      },
      "execution_count": null,
      "outputs": []
    },
    {
      "cell_type": "markdown",
      "source": [
        "**Question 2**: What will be printed when the following statements are executed? What value could be garbage collected?\n",
        "\n",
        "```\n",
        ">>> x = 10\n",
        ">>> y = 7\n",
        ">>> z = x + y\n",
        ">>> x = z // y\n",
        ">>> y = z % 5\n",
        ">>> x = 17\n",
        ">>> print(x)\n",
        "```\n",
        "\n"
      ],
      "metadata": {
        "id": "u3-gPfXqfprO"
      }
    },
    {
      "cell_type": "code",
      "source": [
        "x = 10\n",
        "y = 7\n",
        "z = x + y\n",
        "x = z // y\n",
        "y = z % 5\n",
        "x = 17\n",
        "print(x)"
      ],
      "metadata": {
        "id": "5xGt4pnSf4dV"
      },
      "execution_count": null,
      "outputs": []
    },
    {
      "cell_type": "markdown",
      "source": [
        "**Question 3**: Using the Python interpreter:\n",
        "\n",
        "Calculate the price of an item after 9% tax as follows:\n",
        "\n",
        "* Create a variable price and assign a value of $20.\n",
        "* Create a variable tax and assign 9% to it.\n",
        "* Create a variable final_price and assign the result of price plus 9% tax.\n",
        "* Print final_price"
      ],
      "metadata": {
        "id": "e2kkmwtdgXXN"
      }
    },
    {
      "cell_type": "code",
      "source": [
        "### START CODE ### (approx. 4 lines)\n",
        "\n",
        "### END CODE ###"
      ],
      "metadata": {
        "id": "KNZnMam5gpeo"
      },
      "execution_count": null,
      "outputs": []
    },
    {
      "cell_type": "markdown",
      "source": [
        "**Question 4**: Using the Python interpreter:\n",
        "\n",
        "Calculate the price of an item after 20% discount as follows: (Assume this is a non-taxable item)\n",
        "\n",
        "* Create a variable price and assign a value of $25.\n",
        "* Create a variable discount and assign 20% to it.\n",
        "* Create a variable markdown and assign it the value that is the result of price times discount.\n",
        "* Create a variable markdown_price and decrease the value of markdown from price.\n",
        "* Print markdown_price"
      ],
      "metadata": {
        "id": "jksz0Jxog7yI"
      }
    },
    {
      "cell_type": "code",
      "source": [
        "### START CODE ### (approx. 5 lines)\n",
        "\n",
        "### END CODE ###"
      ],
      "metadata": {
        "id": "_r8SXAnohL2C"
      },
      "execution_count": null,
      "outputs": []
    },
    {
      "cell_type": "markdown",
      "source": [
        "**Question 5**: Write a function named `mul_by_10`. The function should accept one argument and return the product of its argument multiplied times 10."
      ],
      "metadata": {
        "id": "G_cyscQ8hpC5"
      }
    },
    {
      "cell_type": "code",
      "source": [
        "def mul_by_10(num):\n",
        "  ### START CODE ### (approx. 1 lines)\n",
        "\n",
        "  ### END CODE ###"
      ],
      "metadata": {
        "id": "dmnO2GpJhwDq"
      },
      "execution_count": null,
      "outputs": []
    },
    {
      "cell_type": "markdown",
      "source": [
        "**Question 6**: Write the function `km_to_miles`. The function should accept the distance in kilometers, then converts that distance to miles. "
      ],
      "metadata": {
        "id": "jwhYUky4h3uh"
      }
    },
    {
      "cell_type": "code",
      "source": [
        "def km_to_miles(km):\n",
        "  ### START CODE ### (approx. 2 lines)\n",
        "\n",
        "  ### END CODE ###"
      ],
      "metadata": {
        "id": "LmnUGakih0pw"
      },
      "execution_count": 2,
      "outputs": []
    },
    {
      "cell_type": "markdown",
      "source": [
        "**Question 7**: Financial experts often advise property owners to insure their property for at least 85% of the amount it would cost to replace the structure. The main function below asks the user to enter the replacement cost of a property. Implement `get_amount` so it works according to the recommendation of the financial experts.\n",
        "\n",
        "```\n",
        " def main():\n",
        "    replacement_cost = float(input('Enter cost of property: $'))\n",
        "    quote = get_amount(replacement_cost)\n",
        "    print(f'The minimum amount of insurance you should buy for the property is ${quote}')\n",
        "```\n",
        "\n"
      ],
      "metadata": {
        "id": "lCUCEDJNiA6P"
      }
    },
    {
      "cell_type": "code",
      "source": [
        "def get_amount(cost):\n",
        "  ### START CODE ### (approx. 3 lines)\n",
        "\n",
        "  ### END CODE ###"
      ],
      "metadata": {
        "id": "gZ-4R--LiLDl"
      },
      "execution_count": 3,
      "outputs": []
    },
    {
      "cell_type": "markdown",
      "source": [
        "**Question 8**: Write the function `my_car_expenses` that accepts the monthly expenses of a car: loan payment, insurance, gas, oil, tires, and maintenance as arguments. The function displays the total monthly cost of these expenses, and the total annual cost of these expenses."
      ],
      "metadata": {
        "id": "_qqK0M5kitJL"
      }
    },
    {
      "cell_type": "code",
      "source": [
        "def my_car_expenses(loan, insurance, gas, oil, tires, maint):\n",
        "  ### START CODE ### (approx. 4 lines)\n",
        "\n",
        "  ### END CODE ###"
      ],
      "metadata": {
        "id": "P2ohQCoAi1sU"
      },
      "execution_count": null,
      "outputs": []
    }
  ]
}