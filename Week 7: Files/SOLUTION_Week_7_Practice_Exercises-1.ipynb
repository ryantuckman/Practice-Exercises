{
  "nbformat": 4,
  "nbformat_minor": 0,
  "metadata": {
    "colab": {
      "provenance": []
    },
    "kernelspec": {
      "name": "python3",
      "display_name": "Python 3"
    },
    "language_info": {
      "name": "python"
    }
  },
  "cells": [
    {
      "cell_type": "markdown",
      "source": [
        "The following questions were created to supplement the required course material and should be completed using only the statements and other features we have learned so far. Try them first before looking at the solution. Do not hesitate to ask question during office hours or in our Q&A discussion platform if you need additional help."
      ],
      "metadata": {
        "id": "mX6yoGbQHUox"
      }
    },
    {
      "cell_type": "markdown",
      "source": [
        "**NOTE**: These practice exercises use the ***temp_co2data.txt***. This will need to be downloaded from Canvas.\n",
        "\n",
        "\n",
        "**YOU MUST UPLOAD THIS FILE TO YOUR DRIVE AND MAKE SURE TO NOT CHANGE THE NAME FOR COLAB TO READ THIS FILE!**\n",
        "\n",
        "\n",
        "You can use the following directory:\n",
        "```\n",
        "'/content/drive/MyDrive/temp_co2data.txt'\n",
        "```"
      ],
      "metadata": {
        "id": "rGV-aEZdHWn9"
      }
    },
    {
      "cell_type": "markdown",
      "source": [
        "To read files on google drive, you must first mount your drive by running the following cell:"
      ],
      "metadata": {
        "id": "AnGiU_n1LDW5"
      }
    },
    {
      "cell_type": "code",
      "source": [
        "from google.colab import drive\n",
        "drive.mount('/content/drive')"
      ],
      "metadata": {
        "colab": {
          "base_uri": "https://localhost:8080/"
        },
        "id": "m4Xj6byJLIyE",
        "outputId": "98ee4659-fdf8-402b-8f31-8f4769609588"
      },
      "execution_count": 1,
      "outputs": [
        {
          "output_type": "stream",
          "name": "stdout",
          "text": [
            "Mounted at /content/drive\n"
          ]
        }
      ]
    },
    {
      "cell_type": "markdown",
      "source": [
        "**Question 1**: Write a program that reads the `temp_co2data.txt` file and determines the year with the highest global emissions of CO2."
      ],
      "metadata": {
        "id": "dmXzprEHHWwU"
      }
    },
    {
      "cell_type": "code",
      "source": [
        "### START CODE ### (approx. 11 lines)\n",
        "with open('/content/drive/MyDrive/temp_co2data.txt', 'r') as file:\n",
        "    file.readline()\n",
        "\n",
        "    highest_emissions = 0\n",
        "    highest_year = ''\n",
        "\n",
        "    for line in file:\n",
        "        year, emissions, temperature = line.strip().split()\n",
        "        emissions = float(emissions)\n",
        "\n",
        "        if emissions > highest_emissions:\n",
        "            highest_emissions = emissions\n",
        "            highest_year = year\n",
        "\n",
        "print(f\"The year with the highest global emissions of CO2 is {highest_year} with {highest_emissions} metric tons of CO2.\")\n",
        "### END CODE ###"
      ],
      "metadata": {
        "colab": {
          "base_uri": "https://localhost:8080/"
        },
        "id": "nGcpAUHOHWFK",
        "outputId": "ee2c9619-356a-45ea-efcc-43d1a02e2537"
      },
      "execution_count": 2,
      "outputs": [
        {
          "output_type": "stream",
          "name": "stdout",
          "text": [
            "The year with the highest global emissions of CO2 is 2019 with 0.74 metric tons of CO2.\n"
          ]
        }
      ]
    },
    {
      "cell_type": "markdown",
      "source": [
        "**Question 2**: Write a function `data_by_year` that reads the `temp_co2data.txt` file and takes a year as an input to return the global average temperature and CO2 emissions for that year. If the year is not in the data, the program should return some kind of error message."
      ],
      "metadata": {
        "id": "LNb8sygQH3m3"
      }
    },
    {
      "cell_type": "code",
      "execution_count": 3,
      "metadata": {
        "id": "wbvadPuGHKXX"
      },
      "outputs": [],
      "source": [
        "def data_by_year(year):\n",
        "    ### START CODE ### (approx. 8 lines)\n",
        "    with open('/content/drive/MyDrive/temp_co2data.txt') as file:\n",
        "        header = file.readline().strip()\n",
        "        for line in file:\n",
        "            fields = line.strip().split(' ')\n",
        "            if int(fields[0]) == year:\n",
        "                return(f\"temp for {year}: {fields[1]}, Co2 emissions for {year}: {fields[2]}\")\n",
        "\n",
        "        return(f\"No data for year {year}\")\n",
        "    ### END CODE ###"
      ]
    },
    {
      "cell_type": "code",
      "source": [
        "data_by_year(1890)"
      ],
      "metadata": {
        "colab": {
          "base_uri": "https://localhost:8080/",
          "height": 35
        },
        "id": "890MGK-mMGth",
        "outputId": "52932440-5569-4242-89ae-e0841dd99b3c"
      },
      "execution_count": 4,
      "outputs": [
        {
          "output_type": "execute_result",
          "data": {
            "text/plain": [
              "'temp for 1890: -0.42, Co2 emissions for 1890: 1.72'"
            ],
            "application/vnd.google.colaboratory.intrinsic+json": {
              "type": "string"
            }
          },
          "metadata": {},
          "execution_count": 4
        }
      ]
    },
    {
      "cell_type": "markdown",
      "source": [
        "**Question 3**: Write a program that reads the `temp_co2data.txt` file and writes into a new, empty file `temp_co2data_fahrenheit.txt` that will contain the same data, but with the temperature values converted from Celsius to Fahrenheit. The new file should have the same format as the original file. \n",
        "\n",
        "The formula for Fahrenheit to Celsius is as follows:\n",
        "```\n",
        "F = C * 9/5 + 32\n",
        "```"
      ],
      "metadata": {
        "id": "lO6OzoisICq_"
      }
    },
    {
      "cell_type": "code",
      "source": [
        "### START CODE ### (approx. 7 lines)\n",
        "with open('/content/drive/MyDrive/temp_co2data.txt', 'r') as infile, open('temp_co2data_fahrenheit.txt', 'w') as outfile:\n",
        "    for line in infile:\n",
        "        line = line.strip()\n",
        "        fields = line.split(' ')\n",
        "        celsius = float(fields[1])\n",
        "        fahrenheit = celsius * 1.8 + 32\n",
        "        outfile.write(fields[0] + ',' + str(fahrenheit) + ',' + fields[2] + '\\n')\n",
        "### END CODE ###"
      ],
      "metadata": {
        "id": "_oGIE5BSH11H"
      },
      "execution_count": 5,
      "outputs": []
    },
    {
      "cell_type": "markdown",
      "source": [
        "**Question 4**: Write a program that reads the file `temp_co2data.txt` and calculates the percentage change in CO2 emissions from one decade to the next for each decade."
      ],
      "metadata": {
        "id": "dW-7OsiuIPcM"
      }
    },
    {
      "cell_type": "code",
      "source": [
        "### START CODE ### (approx. 7 lines)\n",
        "with open('/content/drive/MyDrive/temp_co2data.txt') as file:\n",
        "    lines = file.readlines()\n",
        "\n",
        "for i in range(1, len(lines)):\n",
        "    curr_decade = lines[i].strip().split()\n",
        "    prev_decade = lines[i-1].strip().split()\n",
        "    co2_change = ((float(curr_decade[1]) - float(prev_decade[1])) / float(prev_decade[1])) * 100\n",
        "    print(f\"Percentage change in C02 emissions from {prev_decade[0]}s to {curr_decade[0]}s: {co2_change}%\")\n",
        "### END CODE ###"
      ],
      "metadata": {
        "id": "mjnRnjckH2Mx",
        "colab": {
          "base_uri": "https://localhost:8080/"
        },
        "outputId": "cfd17950-3680-46f3-9628-83f60bb18859"
      },
      "execution_count": 6,
      "outputs": [
        {
          "output_type": "stream",
          "name": "stdout",
          "text": [
            "Percentage change in C02 emissions from 1850s to 1860s: -8.1081081081081%\n",
            "Percentage change in C02 emissions from 1860s to 1870s: -17.64705882352941%\n",
            "Percentage change in C02 emissions from 1870s to 1880s: -14.285714285714295%\n",
            "Percentage change in C02 emissions from 1880s to 1890s: 75.0%\n",
            "Percentage change in C02 emissions from 1890s to 1900s: -52.38095238095237%\n",
            "Percentage change in C02 emissions from 1900s to 1910s: 144.99999999999997%\n",
            "Percentage change in C02 emissions from 1910s to 1920s: -48.97959183673469%\n",
            "Percentage change in C02 emissions from 1920s to 1930s: -43.99999999999999%\n",
            "Percentage change in C02 emissions from 1930s to 1940s: -107.14285714285714%\n",
            "Percentage change in C02 emissions from 1940s to 1950s: -1800.0%\n",
            "Percentage change in C02 emissions from 1950s to 1960s: -70.58823529411765%\n",
            "Percentage change in C02 emissions from 1960s to 1970s: -40.00000000000001%\n",
            "Percentage change in C02 emissions from 1970s to 1980s: -400.0%\n",
            "Percentage change in C02 emissions from 1980s to 1990s: 233.33333333333334%\n",
            "Percentage change in C02 emissions from 1990s to 2000s: -3.3333333333333366%\n",
            "Percentage change in C02 emissions from 2000s to 2010s: 93.10344827586209%\n",
            "Percentage change in C02 emissions from 2010s to 2019s: 32.14285714285713%\n"
          ]
        }
      ]
    },
    {
      "cell_type": "markdown",
      "source": [
        "**Question 5**: Create an empty CSV file. Write a function `dict_to_csv` that takes a dictionary and writes each key-value pair to a new row in a CSV file."
      ],
      "metadata": {
        "id": "nWnp6a9uIaiz"
      }
    },
    {
      "cell_type": "code",
      "source": [
        "# NOTE: replace filename with the name of your CSV file\n",
        "\n",
        "def dict_to_csv(dict_data, filename):\n",
        "    ### START CODE ### (approx. 3 lines)\n",
        "    with open(filename, mode=\"w\", newline='') as csv_file:\n",
        "        for key, value in dict_data.items():\n",
        "            csv_file.write(f'{key},{value}\\n')\n",
        "    ### END CODE ###"
      ],
      "metadata": {
        "id": "R02NxXpiH2aL"
      },
      "execution_count": 7,
      "outputs": []
    },
    {
      "cell_type": "markdown",
      "source": [
        "**Question 6**: Write a program that reads the `temp_co2data.txt` file and calculates the number of decades in which the temperature and CO2 levels have both increased or both decreased and prints the results to the console."
      ],
      "metadata": {
        "id": "nLkI3tQSIo9D"
      }
    },
    {
      "cell_type": "code",
      "source": [
        "### START CODE ### (approx. 16 lines)\n",
        "with open('/content/drive/MyDrive/temp_co2data.txt', \"r\") as file:\n",
        "    data = file.readlines()\n",
        "\n",
        "years = []\n",
        "temperatures = []\n",
        "co2_levels = []\n",
        "for i in range(1, len(data)):\n",
        "    values = data[i].strip().split(',')\n",
        "    year, temperature, co2_level = values[0].split()\n",
        "    years.append(int(year))\n",
        "    temperatures.append(float(temperature))\n",
        "    co2_levels.append(float(co2_level))\n",
        "\n",
        "num_years = 0\n",
        "for i in range(1, len(years)):\n",
        "    if (temperatures[i] > temperatures[i-1] and co2_levels[i] > co2_levels[i-1]) or (temperatures[i] < temperatures[i-1] and co2_levels[i] < co2_levels[i-1]):\n",
        "        num_years += 1\n",
        "\n",
        "print(f\"The number of decades in which both temperature and CO2 levels have either increased or decreased is {num_years}.\")\n",
        "### END CODE ###"
      ],
      "metadata": {
        "id": "GFIQ82omH2mU",
        "colab": {
          "base_uri": "https://localhost:8080/"
        },
        "outputId": "2921106a-dd38-4540-8704-c277a9be3dcf"
      },
      "execution_count": 8,
      "outputs": [
        {
          "output_type": "stream",
          "name": "stdout",
          "text": [
            "The number of decades in which both temperature and CO2 levels have either increased or decreased is 12.\n"
          ]
        }
      ]
    },
    {
      "cell_type": "markdown",
      "source": [
        "**Question 7**: Finish the following implementation for a program which reads the `temp_co2data.txt` file and creates a scatter plot showing the relationship between global average temperature and global emissions of CO2. The x-axis of the plot shows the temperatures, and the y-axis shows the CO2 emissions. Each data point on the plot corresponds to a year in the data.\n",
        "\n",
        "Do note that the starter file includes an `import` for `matplotlib`. If you do not have this library installed, you can install it using the line below to run your program.\n",
        "```\n",
        "pip install matplotlib\n",
        "```"
      ],
      "metadata": {
        "id": "--2xa3jlIxem"
      }
    },
    {
      "cell_type": "code",
      "source": [
        "import matplotlib.pyplot as plt\n",
        "\n",
        "### CODE STARTS HERE ###\n",
        "with open('/content/drive/MyDrive/temp_co2data.txt', \"r\") as file:\n",
        "    lines = file.readlines()\n",
        "### CODE ENDS HERE ###\n",
        "\n",
        "years = []\n",
        "temperatures = []\n",
        "co2_emissions = []\n",
        "\n",
        "### CODE STARTS HERE ###\n",
        "for line in lines:\n",
        "    year, temp, co2 = line.split()\n",
        "    years.append(int(year))\n",
        "    temperatures.append(float(temp))\n",
        "    co2_emissions.append(float(co2))\n",
        "### CODE ENDS HERE ###\n",
        "\n",
        "plt.scatter(temperatures, co2_emissions)\n",
        "plt.xlabel(\"Global Average Temperature (°C)\")\n",
        "plt.ylabel(\"CO2 Emissions (GtCO2)\")\n",
        "plt.title(\"Relationship between Global Temperature and CO2 Emissions\")\n",
        "plt.show()"
      ],
      "metadata": {
        "id": "z7kgPUx8H2yu",
        "colab": {
          "base_uri": "https://localhost:8080/",
          "height": 295
        },
        "outputId": "f132a7e7-1844-4da3-f0dc-72cc17459a8b"
      },
      "execution_count": 9,
      "outputs": [
        {
          "output_type": "display_data",
          "data": {
            "text/plain": [
              "<Figure size 432x288 with 1 Axes>"
            ],
            "image/png": "[encoded data removed]"
          },
          "metadata": {
            "needs_background": "light"
          }
        }
      ]
    },
    {
      "cell_type": "markdown",
      "source": [
        "**Question 8**: **CHALLENGE**: Linear regression is a useful statistical method used to find the relationship between a dependent variable and one or more independent variables. Linear regression models the relationship between the independent and dependent variables as a straight line, which is defined by an equation in form `y = mx + b`. The goal of linear regression is to find the best-fit line that minimizes the sum of squared differences between the predicted and actual values of the dependent variable.\n",
        "\n",
        "Write a program that predicts the global temperature for the next 10 decades using linear regression based on the data in the `temp_co2data.txt` file. \n",
        "\n",
        "Below, are equations to calculate `m` and `b`, where sigma represents the sum of all \n",
        "`xy's`, \n",
        "`x's`, \n",
        "`y's`, \n",
        "`x^2's`, or \n",
        "`y^2's`. Feel free to use the built-in `sum()` function. \n",
        "\n",
        "![best_fit_slope.png](data:image/png;base64,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)\n",
        "\n",
        "![best_fit_y-int.png](data:image/png;base64,iVBORw0KGgoAAAANSUhEUgAAAOUAAAA8BAMAAABr1mDCAAAAMFBMVEX///8AAAAAAAAAAAAAAAAAAAAAAAAAAAAAAAAAAAAAAAAAAAAAAAAAAAAAAAAAAAAv3aB7AAAAD3RSTlMAEDJEic2r72Z2mVQi3btWMYeLAAADyklEQVRYCe1YO28TQRAe++yLnQexaKiiWECJ5LRUyT9wKOhA544CoUQ0CIRki4oCyREljSNRUJqSgsiW6KBIkJBASCjuKJBwwCRHEsIwu7d3t3u3Pl+s8xUoU3hnZ+abuZ3dWe8uQCTNo0+9SMuQcmyoiU8vEl169czCPyG3kYLxodZD4ThT/RUZIqwcG3rhxHWW+ehyMduxoVnsuSEWllwuXjs+tOml1ODRrRWK2PqhC7u897b+CWa+7r90tEFok62IvjtZOg9CNo3Cg+i3ewAZbIie0lQ/0yJ/ZCH+dMRB6NxfANPuKhh9py88CG1zHeDcvtbUwufv6nj/SutIqANQA8vQvquFBoQLdkmWVCitHX3Z4A2A6lEJ8jQeTgEo9Hs5uyx0kc0srsr6+QFk6huyxOWz2KWYOwB5d5wBKFQGLTVpLjTUdlwXXDN3CNP61BZsMlirAUwduj5UKE0mZTcW5ZQVYx5ARf+xJkvpLqVg0dOrUFp7nmZU5LV1yaJ4ArsrTt/8ImiT9ykD5LUMsLzn6OlXgUIRKfPxqLkk2RlIUR0yHgsq8z4bnoHEVlcdPf0qUGiil3XPQs8Yx7I8g52B3Pf5Dg0vx6aabxtcrkILeFWtAR8b5CobiqSOm0rf67Dh5dmuhUuuTIU2B1BfcVWR7ewDVd0f9q1seFRJkMWSQKjQAu1o+k1TDUC9hZoqqiqplnRsk2Q7hjffAWjzN5XRgQQYzl73VA3O9WueQGH48Fo7tDN69axAZ3ADoBCrQM+9dz3nVhhX8DLnyoe2Qahk6JewJPTYF+7kQKfLhIuUoZgUhEowqYQlqWCL3nZedHa8fi9spJeEoJKZVMKSVLBeUV+u8wEWsBs20kuCUNnKL2FZ6vCG/Z3TzToiLUlKbdydBEJQ2btfwrLU4fP3fNoMq6MkUdAsnr+134hCJ68r2m1Er6SS96/zaOLR6634K0Pn4tSyqYMSbZG0bxGJO0b8Ejx1NAewzSqQ7UtEacVkh0dQjh88/ER/2jWA2SH1IsZNR+UEaY9OTQ12pChpxzWhmBm2ZE1nL01rPg12Kt0W/8MpraEcO5VaPfpJj/L2k8zWiX46J/UVPJ3XJuVd77dyfMf+pledSc8ycJaB/yED7DXqQ8oD4a9RvXSDWnj7jcXP3OnFZa9Ry7HfRBL5Lv4aVfFuU4n4HOWEv0axJ4wUib9GRV7vkv8Y9holvdAkH0Djkd/UhxxXNeaJiNhU+i80ibgc6YRNpf9CM9I8EQN2UzdTvk6yW93UsKeqREYVcsKnkl/vQiqt4B8hEipmo6Q3IAAAAABJRU5ErkJggg==)"
      ],
      "metadata": {
        "id": "scbNNL76JGnx"
      }
    },
    {
      "cell_type": "code",
      "source": [
        "import matplotlib.pyplot as plt\n",
        "\n",
        "### CODE STARTS HERE ### (approx. 2 lines)\n",
        "with open('/content/drive/MyDrive/temp_co2data.txt', \"r\") as file:\n",
        "    data = file.readlines()\n",
        "### CODE ENDS HERE ###\n",
        "\n",
        "years = []\n",
        "temperatures = []\n",
        "co2_levels = []\n",
        "### CODE STARTS HERE ### (approx. 5 lines)\n",
        "for i in range(1, len(data)):\n",
        "    values = data[i].strip().split(',')\n",
        "    year, temperature, co2_level = values[0].split()\n",
        "\n",
        "    years.append(int(year))\n",
        "    temperatures.append(float(temperature))\n",
        "    co2_levels.append(float(co2_level))\n",
        "### CODE ENDS HERE ###\n",
        "\n",
        "### CODE STARTS HERE ### (approx. 7 lines)\n",
        "n = len(years)\n",
        "x_sum = sum(years)\n",
        "y_sum = sum(temperatures)\n",
        "xy_sum = sum([years[i] * temperatures[i] for i in range(n)])\n",
        "x_squared_sum = sum([year ** 2 for year in years])\n",
        "m = (n * xy_sum - x_sum * y_sum) / (n * x_squared_sum - x_sum ** 2)\n",
        "b = (y_sum - m * x_sum) / n\n",
        "### CODE ENDS HERE ###\n",
        "\n",
        "predicted_temps = []\n",
        "### START CODE HERE ### (approx. 3 lines)\n",
        "for year in range(2020, 2120, 10):\n",
        "    predicted_temp = m * year + b\n",
        "    predicted_temps.append(predicted_temp)\n",
        "### END CODE HERE ###\n",
        "\n",
        "years_to_plot = list(range(2020, 2120, 10))\n",
        "plt.plot(years_to_plot, predicted_temps, label='Predicted Temperatures')\n",
        "plt.scatter(years, temperatures, s=10, label='Actual Data')\n",
        "plt.xlabel('Year')\n",
        "plt.ylabel('Global Temperature (°C)')\n",
        "plt.title('Global Temperature Over Time')\n",
        "plt.legend()\n",
        "plt.show()"
      ],
      "metadata": {
        "id": "XNdf4WgJH2_P",
        "colab": {
          "base_uri": "https://localhost:8080/",
          "height": 295
        },
        "outputId": "0d5e49ee-b39c-4310-ec1d-ca656b797ca6"
      },
      "execution_count": 10,
      "outputs": [
        {
          "output_type": "display_data",
          "data": {
            "text/plain": [
              "<Figure size 432x288 with 1 Axes>"
            ],
            "image/png": "[encoded data removed]"
          },
          "metadata": {
            "needs_background": "light"
          }
        }
      ]
    }
  ]
}