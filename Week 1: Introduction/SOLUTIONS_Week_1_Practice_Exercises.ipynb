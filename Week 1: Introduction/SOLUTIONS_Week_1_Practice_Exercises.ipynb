{
  "nbformat": 4,
  "nbformat_minor": 0,
  "metadata": {
    "colab": {
      "provenance": []
    },
    "kernelspec": {
      "name": "python3",
      "display_name": "Python 3"
    },
    "language_info": {
      "name": "python"
    }
  },
  "cells": [
    {
      "cell_type": "markdown",
      "source": [
        "The following questions were created to supplement the required course material and should be completed using only the statements and other features we have learned so far. Try them first before looking at the solution. Do not hesitate to ask question during office hours or in our Q&A discussion platform if you need additional help."
      ],
      "metadata": {
        "id": "wH3RC6Suerio"
      }
    },
    {
      "cell_type": "markdown",
      "source": [
        "**Question 1**: Without using the Python interpreter, evaluate the following expressions, then verify your answers using the interpreter as a calculator.\n",
        "\n",
        "* 4 * 5\n",
        "* 3 + (4 * 5)\n",
        "* 3 + 4 * 5\n",
        "* 7 // 3\n",
        "* 20 % 5\n"
      ],
      "metadata": {
        "id": "In3PVk3-exwp"
      }
    },
    {
      "cell_type": "code",
      "source": [
        "4 * 5"
      ],
      "metadata": {
        "colab": {
          "base_uri": "https://localhost:8080/"
        },
        "id": "uRBlvhU8gBQo",
        "outputId": "c527736b-1e5d-4b3f-d45d-fd6760a5655b"
      },
      "execution_count": 4,
      "outputs": [
        {
          "output_type": "execute_result",
          "data": {
            "text/plain": [
              "20"
            ]
          },
          "metadata": {},
          "execution_count": 4
        }
      ]
    },
    {
      "cell_type": "code",
      "source": [
        "3 + (4 * 5)"
      ],
      "metadata": {
        "colab": {
          "base_uri": "https://localhost:8080/"
        },
        "id": "m-uqVA3ngDVM",
        "outputId": "a684d258-cb96-47bf-f224-a630aed15c87"
      },
      "execution_count": 5,
      "outputs": [
        {
          "output_type": "execute_result",
          "data": {
            "text/plain": [
              "23"
            ]
          },
          "metadata": {},
          "execution_count": 5
        }
      ]
    },
    {
      "cell_type": "code",
      "source": [
        "3 + 4 * 5"
      ],
      "metadata": {
        "colab": {
          "base_uri": "https://localhost:8080/"
        },
        "id": "cbSyx-KHgF87",
        "outputId": "a132d51f-6c33-4ac8-f83b-1a60a39638fc"
      },
      "execution_count": 6,
      "outputs": [
        {
          "output_type": "execute_result",
          "data": {
            "text/plain": [
              "23"
            ]
          },
          "metadata": {},
          "execution_count": 6
        }
      ]
    },
    {
      "cell_type": "code",
      "source": [
        "7 // 3"
      ],
      "metadata": {
        "colab": {
          "base_uri": "https://localhost:8080/"
        },
        "id": "bvHSh2RDgHFS",
        "outputId": "1512c59c-c4f1-4636-8dd7-c47b67ca1af4"
      },
      "execution_count": 7,
      "outputs": [
        {
          "output_type": "execute_result",
          "data": {
            "text/plain": [
              "2"
            ]
          },
          "metadata": {},
          "execution_count": 7
        }
      ]
    },
    {
      "cell_type": "code",
      "source": [
        "20 % 5"
      ],
      "metadata": {
        "colab": {
          "base_uri": "https://localhost:8080/"
        },
        "id": "1zykt8ZpgIJs",
        "outputId": "caab76b7-1d5d-45e0-ec0e-df0eb4bbf6dd"
      },
      "execution_count": 8,
      "outputs": [
        {
          "output_type": "execute_result",
          "data": {
            "text/plain": [
              "0"
            ]
          },
          "metadata": {},
          "execution_count": 8
        }
      ]
    },
    {
      "cell_type": "markdown",
      "source": [
        "**Question 2**: What will be printed when the following statements are executed? What value could be garbage collected?\n",
        "\n",
        "```\n",
        ">>> x = 10\n",
        ">>> y = 7\n",
        ">>> z = x + y\n",
        ">>> x = z // y\n",
        ">>> y = z % 5\n",
        ">>> x = 17\n",
        ">>> print(x)\n",
        "```\n",
        "\n"
      ],
      "metadata": {
        "id": "u3-gPfXqfprO"
      }
    },
    {
      "cell_type": "code",
      "source": [
        "x = 10\n",
        "y = 7\n",
        "z = x + y\n",
        "x = z // y\n",
        "y = z % 5\n",
        "x = 17\n",
        "print(x)"
      ],
      "metadata": {
        "colab": {
          "base_uri": "https://localhost:8080/"
        },
        "id": "5xGt4pnSf4dV",
        "outputId": "16369401-b60b-47c8-fec3-404398d0b0f5"
      },
      "execution_count": 9,
      "outputs": [
        {
          "output_type": "stream",
          "name": "stdout",
          "text": [
            "17\n"
          ]
        }
      ]
    },
    {
      "cell_type": "markdown",
      "source": [
        "![pr_ex1.PNG](data:image/png;base64,iVBORw0KGgoAAAANSUhEUgAAAV0AAAHaCAYAAACjPZrXAAAAAXNSR0IArs4c6QAAAARnQU1BAACxjwv8YQUAAAAJcEhZcwAADsMAAA7DAcdvqGQAAC1KSURBVHhe7Z0xqGTXla4FM5ECazpwbIFCGzxBhwIra56Dx2AGhJnAw8WBO/CjEyWizWDQBA1CHTVuGYQGBrl5YDF20IokJmjEoEBvOrHAgTQvUtRoQvGievWX7+5e6/SqunWqzt5rn3O+D376dlXd2uesW+u/++69zjovbAAAoBmYLgBAQzBdAICGYLoAAA3BdAEAGoLpAgA0BNMFAGgIpgsA0BBMFwCgIZguAEBDMF2ARlxcXGxeeOEFlCz9HDLBdAEaERkAylEmmC5AI6LkRznKBNMFaIRL+q/fRY3l4p8IpgvQCJf0gSmgunLxTwTTBWiES/rAFFBdufgngukCNMIlfWAKqK5c/BPBdAEa4ZI+MAVUVy7+iWC6AI1wSR+YAqorF/9EMF2ARrikD0wB1ZWLfyKYLkAjXNIHpoDqysU/EUwXoBEu6QNTQHXl4p8IpgvQCJf0gSmgunLxTwTTBWiES/rAFFBdufgngukCNMIlfWAKqK5c/BPBdAEa4ZI+MAVUVy7+iWC6AI1wSR+YAqorF/9EMF2ARrikD0wB1ZWLfyKYLkAjXNIHpoDqysU/EUwXoBEu6QNTQHXl4p8IpgvQCJf0gSmgunLxTwTTBWiES/rAFFBdufgngukCNMIlfWAKqK5c/BPBdAEa4ZI+MAVUVy7+iWC6AI1wSR+YAqorF/9EMF2ARrikD0wB1ZWLfyKYLsAEfPvtt5uvv/56p324pA9MoUc9+dM7mwe/+fnm9f95fXPjte/vpK/1WPT6nuXinwimC3ACMtmvvvpq8+mnn27ee++9zVtvvbW5ffv27rF9uKQPTKE3Pf74V5tXXv6uO26r6z/83s6Uo+/tUfbYM8F0AY4kMlkrPX4Il/SBKfSmYrgyV81sH/3hjZ309bWXXtw9p5lv9L09ysU/EUwX4Ei++OKL54zWSs8fwiV9YAo9Scaq45S5RrNZzYLLuejr4fM9qhyvlAmmCzCCDz/8MDTct99+e7fkcAiX9IEp9KQ7t3+yO843/9f/CJ+XNAPWa+ayvuvinwimCzCSDz744DnT/eSTTy6f3Y9L+sAUetKX//HPu6UE/Rs9L2G6p4HpAoxA67rffPPN5t69e08NV+u7euwqXNIHpjAnacmhnAvLC+PAdAGORMsHMlsZr77WkoJMVzPfY3BJH5jCnFSWH9hIGw+mC3AEWj4YbpRpdivTPVQmZnFJH5jCXFQ22aS5zHIlF/9EMF2AA5TNMZlutFF26GKIIS7pA1OYg6zhzmUtt8jFPxFMF+AAWjpQbe4UuKQPTKF3zdlwJRf/RDBdgADNYMum2VS4pA9MoWeVNVzV7aqqIXpN73LxTwTTBQjQDPfzzz+//N80uKQPTKFX3fzZj3bHLMOd0xruUC7+iWC6AAYtJUy1nDDEJX1gCr1JZWHFcFWTe6hmdw5y8U8E0wW4REsJMtwplxQsLukDU+hJMtxy8YP+nVNjm31y8U8E0wXY8tFHH+0u8a2JS/rAFHqS2jfa4z2kudTq2mPOBNOFVaMysLJhFpWETYlL+sAUepKM1B7vIWG648B0YdVohntM34QpcEkfmAKqKxf/RDBdWCWa3dZeThjikj4wBVRXLv6JYLqwOsqSwlX9b6fGJX1gCqiuXPwTwXRhVZQ7P2Tgkj4wBVRXLv6JYLqwCjS7leHq39obZvtwSR+YAqorF/9EMF1YBVpK0KZZJi7pA1NAdeXinwimC4tGPRTUA7cHXNIHpoDqysU/EUwXFotqb6Wpeyicikv6wBRQXbn4J4LpwiLRcoLu7FDrkt5TcEkfmAKqKxf/RDBdWBTaJCsXO6QY7n/91+UXz+OSPjAFVFcu/olgurAotIarkrCUCoVbtzabv/u7y/88j0v6wBRQXbn4J4LpwiLQrFZmmzK7/e//3mz+8R/lqpvNa69dPvg8LukDU0B15eKfCKYLs0ezW81sUzbMZLia3SqRpb/928snnsclfWAKqK5c/BPBdGHWaGarDbMxN4icjP/8z83m5ZefGa6k/+/BJX1gCqiuXPwTyR0d4Aw0s5Xpphjuv//7ZvM3f+MNV9Jje3BJH5gCqisX/0RyRwc4AS0lpK7h3r0bG27RHlzSB6aA6srFP5Hc0QFGIsPVTSPVJSyNf/u3v2yYKXkjaZ03wCV9YAqorlz8E8kdHWAEZRlBFz6klIQN+ad/8mZbtKdW1yV9YAqorlz8E8kdHWAE2jBr3QP3IHa2qwqGsqmmDbYAl/SBKaC6cvFPJHd0gCNQS0YtJ3Qxuy1oI03JK2l9t8xutfTATLdLufgngulC96Sv4UaUiyGkA1ehWVzSB6aA6srFPxFMF7pF9zDTLLc7tFFmqxc06z0Cl/SBKaC6cvFPBNOF7iglYd1smA2xG2gHrkAb4pI+MAVUVy7+iWC60B2qv211W/STsFehvf/+5YNX45I+MAVUVy7+iWC60A1aty1XmXWLNsqUtJKWGPbU5EbYpEe5ygTThW7QPcy6KgmLsM1ttMwwgij5UY4ywXQhHS0lZN808ihUf6uELTrQsDzi4uLiadKjPOnnkAmmC2lok0xXmXVXg7sPu4F2ZJkYwBBMF9KYzQxXDMvEtLYLcAKYLjRHs9vZmG1BncWK4Y4oEwMYgulCU7SMoAseerkt+tHYPgsjN9AALJguNENGe+/evcv/zYgzysQAhmC60AQtKaj+tusa3H3YMjH1XAA4A0wXqqMZrq4ymyUqCzuhzwLAPjBdqIbWb8uG2SxKwiJsmdiB26sDHAumC9VQ/W3XPRSuQmu3ts8CZWIwAZguTI7Wb3WXh9nObgt2A03mywYaTACmC5NS2jF213T8FCgTgwpgujAZmuGqJGz2M1xh+yxoI21knwWAfWC6cDYyWd3lQeVgizBccevWM9OlzwJMCKYLZyGTlbRhthjDHfZZoEwMJgTThZPRzFYbZrO84OEQtkyMPgswMZgunETZKFvEhtkQGW0xXTbQYGIwXRiNlhE0w12k4dJnASqD6cLRyGx1hdkizbZg+yxoMw1gYjBdOIqySaYqhcVsmA1RWVgxXEllYwATg+nCUahhzex64I7FbqBRJgaVwHThILrgQVr0koKgzwI0AtOFg2iG2/1t0afg/fefGS59FqAimC6ElFvqLHb9dgh9FqARmC44ZLKSrjBb3EUP+9AVZ8Vw6bMAlcF0wfHBBx/MuwfuKegWPMV02UCDymC6sKNsli2qac0x0GcBGoPpwg5d9KB13NVBnwVoDKa7clSZUO5jtkpsmZgqGAAqg+muGC0jyHQXX4O7D/osQAKY7krRZtlsb4s+FbbPAmVi0AhMd2VodrvKDbMh9nY8EmVi0AhMd2VohrvqNdwCfRYgCUx3JWh2qxpc2DIsE6PPAjQE010BZUlhFT0UjuHu3WeGS5kYNAbTXTjqn6C7PICBPguQCKa7UDS71cUO+nc1PRSOgTIxSAbTXShaTlj0XR5OxZaJqecCQGMw3YWhHgr37t1jdhuhsjD6LEAymO6CkOFqZrv42+qcii0T07ouQAKY7kJQZYI2zJjh7kFrt9yOBzoA010Apf8thnsAu4HG7XggEUx35sho1UOBDbMroEwMOgHTnSkyWV1hpnVcuALbZ0EbafRZgEQw3RlSjJYNsyO5deuZ6dJnAZLBdGeINsxW2wN3LMM+C5SJQTKY7ozQzFazXDbMRmDLxOizAB2A6c4Ard+WNVwMdyQy2mK6bKBBB2C6M0Bmy3LCCdBnAToE0+2YMsPVhQ/6F0Zi+yxoMw2gAzDdjtGGGRUKJ6KysGK4ksrGADoA0+2Q0nCc2e0Z2A00ysSgIzDdDlFLRu7ycAad9lm4uLjYHs4LKFn6OWSC6XaEbhjJTSMnoNM+C5EBoBxlgul2gJYRVArGksJEdNpnIUp+lKNMMN0O0HICM9yJ0BVnSiqpsz4LNun//Oc/o8ay8c8E001EV5epOoHZ7YToFjxKKqmzDTSb9JEpoLqy8c8E001EfXApCZuQzvss2KSPTAHVlY1/JphuArpLr64yg4npvM+CTfrIFFBd2fhnguk2RMsIWlJQHS49FCpgy8Tef//ywX6wSR+ZAqorG/9MMN2GaDlBd3mACsygz4JN+sgUUF3Z+GeC6TZAs1tVKAg2zSph+yx02k3MJn1kCqiubPwzwXQboPpbreNCJezteKROb8djkz4yBVRXNv6ZYLoVkdneu3eP2W1tZtJnwSZ9ZAqormz8M8F0K6HNMpktfXArMywT66TPQoRN+sgUUF3Z+GeC6VZAtbea4UIDVKWgJJI6vx2PTfrIFFBd2fhngulOiGa25XJelhQa0WmfhQib9JEpoLqy8c8E050ImayqFGS6GG4jZnY7Hpv0kSmgurLxzwTTnQCZre7ygNk2xpaJqedC59ikj0wB1ZWNfyaY7pmUZuNsmDVGZWEd91mIsEkfmQKqKxv/TDDdM9ClvNow45LeBGyZmNZ1Z4BN+sgUUF3Z+GeC6Z5A2TDTsgJLCglo7bbD2/FchU36yBRQXdn4Z4LpjkQmW0wXw02i09vxXIVN+sgUUF3Z+GeC6Y5AJqsNM9Zvk5lRmZjFJn1kCqiubPwzwXSPhCvMOsH2WdBGWqd9FiJs0kemgOrKxj8TTPcImOF2xK1bz0y34z4LETbpI1NAdWXjnwmmewXqgVvKwiCZYZ+FGZSJWWzSR6aA6srGPxNMdw9lk4wNs46wZWKd91mIsEkfmQKqKxv/TDDdPegeZvTA7QwZrRJGmtEGWsEmfWQKPeizzz7bvPrqqztFzw/1u9/9bvPTn/706ffoaz0WvTZbNv6ZYLoDVHtbBB0xsz4LETbpI1PI1scff7z5wQ9+cPQxvvPOO+6crGS+0fdkyh5fJpjuAM1wuS16h9g+C9pMmyE26SNTyJJmt2+88cbmO9/5ztHHKIMuryuzW0nvUx7vbcZbjkvKZNTod+7ceXrQDx8+vHzUc+PGjd3zr7zyyubJkyeXj/aPlhIw205RWZgSpUhlYzOk5I4UmUKGhrNVGegxx1heFy1DHHouU+W8pExGj379+vXdQV+7du05U71///7Tk3r8+PHlo/2jjTJVKdBDoVPsBlqFMjFtlrb42ZfckCJTyFCZmcogy2z1mGMsr/ntb3/73HN//OMfnz6vGfHw+SyVY5IyGT36l19+uTNcHfjrr79++ah/XDPiuaCEk6BTGvRZUNOi27dv75aWapqvTfrIFDIkU9TyQvn/MaZ7zGvKUkVkylkqxyxlctLoWlooB1+WGcqygv6dA5rdarNMSUZJWMc06LNQTLeolvmWnJEiU+hBxxhqWZLQplv0vKSZs16jmXT0fIbKeUmZnDz6zZs3dwev2W1Z642WHHrlww8/3C0pQOc06LMwNN1a5muTPjKFHnSM6dolieh5CdPdz8mjy1zL+m7Rvs21nvj973+/Syjx9vZfLS1oA02PacarBJQh65JfPabZsJLvvffe232tx3SFml5T7hahx/QeMvG33npr9976V/+3763X6/v0/eW99b56//LeGlev0XHY99ZxlvfWY3pvbf7pa6H31mvKe8ssynuXc9G/+r/eW8/rMb1e36fvF3pM72vfW+PaOOl7D8XJvvcwTnrfq+JU3vv//su/PDXc//fii5v/vf3lflWc7HvrMRun8jMYxknvoa/3Sd8/BTZXIlPoQVOZbnnNL37xi/D5DJXzkjI5a/QHDx48PQm7vtszSrY/f/bZX8qOVO85s0tJV4VuwaMEkSr2WdhnuuUX7VTYpI9MoQdNZbqlgoGZ7vOcPLpmuioLsyfy6NGjy2c7x+6Ga50Q+qNhn4Wh6U5ttgWbK5Ep9CCWF+pz8uia2ergZbx2fVdVDN2jhFbgi95///IJ6IaGfRaK6dYy24JN+sgUetAxpnvMa8qVbb/+9a/D5zNUjlnK5KTRh/W4dtardd5ZYJN6Zn1ZV4EtE6v8S1FrvDXNtlByRopMoQcdY6j2arSoDlclaOV5vd/w+SyVY5IyGT26TLYcuK3HtY9r5jsLbGLP4Bbeq2EBfRYiSn5IkSn0oGNMVyoz2Wj5oJSUqVZ3+FymynlJmYwaXTPacgFENKO1lwlrk617bHJLM728dHHYPguVysQyKLkhRabQg441XWusugKtPK6Zb7kwoqf1XKmcl5TJqNHLBRCH1m7ta2ZxKbBN8Bn2aF0c9nY80oKWfWzSR6bQg441Xcl2JNPGWdk8k/ScvdKtB5VjkzLJHb0H2FTrC7vWXrFMLAOb9JEp9KAxpitTtQ1yin784x93Z7iSPcZMckfvBXvfLa0hQg7DMrEKfRYysUkfmcJcJYOVWUs9mm2RjX8muaP3gpLdbqrNtF/r7NFfGeVnsMClHpv0kSmgurLxzyR39J4YbqpRQtaeBn0WMrFJH5kCqisb/0xyR+8New8uGQC0Y6FlYhab9JEpoLqy8c8kd/TeGN6hYGFril1jq0gWWjNtkz4yBVRXNv6Z5I7eI7bJCptqbdAvO7uBttAmRDbpI1NAdWXjn0nu6D0y3EFf4Npid9gysQUv69ikj0wB1ZWNfya5o/eK3UWXAbOpVo9h5ciCl3Rs0kemgOrKxj+T3NF7xm6qLaxIvytWsIFWsEkfmQKqKxv/THJH75nh5ag0O6/DwsvELDbpI1NAdWXjn0nu6L1jd9Rpdj499hfbCpZxbNJHpoDqysY/k9zRe0d/6uoHVERfhmlZcJ+FCJv0kSmgurLxzyR39Dlw9+4zY2BTbTqGVSIrWL6xSR+ZAqorG/9MckefCzQ7nx47y11JS02b9JEpoLqy8c8kd/S5oFmYflBFNDs/H1sdspJaaJv0kSmgurLxzyR39DnBptp0rKhMzGKTPjIFVFc2/pnkjj4n2FSbDvsLbEVtNG3SR6aA6srGP5Pc0eeGXYfUDA3GM2wqtKKlGpv0kSmgurLxzyR39Lmh2S6bauexsjIxi036yBRQXdn4Z5I7+hyx65ESJWTHM/yltbLWmTbpI1NAdWXjn0nu6HPFXrpKs/Pjsb+wZL4r2UAr2KSPTAHVlY1/Jrmjz5XhuuTKZmwns6I+CxE26SNTQHVl459J7uhzhmbn47C1ziu9ss8mfWQKqK5s/DPJHX3ODNcnVzhzG4X9JbWyDbSCTfrIFFBd2fhnkjv63LHNziU21WL0C2plfRYibNKjXGWSO/oSoNn51dgysZX0WYiIkh/lKJPc0ZfAsNk5m2rPY5dhVnwl38XFxTYEsQmgdtLPIZNtFsDZ2PVKGQw8w5aJrajPAsA+MN0pkJEUY5HUgxf+gu2zwGYjAKY7GTQ7f57h0gsxAcB0J8WuXbKptuo+CwD7wHSnhGbnzxiWibHBCLBjmw0wKXYNc82baraGecVlYgBDMN2pGW6qrbVEauV9FgD2sc0ImBy7lrnGMinKxAD2gunWQCZjN9XW1uzcLrHQ6B3AgenWws72pLVsqqkszG6grbTPAsA+tlkB1Vhjs3O7tEKDd4DnwHRrollfMSBp6WVTw2UVysQAnmObGVCVNTU7ZwMN4Eow3doMZ39LLp+iTAzgSjDdFqyh2bnts6BZLn0WAEK2GQJNWHqzc7uBRp8FgL1guq1YcrNzLaFQJgZwFNsMgWYstdm5neXSZwHgIJhuSzQjLOYkLaXZuV06YQMN4CDbLIGm2E21JWw4USYGMApMNwNbQjb3TSfbZ+HWrcsHAWAfmG4GS2l2Przibs1N2wGOZJspkIKdIc51U40yMYDRYLpZDDfV5tbsfHilHX0WAI5imy2Qhp0pzm0Tym6gyXzZQAM4Ckw3k+FscU4Nv+mzAHASmG42dsYozWEzym4E0mcBYBTbrIF07KbaHK7oslfWsYEGMApMtweGpVc9b0ppSYQ+CwAns80a6IK5NDunzwLAWWC6vTDcVOt1c8oe49zK3AA6ANPtieGmWm8bVPb46LMAcBLb7IGusB27erubrt3wo0wM4CQw3d7odVNt2ISdMjGAk9hmD3RHj5tqdgONMjGAk8F0e0RrpcXgpOxm58MysZ5L2gA6Z5tB0CU9NTu3x0KZGMBZYLo9Y8uzMv+kp88CwGRguj3TQ7NzysQAJmWbSdA1tkxLM9/W2PHn1AUNoFMw3d4Zbqq1vApM68h2A40+CwBns80k6B5brtVyU82O29uFGgAzBdOdC62bnWuGbcekTAxgEjDduWA3tKTam2psoAFUYZtRMBvsplbtelnKxACqgOnOiWFfhlqbarbPQvaFGQALY5tVMCtu3fKGWAP6LABUA9OdG8MNLpnwlOj9KRMDqAamO0eGm2pT/vlvZ7n0WQCYnG1mwSyp1ezcvi8baACTg+nOleGm2hR1tJSJVeXi4mIb2hdQsvRzyGSbXTBbpm52bkvSpl4rhl3Coz6USe7ocB7DTa9zlgOGM+eMjmYLJ0p+lKNMckeH85mq2TllYtVxSf/1u6ixXPwTyR0dpsFufp1imMMytCnWh+E5XNIHpoDqysU/kdzRYRqGzc7H1tbaDTSZLxtoVXBJH5gCqisX/0RyR4fpsJtgMs4x0GehCS7pA1NAdeXin0ju6DAdmp3qw1R0bF8GO0s+Z00YrsQlfWAKqK5c/BPJHR2mxW6GHWugtuyMDbSquKQPTAHVlYt/Irmjw/TYDbGrmp0PS87os1AVl/SBKaC6cvFPJHd0mJ5hX4ZD9bZ2Zkyfheq4pA9MAdWVi38iuaNDHeym2iEztbPilje8XCku6QNTQHXl4p9I7uhQh2M21eiz0ByX9IEpoLpy8U8kd3Sox1XNzu1smDKxJrikD0wB1ZWLfyK5o0M9NHO1ywe2gY29HY9EmVgTXNIHpoDqysU/kdzRoS7DTbVirvRZSMElfWAKqK5c/BPJHR3qM2x2PiwTo89CM1zSB6aA6srFP5Hc0aE+mt3qQ1b0y18++5oysaa4pA9MAdWVi38iuaNDG+xVZ3/918++ZgOtKS7pA1NAdeXin0ju6NCG4ZKCRJlYc1zSB6aA6srFP5Hc0aEdttm59Pd/f/kEtMIlfWAKqK5c/BPJHR3aobXdv/qrZ6b76quXT0ArXNIHpoDqysU/EUx3LdgysSIa3DTFJX1gCqiuXPwTyR0d2jC8UKJobLNzOAuX9IEpoLpy8U8kd3Rog71I4qWXnn0t0eimGS7pA1NAdeXin0ju6NCG4e147t599n9VMXAZcBNc0gemgOrKxT+R3NGhPvv6LIxpdg6T4JI+MAVUVy7+ieSODvXZ12dheAfhQ83OYRJc0gem0JMe/Obnmzu3f3KU9NroPXqTi38iuaNDXYYXRQyrFWx7RzbVquOSPjCFnnTjte+74z0kvTZ6j95kjzmT3NGhLnaWG/VZkCmX5yU21arikj4whZ50zEz3+g+/tzuXmz/7UfgevcnFP5Hc0aEutsPYvj4L1pg1K4ZquKQPTGFOevKndzbXXnpxdy6PP/5V+Jre5OKfSO7oUI9jb8czrOFlU60aLukDU5iTNNPVecxlaUFy8U9k1OjXrl3bHfCbb755+cjzPH78+OmJ6WtIwq7X2rtGROxrdg6TUvJCikxhLrKz3Ed/eCN8TY9y8U9k1OgyWx3wK6+8cvnI89y8eXP3muvXr18+As2RadoNtGMqE2wtr75eC5rp6xdUg180LukDU5iLtN6rc5jTLFdy8U9k1Oh2Fvvw4cPLRz1lNvzgwYPLR6A5+8rEDiHTKd8jreWOEnYzsbL5ltyRIlOYi155+bu7c5jTLFdy8U9k9OiaweqgNaMdIiMuJ/XkyZPLR6EpwzXaMeZpm52vZVPNmm5RJfMtuSFFpjAHzXWWK7n4JzJ6dM1gy4EPjbUsLUSG3A12FojQIU1sviVvpMgU5qAyy334r78Mn+9ZLv6JjB5dRrtvCaE8vm/poQswXTRW6lUxAS7pA1PoXWWWK+ONnu9dLv6JnDR6tFlWZsCHNtm6ANNFx0obihNeHu2SPjCF3lVmuXO57HcoF/9EThrdbqh9+eWXu8def/313f/v3Lmz+z8kYNdkj91Aixg2yVnyplq0pjux2RZKzkiRKfSsuc9yJRf/RE4eXTNaHbzKyLTkUE6mmDA0RuZxqM/CWKyBL7kvgzXdSmZbKDkiRabQs+Y+y5Vc/BM5efT79+/vDl7mW5YWbty4cfksNMcum0R9FsYynAFOtK7ZHTrPymZbcEkfmEKvWsIsV3LxT+Tk0e3stsx6qc1NxJaJTdW4hmbnk1LyRYpMoVeVWe79O/8QPj8XufgnctboZUNNUuUCtblJHNtn4RSsmZ+zTgy7PHma9IEp9CgZ7S6/X3pxd/lv9Jq5yMU/kbNGtxdDdF2bu3RkhvogSVpmmBKanU+GS/rAFFBdufgnctbo9kIJNtCSGFYa1FgCsKa+5E21yrikD0wB1ZWLfyInj24vkjjUdQwqYzfQav35P9xUo9n5SbikD0wB1ZWLfyInja5lhbJ5pgskWMtNQmZoy8Rq1tNac5963XgluKQPTAHVlYt/IkeP/ujRI3fQkgyXZYVENOPUB0iq/We/TNZuqtHsfDQ2dyJTQHXl4p/I0aNb05XZ6sozZrjJqL5UHyBp6g20CFslIbGpNgqX9IEpoLpy8U8kd3Q4HVtV0PLPfWv0+hqOxiV9YAqorlz8E8kdHU7HVhS0/FNf1RFlXGnJfRkmxiV9YAqorlz8E8kdHU5Dxmc30M7tszCWNTY7nwCX9IEpoLpy8U8kd3Q4DVtJkPEn/nBTrcV68gJwSR+YAqorF/9EckeH8QwNL6tm1lZOSPRluBKX9IEpoLpy8U8kd3QYT80+C2NRN7NyLPRluBKX9IEpoLpy8U8kd3QYT+sysUMML0FmU+0gLukDU0B15eKfSO7oMI4WfRbGspZm5xPgkj4wBVRXLv6J5I4O47AbaL38Oa/ljXJM0lKbnU+AS/rAFFBdufgnkjs6HI/MLbNM7BB2U03HyKZaiEv6wBRQXbn4J5I7OhyPneVOcTueqbEVFWyqhbikD0wB1ZWLfyK5o8Px2EqBHutiaXZ+JS7pA1NAdeXin0ju6HAcPZWJHcJemsym2nO4pA9MAdWVi38iuaPDcVgzu3Xr8sEOGW6q0ezc4ZI+MAVUVy7+ieSODlcz7LPQ+5/tdu2551l5Ai7pA1NAdeXin0ju6HA1PZaJHUImazfVaHb+FJf0gSmgunLxTyR3dDjM0MDmcsWXXYOW2FTb4ZI+MAVUVy7+ieSODoex5iXzndOf6jQ7fw6b9ChXmeSODofpqc/CWLQWXY5doi/DNgyxAaD2yiR3dNiP7bMw16u8aHbuuLi42CU8ypV+Dplgur1iDWuuV3gN16TnNlsHqACm2yMyK1sm1lOfhbHQ7BzAsc0C6A5bJtZjn4Wx0Owc4CmYbo/YP8mXcFUXm2oAT9lmAHSFLRNb0hVdbKoB7MB0e8P2WVjSxpN+eZTzkmh2Ditl++mHbhjejmdpV3LR7BwA0+2KufVZOAW7Xs2mGqwQTLcXhmViS91sotk5rJztpx66wP7prdngkrHr1ks/V4ABmG4vzLnPwliGm2o0O4cVsf3EQzr2T+4llYkdwq5fs6kGKwLT7QH75/aamn7bTTWancNKwHSz0QzPbqDNuc/CWOyFIBKbarACtp90SMX+mb3GZt92lr+EPhMAV4DpZqK126X1WRjLsC8Dm2qwcLafckhjqX0WxqLbyts4ACwYTDeTNZWJHWI445cJAywUTDeLYZ+FtZdMDTfVKCGDhbL9dEMKa+izMBbb7Jw7CMNCwXQz0J/Tay0TO8RwU22p/Sdg1Ww/2dAc9ZItxkKZlIdm57BwMN0M7J/Ra95Aixj+FUB8YGFguq2hTOxqaHYOCwbTbY29AovSqP1wB2FYKJhuSzRjs38602tgP8Nm52w2wkLYfpqhGZSJjcP+VUCzc1gImG4rhlddUQ51NYpZiZdEXwZYANtPMjTBbqDJfNlAOw771wGbarAAMN1W0GfhdOxfCDQ7h5mD6bbA9llgtjaeYV8GNiBhxmw/wVAde5UVG2inYTfVuIoPZgymW5vhFVaUPp0Gm2qwELafXqiK3QhihnYeNDuHBYDp1sZuAjE7O49h2R1X9MEMwXRrQp+F6RluqrEpCTNj+6mFatjNH8rEpsP2ZaDZOcwMTLcWw9vxUOY0HZrd2thydR/MiO0nFqpAn4W60OwcZgqmW4NhmRgzsekZxpjlG5gJmG4NbBNu7bZDHWh2DjME060BfRbaQbNzmBmY7tTY5tuUidVnuGHJFX/QOdtPKUyKLROjI1YbbMxZzoHOwXSnRGuKdnOHWVcb9NdEibnElX/QMdtPKEyGLROjaL8td+8+iz2batAxmO5UaLZFn4VcbPxZ2oFOwXSngj4L+dhNTImrAKFDtp9MmATKxPqATTXoHEx3CoZlS6wn5sGmGnTO9lMJZ0Ofhb6wPw8t9QB0BKZ7LppZUSbWF8NNTTbVoCMw3XOxpUrcjqcfaHYOnbL9NMJZ2Gv/2UDrC5qdQ4dguudAmVjfaHZbfj4SLTahA7afRDgZW57ETRL7hGbn0BmY7qkM+yxQiN8nw001loAgGUz3VCgTmw+22bnEphoksv0EwmiGsyfWCvuHZufQCZjuKdgNNJkvG2j9M7xqkF+UkMT20wejoc/CPLGbavRlgCQw3bHYGZM20lgfnA/6i6T87CRd2ALQmO0nD0ZhZ0usDc4Pmp1DMpjuGDRTsmVi9FmYJ3YTlF+c0BhMdwy2TIw+C/OFZueQyPYTB0djZ0j0aZ039mpCNtWgIZjusdBnYVkMN9X4JQqN2H7a4CjszIgysWVgl4sa/CK9uLjYDvUCSpZ+DplguscwLKxnDXAZyGTtklHlZueRAaAcZZI7+lygz8JysctGUsVfqFHyoxxlkjv6HBiWiXH56PKwVxhWbHbukv7rd1Fjufgnkjv6HLAdqtjlXiaNmp27pA9MAdWVi38iuaPPAfosrIMGzc5d0gemgOrKxT+R3NF7xxbRKxG5ZHS5DDfVKvyCdUkfmAKqKxf/RHJH7x1bJlZ5Zxs6oHKzc5f0gSmgunLxTyR39J5RwtkNNPosrIOKzc5d0gemgOrKxT+R3NF7xpaJcfvu9TCsyZ5wU80lfWAKqK5c/BPJHb1Xhut7XCK6Lio1O3dJH5gCqisX/0RyR+8V+iysG/28y89fmqjZuUv6wBRQXbn4J5I7eq9QJgZ2U22iyhWX9IEpoLpy8U8kd/QeGa7pUSa2XuwSU9lU0+fjxEoWl/SBKaC6cvFPJHf0HqHPAhSGzc5ltpr1Sifgkj4wBVRXLv6J5I7eG8M+C5SJga3Vtjphnd8lfWAKqK5c/BPJHb037E0LuR0P6JcuprsYufgnkjt6b9jCeDbQ1o1+Adu/eoY6oQWkS/rAFFBdufgnkjt6T1AmBkNu3Xr2mRjqhKUnl/SBKaC6cvFPJHf0nrB/RirZAIRmtLaKoeiEK9Vc0gemgOrKxT+R3NF7Ydhn4YQ/HWHh2PV+6YQLJlzSB6aA6srFP5Hc0XuBMjE4Bv0yLuv+mO7s5OKfSO7oPaC1W/vnY6W7BsCCkOGesNHqkj4wBVRXLv6JYLp2A03mywYaHAMlY7OTi38imC59FqARLukDU0B15eKfyLpNV2t0+gFI2kijzwJUxCV9YAqorlz8E1m36dq+qWygQWVc0gem0IOe/OmdzY3Xvr9T9Lz04Dc/39y5/ZOjpNdG75EhF/9E1mu6WpOjzwI0xCV9YArZ+vI//nlz/Yffu/IYZcj2XA7pkHm3lj2uTHJHz8SWidFnARrgkj4whSxpdqtZ6bWXXjzqGI+Z6RbzvvmzH4XvkSF3bonkjp6JLRPjdjzQAJf0gSlkSAZqj0smee4xysSLgT/++FfhazJUzmt3bonkjp4FfRYgAZf0gSlkSLNSHY+WAR794Y2dzj1G+57R81kq57U7t0RyR8/C9lmgTAwa4ZI+MIUMaR1XM9Py/3NN185y9V7Ra7JUzmt3bomMHv3GjRvu4PepW2yZmESfBWiEy4/AFHrQuaZblit6m+VK5bx255bI6NFnb7r0WYABH3300eabb765/F89XH4EptCDzjXdV17+7u57e5vlSuW8dueWyGSjP378eHPt2rXdCd2/f//y0c4YlonRZwG23Lt3b3P79u3NBx98UNV8XdIHptCDzjHdnme5Ujmv3bklMsnoT5482Vy/fn13Mq+//vrlox1ib6ut6gWALcV0i2qZr0v6wBR60DmmW2a5D//1l+Hz2SrntTu3RCYZ/ebNm7sTkfHKgLvFLi2wgQaXDE23lvm6pA9MoQedarpllivjjZ7vQeW8dueWyNmjaylBJ6GlBS0x9M5n7767+T8//OGuz8Jbb721W8/7/PPPd0n27bff7hLwww8/3Hz11Ve7x77++utd8r333nu7r/XYF198sXvN22+/vfsePab3+OSTT3bvKfSv/m/fW6/X9+n7y3vrffX+5b01rl6j47DvreMs763H9N6ffvrp7muh99ZrynvLLMp7l3PRv/q/3lvP6zG9Xt+n7xd6TO9r33sYJ33voTjZ9x7GSe97VZzKew/jZH8G++Jk31uP2TiVn8EwTnoPfb1P+v4pcEkfmEIPOtV0yyxX5hs934PKee3OLZGzRpfJlpN48ODB5aMA82Kf6RaTnwqX9IEp9KBTTHcOs1ypnNfu3BI5eXQtI5SNszfffPPyUYD5MTTdqc224JI+MIUedIrpzmGWK5Xz2p1bIiePXkrHtI4LMGeK6dYy24JL+sAUetBY053LLFcq57U7t0ROGl0zWx24Zrpdb5wBHIHWeGuabcElfWAKPWis6ZZZ7v07/xA+35PKee3OLZHRoz98+PDpgT969OjyUQC4Cpf0gSn0oDGmK6PV63TZr72UuFeV89qdWyKjRy/ruFcJQwbw2PyITAHVlYt/IqNHtwd+SJgugMfmR2QKqK5c/BPJHR1gRbikD0wB1ZWLfyKYLkAjXNIHpoDqysU/EUwXoBEu6QNTQHXl4p8IpgvQCJf0gSmgunLxTwTTBWiES/rAFFBdufgngukCNMIlfWAKqK5c/BPBdAEa4ZI+MAVUVy7+iWC6AI1wSR+YAqorF/9EMF2ARrikD0wB1ZWLfyKYLkAjXNIHpoDqysU/EUwXoBEu6QNTQHXl4p8IpgvQCJf0gSmgunLxTwTTBWiES/rAFFBdufgngukCNMIlfWAKqK5c/BPBdAEa4ZI+MAVUVy7+iWC6AI1wSR+YAqorF/9EMF2ARrikD0wB1ZWLfyKYLkAjXNIHpoDqysU/EUwXoBEu6QNTQHXl4p8IpgvQCJf0gSmgunLxTwTTBWiES/rAFFBdufgngukCNMIlfWAKqK5c/BPBdAEaYZMe5SoTTBegEVHyoxxlgukCNOLi4iI0ANRW+jlkgukCADQE0wUAaAimCwDQEEwXAKAhmC4AQEMwXQCAhmC6AAANwXQBABqC6QIANATTBQBoCKYLANAQTBcAoCGYLgBAQzBdAICGYLoAAA3BdAEAmrHZ/H/zN1mSQ3ARkwAAAABJRU5ErkJggg==)"
      ],
      "metadata": {
        "id": "q8fqwp7vjlGq"
      }
    },
    {
      "cell_type": "markdown",
      "source": [
        "**Question 3**: Using the Python interpreter:\n",
        "\n",
        "Calculate the price of an item after 9% tax as follows:\n",
        "\n",
        "* Create a variable price and assign a value of $20.\n",
        "* Create a variable tax and assign 9% to it.\n",
        "* Create a variable final_price and assign the result of price plus 9% tax.\n",
        "* Print final_price"
      ],
      "metadata": {
        "id": "e2kkmwtdgXXN"
      }
    },
    {
      "cell_type": "code",
      "source": [
        "### START CODE ### (approx. 4 lines)\n",
        "price = 20.0\n",
        "tax = 0.09\n",
        "final_price = price + (price * tax)\n",
        "print(final_price)\n",
        "### END CODE ###"
      ],
      "metadata": {
        "colab": {
          "base_uri": "https://localhost:8080/"
        },
        "id": "KNZnMam5gpeo",
        "outputId": "d667f557-13fe-474a-ae8f-eb6da3a39155"
      },
      "execution_count": 10,
      "outputs": [
        {
          "output_type": "stream",
          "name": "stdout",
          "text": [
            "21.8\n"
          ]
        }
      ]
    },
    {
      "cell_type": "markdown",
      "source": [
        "**Question 4**: Using the Python interpreter:\n",
        "\n",
        "Calculate the price of an item after 20% discount as follows: (Assume this is a non-taxable item)\n",
        "\n",
        "* Create a variable price and assign a value of $25.\n",
        "* Create a variable discount and assign 20% to it.\n",
        "* Create a variable markdown and assign it the value that is the result of price times discount.\n",
        "* Create a variable markdown_price and decrease the value of markdown from price.\n",
        "* Print markdown_price"
      ],
      "metadata": {
        "id": "jksz0Jxog7yI"
      }
    },
    {
      "cell_type": "code",
      "source": [
        "### START CODE ### (approx. 5 lines)\n",
        "price = 25.0\n",
        "discount = 0.2\n",
        "markdown = price * discount\n",
        "markdown_price = price - markdown\n",
        "print(markdown_price) \n",
        "### END CODE ###"
      ],
      "metadata": {
        "colab": {
          "base_uri": "https://localhost:8080/"
        },
        "id": "_r8SXAnohL2C",
        "outputId": "3f4b6cdc-0b0b-458c-bd7f-1a9209850ed5"
      },
      "execution_count": 11,
      "outputs": [
        {
          "output_type": "stream",
          "name": "stdout",
          "text": [
            "20.0\n"
          ]
        }
      ]
    },
    {
      "cell_type": "markdown",
      "source": [
        "**Question 5**: Write a function named `mul_by_10`. The function should accept one argument and return the product of its argument multiplied times 10."
      ],
      "metadata": {
        "id": "G_cyscQ8hpC5"
      }
    },
    {
      "cell_type": "code",
      "source": [
        "def mul_by_10(num):\n",
        "  ### START CODE ### (approx. 1 lines)\n",
        "  return num*10\n",
        "  ### END CODE ###"
      ],
      "metadata": {
        "id": "dmnO2GpJhwDq"
      },
      "execution_count": 12,
      "outputs": []
    },
    {
      "cell_type": "code",
      "source": [
        "mul_by_10(27)"
      ],
      "metadata": {
        "colab": {
          "base_uri": "https://localhost:8080/"
        },
        "id": "chaRVYwqkU0g",
        "outputId": "8dc7ba0c-8f30-4b88-c0bb-99e7db362f35"
      },
      "execution_count": 19,
      "outputs": [
        {
          "output_type": "execute_result",
          "data": {
            "text/plain": [
              "270"
            ]
          },
          "metadata": {},
          "execution_count": 19
        }
      ]
    },
    {
      "cell_type": "code",
      "source": [
        "mul_by_10(6.2)"
      ],
      "metadata": {
        "colab": {
          "base_uri": "https://localhost:8080/"
        },
        "id": "6pZHcnlJkicp",
        "outputId": "aed3092a-c62b-4c97-dce7-3e77c6a07125"
      },
      "execution_count": 20,
      "outputs": [
        {
          "output_type": "execute_result",
          "data": {
            "text/plain": [
              "62.0"
            ]
          },
          "metadata": {},
          "execution_count": 20
        }
      ]
    },
    {
      "cell_type": "markdown",
      "source": [
        "**Question 6**: Write the function `km_to_miles`. The function should accept the distance in kilometers, then converts that distance to miles. "
      ],
      "metadata": {
        "id": "jwhYUky4h3uh"
      }
    },
    {
      "cell_type": "code",
      "source": [
        "def km_to_miles(km):\n",
        "  ### START CODE ### (approx. 2 lines)\n",
        "  miles = km * 0.6214\n",
        "  return miles\n",
        "  ### END CODE ###"
      ],
      "metadata": {
        "id": "LmnUGakih0pw"
      },
      "execution_count": 14,
      "outputs": []
    },
    {
      "cell_type": "code",
      "source": [
        "km_to_miles(4)"
      ],
      "metadata": {
        "colab": {
          "base_uri": "https://localhost:8080/"
        },
        "id": "WU4LDRnxkpa1",
        "outputId": "8bb3a234-ee3f-447e-ad27-4838ba58d0e8"
      },
      "execution_count": 22,
      "outputs": [
        {
          "output_type": "execute_result",
          "data": {
            "text/plain": [
              "2.4856"
            ]
          },
          "metadata": {},
          "execution_count": 22
        }
      ]
    },
    {
      "cell_type": "markdown",
      "source": [
        "**Question 7**: Financial experts often advise property owners to insure their property for at least 85% of the amount it would cost to replace the structure. The main function below asks the user to enter the replacement cost of a property. Implement `get_amount` so it works according to the recommendation of the financial experts.\n",
        "\n",
        "```\n",
        " def main():\n",
        "    replacement_cost = float(input('Enter cost of property: $'))\n",
        "    quote = get_amount(replacement_cost)\n",
        "    print(f'The minimum amount of insurance you should buy for the property is ${quote}')\n",
        "```\n",
        "\n"
      ],
      "metadata": {
        "id": "lCUCEDJNiA6P"
      }
    },
    {
      "cell_type": "code",
      "source": [
        "def get_amount(cost):\n",
        "  ### START CODE ### (approx. 3 lines)\n",
        "  MIN_PERCENTAGE = 0.85\n",
        "  total = cost * MIN_PERCENTAGE\n",
        "  return total\n",
        "  ### END CODE ###"
      ],
      "metadata": {
        "id": "gZ-4R--LiLDl"
      },
      "execution_count": 15,
      "outputs": []
    },
    {
      "cell_type": "code",
      "source": [
        "get_amount(650000)"
      ],
      "metadata": {
        "colab": {
          "base_uri": "https://localhost:8080/"
        },
        "id": "ojC-QYELkwSU",
        "outputId": "9ce272a0-a55e-4abc-ac82-6e685da8bd5f"
      },
      "execution_count": 23,
      "outputs": [
        {
          "output_type": "execute_result",
          "data": {
            "text/plain": [
              "552500.0"
            ]
          },
          "metadata": {},
          "execution_count": 23
        }
      ]
    },
    {
      "cell_type": "markdown",
      "source": [
        "**Question 8**: Write the function `my_car_expenses` that accepts the monthly expenses of a car: loan payment, insurance, gas, oil, tires, and maintenance as arguments. The function displays the total monthly cost of these expenses, and the total annual cost of these expenses."
      ],
      "metadata": {
        "id": "_qqK0M5kitJL"
      }
    },
    {
      "cell_type": "code",
      "source": [
        "def my_car_expenses(loan, insurance, gas, oil, tires, maint):\n",
        "  ### START CODE ### (approx. 4 lines)\n",
        "  MONTHS = 12\n",
        "  monthly_cost = loan + insurance + gas + oil + tires + maint\n",
        "  annual_cost = monthly_cost * MONTHS\n",
        "  print(f'Car expenses are ${monthly_cost} month and ${annual_cost} a year')\n",
        "  ### END CODE ###"
      ],
      "metadata": {
        "id": "P2ohQCoAi1sU"
      },
      "execution_count": 25,
      "outputs": []
    },
    {
      "cell_type": "code",
      "source": [
        "my_car_expenses(250, 100, 150, 50, 200, 100)"
      ],
      "metadata": {
        "colab": {
          "base_uri": "https://localhost:8080/"
        },
        "id": "ImNALHyUlBeQ",
        "outputId": "d9f6ae13-d88c-4ea3-9bcc-80273c176c4a"
      },
      "execution_count": 26,
      "outputs": [
        {
          "output_type": "stream",
          "name": "stdout",
          "text": [
            "Car expenses are $850 month and $10200 a year\n"
          ]
        }
      ]
    }
  ]
}