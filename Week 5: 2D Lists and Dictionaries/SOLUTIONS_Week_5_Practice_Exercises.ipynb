{
  "nbformat": 4,
  "nbformat_minor": 0,
  "metadata": {
    "colab": {
      "provenance": []
    },
    "kernelspec": {
      "name": "python3",
      "display_name": "Python 3"
    },
    "language_info": {
      "name": "python"
    }
  },
  "cells": [
    {
      "cell_type": "markdown",
      "source": [
        "The following questions were created to supplement the required course material and should be completed using only the statements and other features we have learned so far. Try them first before looking at the solution. Do not hesitate to ask question during office hours or in our Q&A discussion platform if you need additional help."
      ],
      "metadata": {
        "id": "CfgLNzZe4m-u"
      }
    },
    {
      "cell_type": "markdown",
      "source": [
        "**Question 1**: Write a function `is_present` that checks to check if a given key is in the following dictionary and returns `True` or `False` accordingly:\n",
        "\n",
        "```\n",
        "d = {1: 10, 2: 20, 3: 30, 4: 40, 5: 50, 6: 60}\n",
        "```\n",
        "\n"
      ],
      "metadata": {
        "id": "g5UzRzOZ4oqo"
      }
    },
    {
      "cell_type": "code",
      "source": [
        "d = {1: 10, 2: 20, 3: 30, 4: 40, 5: 50, 6: 60}\n",
        "def is_key_present(key):\n",
        "  ### START CODE ### (approx. 4 lines)\n",
        "  if key in d:\n",
        "    return True\n",
        "  else:\n",
        "    return False\n",
        "  ### END CODE ###"
      ],
      "metadata": {
        "id": "sdr1y2aA4_qA"
      },
      "execution_count": 7,
      "outputs": []
    },
    {
      "cell_type": "code",
      "source": [
        "is_key_present(3)"
      ],
      "metadata": {
        "colab": {
          "base_uri": "https://localhost:8080/"
        },
        "id": "Nd-E9K3g-M7c",
        "outputId": "8a943af5-3e71-44cb-f1b0-369cc1206750"
      },
      "execution_count": 8,
      "outputs": [
        {
          "output_type": "execute_result",
          "data": {
            "text/plain": [
              "True"
            ]
          },
          "metadata": {},
          "execution_count": 8
        }
      ]
    },
    {
      "cell_type": "code",
      "source": [
        "is_key_present(30)"
      ],
      "metadata": {
        "colab": {
          "base_uri": "https://localhost:8080/"
        },
        "id": "vleOZUqe-Rsb",
        "outputId": "74cc73b3-49ef-4f6a-e3db-ab490cb6d35a"
      },
      "execution_count": 9,
      "outputs": [
        {
          "output_type": "execute_result",
          "data": {
            "text/plain": [
              "False"
            ]
          },
          "metadata": {},
          "execution_count": 9
        }
      ]
    },
    {
      "cell_type": "markdown",
      "source": [
        "**Question 2**: Consider the following nested list:\n",
        "\n",
        "```\n",
        "L = ['a', 'b', ['cc', 'dd', ['eee', 'fff']], 'g', 'h']\n",
        "```\n",
        "\n",
        "\n",
        "Create print statements to print the following:\n",
        "\n",
        "\n",
        "```\n",
        ">>> ['cc', 'dd', ['eee', 'fff']]\n",
        ">>> ['eee', 'fff']\n",
        ">>> eee\n",
        "```\n",
        "\n"
      ],
      "metadata": {
        "id": "SWtV9qr35BBy"
      }
    },
    {
      "cell_type": "code",
      "source": [
        "L = ['a', 'b', ['cc', 'dd', ['eee', 'fff']], 'g', 'h']\n",
        "### START CODE ### (approx. 3 lines)\n",
        "print(L[2])\n",
        "print(L[2][2])\n",
        "print(L[2][2][0])\n",
        "### END CODE ###"
      ],
      "metadata": {
        "colab": {
          "base_uri": "https://localhost:8080/"
        },
        "id": "CZjnLrdw44aA",
        "outputId": "8e06ce2a-6f7f-48a9-dac9-f3812423f2da"
      },
      "execution_count": 10,
      "outputs": [
        {
          "output_type": "stream",
          "name": "stdout",
          "text": [
            "['cc', 'dd', ['eee', 'fff']]\n",
            "['eee', 'fff']\n",
            "eee\n"
          ]
        }
      ]
    },
    {
      "cell_type": "markdown",
      "source": [
        "**Question 3**: Write a program which gets the maximum and minimum values from the following dictionary:\n",
        "\n",
        "\n",
        "\n",
        "```\n",
        "my_dict = {'x': 500, 'y': 5874, 'z': 560}\n",
        "```\n",
        "\n"
      ],
      "metadata": {
        "id": "in2id_9f5Bir"
      }
    },
    {
      "cell_type": "code",
      "source": [
        "my_dict = {'x': 500, 'y': 5874, 'z': 560}\n",
        "### START CODE ### (approx. 9 lines)\n",
        "for value in my_dict.values():\n",
        "  if value > max_value:\n",
        "    max_value = value\n",
        "  if value < min_value:\n",
        "    min_value = value\n",
        "\n",
        "print(max_value)\n",
        "print(min_value)\n",
        "### END CODE ###"
      ],
      "metadata": {
        "colab": {
          "base_uri": "https://localhost:8080/"
        },
        "id": "TTOTeAS344x5",
        "outputId": "afa1002e-c131-4aaf-867e-ba41e97d2b6b"
      },
      "execution_count": 30,
      "outputs": [
        {
          "output_type": "stream",
          "name": "stdout",
          "text": [
            "5874\n",
            "500\n"
          ]
        }
      ]
    },
    {
      "cell_type": "markdown",
      "source": [
        "**Question 4**: Convert the following string to a dictionary such that all items on the left side of \"=\" is the key and all items on the right side are values.\n",
        "\n",
        "\n",
        "```\n",
        "str = \"Jan=January, Feb=February, Mar=March\"\n",
        "```\n",
        "\n"
      ],
      "metadata": {
        "id": "0x29J9pt5CKm"
      }
    },
    {
      "cell_type": "code",
      "source": [
        "str = \"Jan=January, Feb=February, Mar=March\"\n",
        "### START CODE ### (approx. 6 lines)\n",
        "pairs = str.split(\",\")\n",
        "result = {}\n",
        "\n",
        "for pair in pairs:\n",
        "  key, value = pair.strip().split(\"=\")\n",
        "  result[key] = value\n",
        "\n",
        "print(result)\n",
        "### END CODE ###"
      ],
      "metadata": {
        "colab": {
          "base_uri": "https://localhost:8080/"
        },
        "id": "Za8I6ySC447v",
        "outputId": "55a6064e-19be-4053-fbcf-e8969dc12992"
      },
      "execution_count": 31,
      "outputs": [
        {
          "output_type": "stream",
          "name": "stdout",
          "text": [
            "{'Jan': 'January', 'Feb': 'February', 'Mar': 'March'}\n"
          ]
        }
      ]
    },
    {
      "cell_type": "markdown",
      "source": [
        "**Question 5**: Given the following dictionary of students and their grade:\n",
        "\n",
        "\n",
        "\n",
        "```\n",
        "students = { \n",
        "'Ryan': 82, \n",
        "'Harsh': 95,\n",
        "'Philip': 89,\n",
        "'Christopher': 99, \n",
        "'Sara': 36, \n",
        "'Daniel': 94,\n",
        "'Kyle': 90\n",
        "}\n",
        "```\n",
        "\n",
        "\n",
        "\n",
        "Write a program which finds the student with the highest grade and prints that student's name."
      ],
      "metadata": {
        "id": "DQnyUyxz5Cqs"
      }
    },
    {
      "cell_type": "code",
      "source": [
        "students = { 'Ryan': 82, 'Harsh': 95,'Philip': 89,'Christopher': 99, 'Sara': 36, 'Daniel': 94, 'Kyle': 90 }\n",
        "### START CODE ### (approx. 7 lines)\n",
        "max_grade = 0\n",
        "max_student = None\n",
        "\n",
        "for student, grade in students.items():\n",
        "  if grade > max_grade:\n",
        "    max_grade = grade\n",
        "    max_student = student\n",
        "\n",
        "print(max_student)\n",
        "### END CODE ###"
      ],
      "metadata": {
        "colab": {
          "base_uri": "https://localhost:8080/"
        },
        "id": "PqmGF6Nf45D5",
        "outputId": "ae7a9050-32b6-4249-fe9c-bf29fef568a5"
      },
      "execution_count": 34,
      "outputs": [
        {
          "output_type": "stream",
          "name": "stdout",
          "text": [
            "Christopher\n"
          ]
        }
      ]
    },
    {
      "cell_type": "markdown",
      "source": [
        "**Question 6**: In battleship, a player creates a board filled with either a ship or water. A ship is represented by `\"x\"` and water is represented by `\"o\"`. When a player takes a turn, they select a spot on the board to guess where their opponents ship is. Write a function `battleship` that given a 2d array that represents a board, and a 2d array that represents a turn, returns `True` if a player hit a ship and `False` otherwise. The second 2d array will only contain one `\"x\"`.\n",
        "\n",
        "Example:\n",
        "\n",
        "\n",
        "\n",
        "\n",
        "```\n",
        "board = [[\"x\", \"o\", \"o\"], [\"x\", \"x\", \"x\"], [\"o\", \"o\", \"o\"]]\n",
        "turn = [[\"o\", \"o\", \"o\"], [\"o\", \"x\", \"o\"], [\"o\", \"o\", \"o\"]]\n",
        "```\n",
        "\n",
        "\n",
        "\n",
        "```\n",
        ">>> battleship(board, turn)\n",
        "TRUE\n",
        "```\n",
        "\n"
      ],
      "metadata": {
        "id": "AtqWTTvI5DTj"
      }
    },
    {
      "cell_type": "code",
      "source": [
        "def battleship(board, turn):\n",
        "  ### START CODE ### (approx. 5 lines)\n",
        "  for i in range(len(board)):\n",
        "    for j in range(len(board[0])):\n",
        "      if board[i][j] == \"x\" and turn[i][j] == \"x\":\n",
        "        return True\n",
        "  return False\n",
        "  ### END CODE ###"
      ],
      "metadata": {
        "id": "0E5PSo2845MC"
      },
      "execution_count": 35,
      "outputs": []
    },
    {
      "cell_type": "code",
      "source": [
        "board = [[\"x\", \"o\", \"o\"], [\"x\", \"x\", \"x\"], [\"o\", \"o\", \"o\"]]\n",
        "turn = [[\"o\", \"o\", \"o\"], [\"o\", \"x\", \"o\"], [\"o\", \"o\", \"o\"]]\n",
        "battleship(board, turn)"
      ],
      "metadata": {
        "colab": {
          "base_uri": "https://localhost:8080/"
        },
        "id": "5_nAuopM8iXE",
        "outputId": "d53704d6-372e-4af3-eda9-c20a3b218979"
      },
      "execution_count": 36,
      "outputs": [
        {
          "output_type": "execute_result",
          "data": {
            "text/plain": [
              "True"
            ]
          },
          "metadata": {},
          "execution_count": 36
        }
      ]
    },
    {
      "cell_type": "markdown",
      "source": [
        "**Question 7**: **CHALLENGE**:\n",
        "\n",
        "\n",
        "A **sentence** is a string of single-space separated words where each word consists only of lowercase letters.\n",
        "\n",
        "A word is **uncommon** if it appears exactly once in one of the sentences, and **does not appear** in the other sentence.\n",
        "\n",
        "Given two sentences `s1` and `s2`, write a function `uncommon` that returns a list of ***all the uncommon words***. You may return the answer in **any order**.\n",
        "\n",
        "\n",
        "\n",
        "\n",
        "Examples:\n",
        "\n",
        "\n",
        "```\n",
        "Input: s1 = \"this apple is sweet\", s2 = \"this apple is sour\"\n",
        "Output: [\"sweet\",\"sour\"]\n",
        "```\n",
        "\n",
        "\n",
        "\n",
        "\n",
        "\n",
        "```\n",
        "Input: s1 = \"apple apple\", s2 = \"banana\"\n",
        "Output: [\"banana\"]\n",
        "```\n",
        "\n",
        "\n",
        "\n",
        "\n",
        "\n",
        "\n",
        "\n",
        "Constraints:\n",
        "\n",
        "\n",
        "\n",
        "```\n",
        "1 <= s1.length, s2.length <= 200\n",
        "```\n",
        "```\n",
        "s1 and s2 consist of lowercase English letters and spaces.\n",
        "```\n",
        "```\n",
        "s1 and s2 do not have leading or trailing spaces.\n",
        "```\n",
        "```\n",
        "All the words in s1 and s2 are separated by a single space.\n",
        "```\n",
        "\n",
        "\n",
        "\n",
        "\n"
      ],
      "metadata": {
        "id": "RLfmIBub5Dzr"
      }
    },
    {
      "cell_type": "code",
      "source": [
        "def uncommon(st1, st2):\n",
        "  ### START CODE ### (approx. 12 lines)\n",
        "  combined_strings = st1.split() + st2.split()\n",
        "  word_frequency = {}\n",
        "\n",
        "  for word in combined_strings:\n",
        "    if word not in word_frequency:\n",
        "      word_frequency[word] = 1\n",
        "    else:\n",
        "      word_frequency[word] += 1\n",
        "\n",
        "  lst = []\n",
        "  for key in word_frequency:\n",
        "    if word_frequency[key] == 1:\n",
        "      lst.append(key)\n",
        "\n",
        "  return lst\n",
        "  ### END CODE ###"
      ],
      "metadata": {
        "id": "eThbvPRw45UP"
      },
      "execution_count": 54,
      "outputs": []
    },
    {
      "cell_type": "code",
      "source": [
        "st1 = \"this apple is sweet\"\n",
        "st2 = \"this apple is sour\"\n",
        "uncommon(st1, st2)"
      ],
      "metadata": {
        "colab": {
          "base_uri": "https://localhost:8080/"
        },
        "id": "5hl4hH1s8tIu",
        "outputId": "14da4e33-3223-4bfe-c64c-6cb0ee558cdd"
      },
      "execution_count": 55,
      "outputs": [
        {
          "output_type": "execute_result",
          "data": {
            "text/plain": [
              "['sweet', 'sour']"
            ]
          },
          "metadata": {},
          "execution_count": 55
        }
      ]
    },
    {
      "cell_type": "code",
      "source": [
        "st1 = \"apple apple\"\n",
        "st2 = \"banana\"\n",
        "uncommon(st1, st2)"
      ],
      "metadata": {
        "colab": {
          "base_uri": "https://localhost:8080/"
        },
        "id": "XFfZaaGN8taE",
        "outputId": "ff665fe5-88b2-42d7-f0d1-a552e0c41dee"
      },
      "execution_count": 56,
      "outputs": [
        {
          "output_type": "execute_result",
          "data": {
            "text/plain": [
              "['banana']"
            ]
          },
          "metadata": {},
          "execution_count": 56
        }
      ]
    },
    {
      "cell_type": "markdown",
      "source": [
        "**Question 8**: **CHALLENGE**: \n",
        "\n",
        "You are given `row x col` grid representing a map where `grid[i][j] = 1` represents land and `grid[i][j] = 0` represents water.\n",
        "\n",
        "Grid cells are connected **horizontally/vertically** (not diagonally). The grid is completely surrounded by water, and there is exactly one island (i.e., one or more connected land cells).\n",
        "\n",
        "The island doesn't have \"lakes\", meaning the water inside isn't connected to the water around the island. One cell is a square with side length 1. The grid is rectangular, width and height don't exceed 100. Write a function `perimeter` that determines the perimeter of the island.\n",
        "\n",
        "Examples:\n",
        "\n",
        "\n",
        "```\n",
        "Input: grid = [[0,1,0,0],[1,1,1,0],[0,1,0,0],[1,1,0,0]]\n",
        "Output: 16\n",
        "```\n",
        "```\n",
        "Input: grid = [[1]]\n",
        "Output: 4\n",
        "```\n",
        "```\n",
        "Input: grid = [[1,0]]\n",
        "Output: 4\n",
        "```\n",
        "\n",
        "\n",
        "\n",
        "Constaints:\n",
        "```\n",
        "row == grid.length\n",
        "```\n",
        "```\n",
        "col == grid[i].length\n",
        "```\n",
        "```\n",
        "1 <= row, col <= 100\n",
        "```\n",
        "```\n",
        "grid[i][j] is 0 or 1.\n",
        "```\n",
        "```\n",
        "There is exactly one island in grid.\n",
        "```\n"
      ],
      "metadata": {
        "id": "2GBc9lAM5EW8"
      }
    },
    {
      "cell_type": "code",
      "source": [
        "def perimeter(grid):\n",
        "  ### START CODE ### (approx. 11 lines)\n",
        "  island = 0\n",
        "  neighbor = 0\n",
        "\n",
        "  for y in range(len(grid)):\n",
        "    for x in range(len(grid[y])):\n",
        "      if grid[y][x] == 1:\n",
        "        island += 1\n",
        "        if x < len(grid[y]) - 1 and grid[y][x + 1] == 1:\n",
        "          neighbor += 1\n",
        "        if y < len(grid) - 1 and grid[y + 1][x] == 1:\n",
        "          neighbor += 1\n",
        "  return (island * 4) - (2 * neighbor)\n",
        "  ### END CODE ###"
      ],
      "metadata": {
        "id": "GdgTmH_S45cP"
      },
      "execution_count": 59,
      "outputs": []
    },
    {
      "cell_type": "code",
      "source": [
        "grid = [[0,1,0,0],[1,1,1,0],[0,1,0,0],[1,1,0,0]]\n",
        "perimeter(grid)"
      ],
      "metadata": {
        "colab": {
          "base_uri": "https://localhost:8080/"
        },
        "id": "2DoAYpEr9Ens",
        "outputId": "cdcd52f9-dcbc-4462-9ede-bfd56d52c55b"
      },
      "execution_count": 61,
      "outputs": [
        {
          "output_type": "execute_result",
          "data": {
            "text/plain": [
              "16"
            ]
          },
          "metadata": {},
          "execution_count": 61
        }
      ]
    },
    {
      "cell_type": "code",
      "source": [
        "grid = [[1]]\n",
        "perimeter(grid)"
      ],
      "metadata": {
        "colab": {
          "base_uri": "https://localhost:8080/"
        },
        "id": "h8MPsJBQ9Exl",
        "outputId": "e00dee8b-c249-4b80-e1b0-a0e20f53eb3d"
      },
      "execution_count": 62,
      "outputs": [
        {
          "output_type": "execute_result",
          "data": {
            "text/plain": [
              "4"
            ]
          },
          "metadata": {},
          "execution_count": 62
        }
      ]
    },
    {
      "cell_type": "code",
      "source": [
        "grid = [[1,0]]\n",
        "perimeter(grid)"
      ],
      "metadata": {
        "colab": {
          "base_uri": "https://localhost:8080/"
        },
        "id": "fdbdVI779E6v",
        "outputId": "78da49c7-03b8-459e-febc-2ed0bfd84837"
      },
      "execution_count": 63,
      "outputs": [
        {
          "output_type": "execute_result",
          "data": {
            "text/plain": [
              "4"
            ]
          },
          "metadata": {},
          "execution_count": 63
        }
      ]
    }
  ]
}