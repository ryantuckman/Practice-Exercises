{
  "nbformat": 4,
  "nbformat_minor": 0,
  "metadata": {
    "colab": {
      "provenance": []
    },
    "kernelspec": {
      "name": "python3",
      "display_name": "Python 3"
    },
    "language_info": {
      "name": "python"
    }
  },
  "cells": [
    {
      "cell_type": "markdown",
      "source": [
        "The following questions were created to supplement the required course material and should be completed using only the statements and other features we have learned so far. Try them first before looking at the solution. Do not hesitate to ask question during office hours or in our Q&A discussion platform if you need additional help."
      ],
      "metadata": {
        "id": "hwanc7EwC4Yw"
      }
    },
    {
      "cell_type": "markdown",
      "source": [
        "**Question 1**: While running a program, a `NameError` occurs because a variable was not defined. Based on the following traceback, on what line number and in what function did the error occur?\n",
        "\n",
        "\n",
        "```\n",
        "Traceback: \n",
        "File \"example.py\", line 14, in <module>\n",
        "main() \n",
        "File \"example.py\", line 10, in main \n",
        "function_1() \n",
        "File \"example.py\", line 4, in function_1 \n",
        "function_2() \n",
        "File \"example.py\", line 7, in function_2 \n",
        "function_3() \n",
        "File \"example.py\", line 11, in function_3 \n",
        "print(some_variable) \n",
        "NameError: name 'some_variable' is not defined\n",
        "\n",
        "```\n",
        "\n"
      ],
      "metadata": {
        "id": "8DE_hN-wC76J"
      }
    },
    {
      "cell_type": "markdown",
      "source": [
        "The error occurred on `line 11`, in `function_3`.\n",
        "\n",
        "Recall that a traceback shows the most recent call last."
      ],
      "metadata": {
        "id": "9d0S8k88ITdt"
      }
    },
    {
      "cell_type": "markdown",
      "source": [
        "**Question 2**: What will be printed when the following statements are executed?\n",
        "\n",
        "\n",
        "```\n",
        ">>> x = 10\n",
        ">>> x == 10\n",
        ">>> if x < 12:\n",
        "        x > 12\n",
        ">>> if x = 10\n",
        "        x = 10\n",
        "```\n",
        "\n"
      ],
      "metadata": {
        "id": "9tpSZBcuDQqn"
      }
    },
    {
      "cell_type": "code",
      "execution_count": 2,
      "metadata": {
        "id": "bLQgOBY3CnvL"
      },
      "outputs": [],
      "source": [
        "x = 10"
      ]
    },
    {
      "cell_type": "code",
      "source": [
        "x == 10"
      ],
      "metadata": {
        "id": "as8jmdH7DkO-",
        "colab": {
          "base_uri": "https://localhost:8080/"
        },
        "outputId": "4ecb5139-d2ac-4875-eaf7-e1d03b0ebb06"
      },
      "execution_count": 3,
      "outputs": [
        {
          "output_type": "execute_result",
          "data": {
            "text/plain": [
              "True"
            ]
          },
          "metadata": {},
          "execution_count": 3
        }
      ]
    },
    {
      "cell_type": "code",
      "source": [
        "if x < 12:\n",
        "  x > 12"
      ],
      "metadata": {
        "id": "SJp7hMFUDm6f"
      },
      "execution_count": 4,
      "outputs": []
    },
    {
      "cell_type": "code",
      "source": [
        "if x = 10\n",
        "  x = 10"
      ],
      "metadata": {
        "id": "184s7sxtDqrQ",
        "colab": {
          "base_uri": "https://localhost:8080/",
          "height": 131
        },
        "outputId": "85af755b-528f-44ab-9450-dd2e202605dc"
      },
      "execution_count": 5,
      "outputs": [
        {
          "output_type": "error",
          "ename": "SyntaxError",
          "evalue": "ignored",
          "traceback": [
            "\u001b[0;36m  File \u001b[0;32m\"<ipython-input-5-7b899c0c60a5>\"\u001b[0;36m, line \u001b[0;32m1\u001b[0m\n\u001b[0;31m    if x = 10\u001b[0m\n\u001b[0m         ^\u001b[0m\n\u001b[0;31mSyntaxError\u001b[0m\u001b[0;31m:\u001b[0m invalid syntax\n"
          ]
        }
      ]
    },
    {
      "cell_type": "markdown",
      "source": [
        "**Question 3**: Without using a Python interpreter, predict if the following statements will cause an error:\n",
        "\n",
        "* [1, 2, 3, 5, 6, 8, 10]\n",
        "\n",
        "* (25, 3, 7)\n",
        "\n",
        "* [green, red, blue]\n",
        "\n",
        "* [\"green\", \"4\", \"red\", \"7\"]\n",
        "\n",
        "* [\"green\", 4, \"red\", 7]"
      ],
      "metadata": {
        "id": "1AYmDzvbD1Vd"
      }
    },
    {
      "cell_type": "code",
      "source": [
        "[1, 2, 3, 5, 6, 8, 10]"
      ],
      "metadata": {
        "id": "BYoraKEtD8_Z",
        "colab": {
          "base_uri": "https://localhost:8080/"
        },
        "outputId": "64f23ddd-04dc-4c9a-aafa-82e606b58948"
      },
      "execution_count": 6,
      "outputs": [
        {
          "output_type": "execute_result",
          "data": {
            "text/plain": [
              "[1, 2, 3, 5, 6, 8, 10]"
            ]
          },
          "metadata": {},
          "execution_count": 6
        }
      ]
    },
    {
      "cell_type": "code",
      "source": [
        "(25, 3, 7)"
      ],
      "metadata": {
        "id": "xVAUqE06EBa4",
        "colab": {
          "base_uri": "https://localhost:8080/"
        },
        "outputId": "db2d8f08-1fa5-4d12-cc7a-06595d614cc1"
      },
      "execution_count": 7,
      "outputs": [
        {
          "output_type": "execute_result",
          "data": {
            "text/plain": [
              "(25, 3, 7)"
            ]
          },
          "metadata": {},
          "execution_count": 7
        }
      ]
    },
    {
      "cell_type": "code",
      "source": [
        "[green, red, blue]"
      ],
      "metadata": {
        "id": "xCswq6ZUECqj",
        "colab": {
          "base_uri": "https://localhost:8080/",
          "height": 166
        },
        "outputId": "209ead54-3aab-4f98-87d4-b0f178f47c66"
      },
      "execution_count": 8,
      "outputs": [
        {
          "output_type": "error",
          "ename": "NameError",
          "evalue": "ignored",
          "traceback": [
            "\u001b[0;31m---------------------------------------------------------------------------\u001b[0m",
            "\u001b[0;31mNameError\u001b[0m                                 Traceback (most recent call last)",
            "\u001b[0;32m<ipython-input-8-1d15f6f90006>\u001b[0m in \u001b[0;36m<module>\u001b[0;34m\u001b[0m\n\u001b[0;32m----> 1\u001b[0;31m \u001b[0;34m[\u001b[0m\u001b[0mgreen\u001b[0m\u001b[0;34m,\u001b[0m \u001b[0mred\u001b[0m\u001b[0;34m,\u001b[0m \u001b[0mblue\u001b[0m\u001b[0;34m]\u001b[0m\u001b[0;34m\u001b[0m\u001b[0;34m\u001b[0m\u001b[0m\n\u001b[0m",
            "\u001b[0;31mNameError\u001b[0m: name 'green' is not defined"
          ]
        }
      ]
    },
    {
      "cell_type": "code",
      "source": [
        "[\"green\", \"4\", \"red\", \"7\"]"
      ],
      "metadata": {
        "id": "68TYpr44EDoX",
        "colab": {
          "base_uri": "https://localhost:8080/"
        },
        "outputId": "b96c9e5d-3d6e-45ab-9ca6-44fab07c3e6e"
      },
      "execution_count": 9,
      "outputs": [
        {
          "output_type": "execute_result",
          "data": {
            "text/plain": [
              "['green', '4', 'red', '7']"
            ]
          },
          "metadata": {},
          "execution_count": 9
        }
      ]
    },
    {
      "cell_type": "code",
      "source": [
        "[\"green\", 4, \"red\", 7]"
      ],
      "metadata": {
        "id": "zcn-tFxjEElh",
        "colab": {
          "base_uri": "https://localhost:8080/"
        },
        "outputId": "f86afcf8-de8c-470f-8c16-5c42b8f8c6b6"
      },
      "execution_count": 10,
      "outputs": [
        {
          "output_type": "execute_result",
          "data": {
            "text/plain": [
              "['green', 4, 'red', 7]"
            ]
          },
          "metadata": {},
          "execution_count": 10
        }
      ]
    },
    {
      "cell_type": "markdown",
      "source": [
        "**Question 4**: Consider the following program:\n",
        "\n",
        "\n",
        "```\n",
        "def add(a, b): \n",
        "   # Returns the addition of a and b\n",
        " return a + b \n",
        "\n",
        "def subtract(a, b): \n",
        "  # Returns the subtraction of a and b\n",
        "   return a - b \n",
        "\n",
        "def multiply(a, b): \n",
        "  # Returns the multiplication of a and b\n",
        "   return a * b \n",
        "\n",
        "def divide(a, b): \n",
        "  # Returns the division of a and b\n",
        "   return a / b\n",
        "```\n",
        "\n",
        "Without using the Python interpreter, draw the stack diagram and determine the value that is printed at the end of the following execution:\n",
        "\n",
        "\n",
        "```\n",
        ">>> x = 7\n",
        ">>> y = 3\n",
        ">>> z = multiply(y, x)\n",
        ">>> z = multiply(x, x)\n",
        ">>> y = 6\n",
        ">>> x = subtract(z, y)\n",
        ">>> print(x)\n",
        "```\n",
        "\n"
      ],
      "metadata": {
        "id": "stfsKcGVEHj5"
      }
    },
    {
      "cell_type": "code",
      "source": [
        "def add(a, b): \n",
        "   # Returns the addition of a and b\n",
        " return a + b \n",
        "\n",
        "def subtract(a, b): \n",
        "  # Returns the subtraction of a and b\n",
        "   return a - b \n",
        "\n",
        "def multiply(a, b): \n",
        "  # Returns the multiplication of a and b\n",
        "   return a * b \n",
        "\n",
        "def divide(a, b): \n",
        "  # Returns the division of a and b\n",
        "   return a / b"
      ],
      "metadata": {
        "id": "ONQByuI7IohD"
      },
      "execution_count": 12,
      "outputs": []
    },
    {
      "cell_type": "code",
      "source": [
        "x = 7\n",
        "y = 3\n",
        "z = multiply(y, x)\n",
        "z = multiply(x, x)\n",
        "y = 6\n",
        "x = subtract(z, y)\n",
        "print(x)"
      ],
      "metadata": {
        "id": "D75quGMuEZPE",
        "colab": {
          "base_uri": "https://localhost:8080/"
        },
        "outputId": "186fc83c-c1a9-46ad-b8ee-d71546b9fa8f"
      },
      "execution_count": 13,
      "outputs": [
        {
          "output_type": "stream",
          "name": "stdout",
          "text": [
            "43\n"
          ]
        }
      ]
    },
    {
      "cell_type": "markdown",
      "source": [
        "**Question 5**: A locked door features a keypad that allows a user to input a password to gain access to a room. The password is `124*`. Write a function `input_password` that takes in an input parameter and will set the locked status to `False` if the input matches the password. The locked status should initially begin as `True`."
      ],
      "metadata": {
        "id": "44kOoxgEEdvF"
      }
    },
    {
      "cell_type": "code",
      "source": [
        "def input_password(input):\n",
        "  ### START CODE ### (approx. 3 lines)\n",
        "  locked = True\n",
        "  if input == \"124*\":\n",
        "    locked = False\n",
        "  ### END CODE ###"
      ],
      "metadata": {
        "id": "cv8x2WoOEyCW"
      },
      "execution_count": 17,
      "outputs": []
    },
    {
      "cell_type": "markdown",
      "source": [
        "**Question 6**: A game changes its difficulty setting based on player performance which is measured in the `score` parameter. Write a function `change_difficulty` that will return \"easy\" if the player scores less than 20, \"medium\" if the player scores greater than or equal to 20 but less than 50, or \"hard\" if the player scores greater than or equal to 50."
      ],
      "metadata": {
        "id": "3F3Z-FBPE922"
      }
    },
    {
      "cell_type": "code",
      "source": [
        "def change_difficulty(score):\n",
        "  ### START CODE ### (approx. 6 lines)\n",
        "  if score < 20:\n",
        "    return \"easy\"\n",
        "  elif score >= 20 and score < 50:\n",
        "    return \"medium\"\n",
        "  elif score >= 50:\n",
        "    return \"hard\"\n",
        "  ### END CODE ###"
      ],
      "metadata": {
        "id": "BN_Pxj2CFGJx"
      },
      "execution_count": 18,
      "outputs": []
    },
    {
      "cell_type": "code",
      "source": [
        "change_difficulty(17)"
      ],
      "metadata": {
        "colab": {
          "base_uri": "https://localhost:8080/",
          "height": 35
        },
        "id": "axZ73NPUJsMw",
        "outputId": "4ec66b5b-f434-4cbd-e0dd-55c877e3f67f"
      },
      "execution_count": 19,
      "outputs": [
        {
          "output_type": "execute_result",
          "data": {
            "text/plain": [
              "'easy'"
            ],
            "application/vnd.google.colaboratory.intrinsic+json": {
              "type": "string"
            }
          },
          "metadata": {},
          "execution_count": 19
        }
      ]
    },
    {
      "cell_type": "code",
      "source": [
        "change_difficulty(32)"
      ],
      "metadata": {
        "colab": {
          "base_uri": "https://localhost:8080/",
          "height": 35
        },
        "id": "lREYOYW4Jtli",
        "outputId": "5e241e6b-7ae9-4e35-aaa3-a5ca7bce29e5"
      },
      "execution_count": 20,
      "outputs": [
        {
          "output_type": "execute_result",
          "data": {
            "text/plain": [
              "'medium'"
            ],
            "application/vnd.google.colaboratory.intrinsic+json": {
              "type": "string"
            }
          },
          "metadata": {},
          "execution_count": 20
        }
      ]
    },
    {
      "cell_type": "code",
      "source": [
        "change_difficulty(63)"
      ],
      "metadata": {
        "colab": {
          "base_uri": "https://localhost:8080/",
          "height": 35
        },
        "id": "FRFpsc0hJt2_",
        "outputId": "15232a23-5d1d-4b0a-c837-032da669b1b9"
      },
      "execution_count": 21,
      "outputs": [
        {
          "output_type": "execute_result",
          "data": {
            "text/plain": [
              "'hard'"
            ],
            "application/vnd.google.colaboratory.intrinsic+json": {
              "type": "string"
            }
          },
          "metadata": {},
          "execution_count": 21
        }
      ]
    },
    {
      "cell_type": "markdown",
      "source": [
        "**Question 7**: Write a function `count_down` that uses a `for` loop to print 1 to 10 in reverse order."
      ],
      "metadata": {
        "id": "FLMT8B3OFRWP"
      }
    },
    {
      "cell_type": "code",
      "source": [
        "def count_down():\n",
        "  ### START CODE ### (approx. 4 lines)\n",
        "  count = 10\n",
        "  for number in range(0, 10):\n",
        "    print(count)\n",
        "    count = count - 1\n",
        "  ### END CODE ###"
      ],
      "metadata": {
        "id": "zrzj6WjUH5--"
      },
      "execution_count": 22,
      "outputs": []
    },
    {
      "cell_type": "code",
      "source": [
        "count_down()"
      ],
      "metadata": {
        "colab": {
          "base_uri": "https://localhost:8080/"
        },
        "id": "ap3suvxBKFn6",
        "outputId": "e0d2d90d-4da9-4d57-95e5-d992991f40d2"
      },
      "execution_count": 23,
      "outputs": [
        {
          "output_type": "stream",
          "name": "stdout",
          "text": [
            "10\n",
            "9\n",
            "8\n",
            "7\n",
            "6\n",
            "5\n",
            "4\n",
            "3\n",
            "2\n",
            "1\n"
          ]
        }
      ]
    },
    {
      "cell_type": "markdown",
      "source": [
        "**Question 8**: Write a function `FizzBuzz` that prints integers 1 to 100, but prints \"Fizz\" if the integer is divisible by three, \"Buzz\" if the integer is divisible by 5, and \"FizzBuzz\" if the integer is divisible by both 3 and 5. \n",
        "\n",
        "For example: `1, 2, Fizz, 4, Buzz, Fizz, 7, 8, Fizz, Buzz, 11, Fizz, 13, 14, FizzBuzz, 16, etc. `\n",
        "\n",
        "**CHALLENGE**: Use three or less conditional statements."
      ],
      "metadata": {
        "id": "7rEHZrdvFtOw"
      }
    },
    {
      "cell_type": "code",
      "source": [
        "def FizzBuzz():\n",
        "  ### START CODE ### (approx. 9 lines)\n",
        "  for number in range (1, 100):\n",
        "    output = \"\"\n",
        "    if number % 3 == 0:\n",
        "      output = output + \"Fizz\"\n",
        "    if number % 5 == 0:\n",
        "      output = output + \"Buzz\"\n",
        "    if number % 3 != 0 and number % 5 != 0:\n",
        "      output = number\n",
        "    print(output)\n",
        "  ### END CODE ###"
      ],
      "metadata": {
        "id": "EuDD-uryFa1q"
      },
      "execution_count": 26,
      "outputs": []
    },
    {
      "cell_type": "code",
      "source": [
        "FizzBuzz()"
      ],
      "metadata": {
        "colab": {
          "base_uri": "https://localhost:8080/"
        },
        "id": "ZQCHW04cKcFs",
        "outputId": "4cd281ac-a624-4cca-a7df-f1799ac9cec9"
      },
      "execution_count": 27,
      "outputs": [
        {
          "output_type": "stream",
          "name": "stdout",
          "text": [
            "1\n",
            "2\n",
            "Fizz\n",
            "4\n",
            "Buzz\n",
            "Fizz\n",
            "7\n",
            "8\n",
            "Fizz\n",
            "Buzz\n",
            "11\n",
            "Fizz\n",
            "13\n",
            "14\n",
            "FizzBuzz\n",
            "16\n",
            "17\n",
            "Fizz\n",
            "19\n",
            "Buzz\n",
            "Fizz\n",
            "22\n",
            "23\n",
            "Fizz\n",
            "Buzz\n",
            "26\n",
            "Fizz\n",
            "28\n",
            "29\n",
            "FizzBuzz\n",
            "31\n",
            "32\n",
            "Fizz\n",
            "34\n",
            "Buzz\n",
            "Fizz\n",
            "37\n",
            "38\n",
            "Fizz\n",
            "Buzz\n",
            "41\n",
            "Fizz\n",
            "43\n",
            "44\n",
            "FizzBuzz\n",
            "46\n",
            "47\n",
            "Fizz\n",
            "49\n",
            "Buzz\n",
            "Fizz\n",
            "52\n",
            "53\n",
            "Fizz\n",
            "Buzz\n",
            "56\n",
            "Fizz\n",
            "58\n",
            "59\n",
            "FizzBuzz\n",
            "61\n",
            "62\n",
            "Fizz\n",
            "64\n",
            "Buzz\n",
            "Fizz\n",
            "67\n",
            "68\n",
            "Fizz\n",
            "Buzz\n",
            "71\n",
            "Fizz\n",
            "73\n",
            "74\n",
            "FizzBuzz\n",
            "76\n",
            "77\n",
            "Fizz\n",
            "79\n",
            "Buzz\n",
            "Fizz\n",
            "82\n",
            "83\n",
            "Fizz\n",
            "Buzz\n",
            "86\n",
            "Fizz\n",
            "88\n",
            "89\n",
            "FizzBuzz\n",
            "91\n",
            "92\n",
            "Fizz\n",
            "94\n",
            "Buzz\n",
            "Fizz\n",
            "97\n",
            "98\n",
            "Fizz\n"
          ]
        }
      ]
    }
  ]
}